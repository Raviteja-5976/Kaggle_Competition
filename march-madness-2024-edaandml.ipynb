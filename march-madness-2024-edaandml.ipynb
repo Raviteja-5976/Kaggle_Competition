{
 "cells": [
  {
   "cell_type": "markdown",
   "id": "3906e159",
   "metadata": {
    "papermill": {
     "duration": 0.02631,
     "end_time": "2024-03-16T17:54:11.912228",
     "exception": false,
     "start_time": "2024-03-16T17:54:11.885918",
     "status": "completed"
    },
    "tags": []
   },
   "source": [
    "# **0. Introduction - NCAA Basketball Tournament Forecasting Project**\n",
    "\n",
    "**Project Objective:**\n",
    "\n",
    "Forecasting the results of the 2024 collegiate basketball tournament using historical data by presenting a portfolio of brackets for both the men's and women's divisions.\n",
    "\n",
    "**What is NCAA?**\n",
    "\n",
    "The National Collegiate Athletic Association(NCAA) is the American organization in charge of overseeing college athletics. It hosts a variety of sporting events, such as the eagerly awaited collegiate basketball competitions for both sexes. Sports lovers and aficionados follow these tournaments closely as they feature elite college teams competing for championship crowns.\n",
    "\n",
    "**What is March Madness?**\n",
    "\n",
    "\"March Madness\" refers to the annual NCAA Basketball Tournament, a single-elimination college basketball competition that takes place in the United States. The tournament typically occurs in March and April, involving 68 college basketball teams from the Division I level of the National Collegiate Athletic Association (NCAA). The competition culminates with the crowning of the national champion.\n",
    "\n",
    "\n"
   ]
  },
  {
   "cell_type": "markdown",
   "id": "ddef2a0a",
   "metadata": {
    "papermill": {
     "duration": 0.025433,
     "end_time": "2024-03-16T17:54:11.962415",
     "exception": false,
     "start_time": "2024-03-16T17:54:11.936982",
     "status": "completed"
    },
    "tags": []
   },
   "source": [
    "![](https://www.ncaa.com/_flysystem/public-s3/images/2024/01/10/2024-ncaa-tournament-bracket-march-madness.jpg)"
   ]
  },
  {
   "cell_type": "markdown",
   "id": "e63e1b9f",
   "metadata": {
    "papermill": {
     "duration": 0.024243,
     "end_time": "2024-03-16T17:54:12.011821",
     "exception": false,
     "start_time": "2024-03-16T17:54:11.987578",
     "status": "completed"
    },
    "tags": []
   },
   "source": [
    "**Schedule**\n",
    "\n",
    "2024 NCAA men's basketball tournament for March Madness: \n",
    "* Selection Sunday: Sunday, March 17\n",
    "* First Four: March 19-20\n",
    "* First round: March 21-22\n",
    "* Second round: March 23-24 \n",
    "* Sweet 16: March 28-29 \n",
    "* Elite Eight: March 30-31 \n",
    "* Final Four: Saturday, April 6\n",
    "* NCAA championship game: Monday, April 8\n",
    "\n",
    "\n",
    "2024 NCAA women's basketball tournament for March Madness:\n",
    "* Selection Sunday: 8 p.m. ET Sunday, March 17 on ESPN\n",
    "* First Four: March 20-21\n",
    "* First round: March 22-23\n",
    "* Second round: March 24-25\n",
    "* Sweet 16: March 29-30\n",
    "* Elite Eight: March 31-April 1\n",
    "* Final Four: Friday, April 5 at 7:30 and 9 p.m. ET on ESPN, hosted at Rocket Mortgage FieldHouse in Cleveland, Ohio. \n",
    "* NCAA championship game: Sunday, April 7 at 3 p.m. ET on ABC, hosted at Rocket Mortgage FieldHouse in Cleveland, Ohio."
   ]
  },
  {
   "cell_type": "markdown",
   "id": "9abe01bd",
   "metadata": {
    "papermill": {
     "duration": 0.024529,
     "end_time": "2024-03-16T17:54:12.060949",
     "exception": false,
     "start_time": "2024-03-16T17:54:12.036420",
     "status": "completed"
    },
    "tags": []
   },
   "source": [
    "# **1. Data Loading & Synopsis:**\n",
    "**1.1 Data Loading**"
   ]
  },
  {
   "cell_type": "code",
   "execution_count": 9,
   "id": "c3e065a5",
   "metadata": {
    "execution": {
     "iopub.execute_input": "2024-03-16T17:54:12.114641Z",
     "iopub.status.busy": "2024-03-16T17:54:12.113843Z",
     "iopub.status.idle": "2024-03-16T17:54:13.029887Z",
     "shell.execute_reply": "2024-03-16T17:54:13.028367Z"
    },
    "papermill": {
     "duration": 0.946746,
     "end_time": "2024-03-16T17:54:13.032894",
     "exception": false,
     "start_time": "2024-03-16T17:54:12.086148",
     "status": "completed"
    },
    "tags": []
   },
   "outputs": [],
   "source": [
    "import numpy as np # linear algebra\n",
    "import pandas as pd \n",
    "import matplotlib.pyplot as plt\n",
    "\n",
    "\n",
    "folder = 'data/'"
   ]
  },
  {
   "cell_type": "code",
   "execution_count": 10,
   "id": "87cb8bae",
   "metadata": {
    "execution": {
     "iopub.execute_input": "2024-03-16T17:54:13.085002Z",
     "iopub.status.busy": "2024-03-16T17:54:13.084494Z",
     "iopub.status.idle": "2024-03-16T17:54:19.796069Z",
     "shell.execute_reply": "2024-03-16T17:54:19.794810Z"
    },
    "papermill": {
     "duration": 6.74117,
     "end_time": "2024-03-16T17:54:19.799325",
     "exception": false,
     "start_time": "2024-03-16T17:54:13.058155",
     "status": "completed"
    },
    "tags": []
   },
   "outputs": [],
   "source": [
    "# data Section -1 The Basics:\n",
    "MTeams = pd.read_csv(folder+'MTeams.csv')\n",
    "WTeams = pd.read_csv(folder+'WTeams.csv')\n",
    "MSeasons = pd.read_csv(folder+'MSeasons.csv')\n",
    "WSeasons = pd.read_csv(folder+'WSeasons.csv')\n",
    "MNCAATourneySeeds = pd.read_csv(folder+'MNCAATourneySeeds.csv')\n",
    "WNCAATourneySeeds = pd.read_csv(folder+'WNCAATourneySeeds.csv')\n",
    "\n",
    "# data Section -2 Team Box Scores:\n",
    "MRegualarSeasonCompactResults = pd.read_csv(folder+'MRegularSeasonCompactResults.csv')\n",
    "WRegualrSeasonCompactResults = pd.read_csv(folder+'WRegularSeasonCompactResults.csv')\n",
    "\n",
    "MNCAATourneyCompactResults = pd.read_csv(folder+'MNCAATourneyCompactResults.csv')\n",
    "WNCAATourneyCompactResults = pd.read_csv(folder+'WNCAATourneyCompactResults.csv')\n",
    "\n",
    "MRegularSeasonDetailedResults = pd.read_csv(folder+'MRegularSeasonDetailedResults.csv')\n",
    "WRegularSeasonDetailedResults = pd.read_csv(folder+'WRegularSeasonDetailedResults.csv')\n",
    "\n",
    "MNCAATourneyDetailedResults = pd.read_csv(folder+'MNCAATourneyDetailedResults.csv')\n",
    "WNCAATourneyDetailedResults = pd.read_csv(folder+'WNCAATourneyDetailedResults.csv')\n",
    "\n",
    "#Data Section -3 Geography:\n",
    "Cities = pd.read_csv(folder+'Cities.csv')\n",
    "\n",
    "MGAameCities = pd.read_csv(folder+'MGameCities.csv')\n",
    "WGameCities = pd.read_csv(folder+'WGameCities.csv')\n",
    "\n",
    "#Data Section -4 Public Rankings:\n",
    "MMasseyOrdinals = pd.read_csv(folder+'MMasseyOrdinals.csv')\n",
    "\n",
    "#Data Section -5 Supplements:\n",
    "MTeamCoaches = pd.read_csv(folder+'MTeamCoaches.csv')\n",
    "\n",
    "Conferences = pd.read_csv(folder+'Conferences.csv')\n",
    "\n",
    "MTeamConferences = pd.read_csv(folder+'MTeamConferences.csv')\n",
    "WTeamConferences = pd.read_csv(folder+'WTeamConferences.csv')\n",
    "\n",
    "MConferenceTourneyGames = pd.read_csv(folder+'MConferenceTourneyGames.csv')\n",
    "\n",
    "MSecondaryTourneyTeams = pd.read_csv(folder+'MSecondaryTourneyTeams.csv')\n",
    "\n",
    "MSecondaryTourneyCompactResults = pd.read_csv(folder+'MSecondaryTourneyCompactResults.csv')\n",
    "\n",
    "MTeamSpellings = pd.read_csv(folder+'MTeamSpellings.csv', encoding='latin1')\n",
    "WTeamSpellings = pd.read_csv(folder+'WTeamSpellings.csv', encoding='latin1')\n",
    "\n",
    "MCAATourneySlots = pd.read_csv(folder+'MNCAATourneySlots.csv')\n",
    "WCAATourneySlots = pd.read_csv(folder+'WNCAATourneySlots.csv')\n",
    "\n",
    "MCAATourneySeedRoundSlots = pd.read_csv(folder+'MNCAATourneySeedRoundSlots.csv')\n",
    "\n",
    "# Data Section -6 Others:\n",
    "# tourney_seeds_2024 = pd.read_csv(folder+'tourney_seeds_2024.csv')\n",
    "\n",
    "\n",
    "sample_submission = pd.read_csv(folder+'SampleSubmissionStage1.csv')"
   ]
  },
  {
   "cell_type": "markdown",
   "id": "584eb945",
   "metadata": {
    "papermill": {
     "duration": 0.024394,
     "end_time": "2024-03-16T17:54:19.849487",
     "exception": false,
     "start_time": "2024-03-16T17:54:19.825093",
     "status": "completed"
    },
    "tags": []
   },
   "source": [
    "**1.2 Data Synopsis**\n",
    "> The dataset provided for the NCAA basketball tournament forecasting project includes extensive historical data about college basketball games and teams spanning several years. This data encompasses regular season games, conference tournaments, and the NCAA tournaments for both men and women."
   ]
  },
  {
   "cell_type": "markdown",
   "id": "aad89490",
   "metadata": {
    "papermill": {
     "duration": 0.024476,
     "end_time": "2024-03-16T17:54:19.898547",
     "exception": false,
     "start_time": "2024-03-16T17:54:19.874071",
     "status": "completed"
    },
    "tags": []
   },
   "source": [
    "\n",
    "**Sections 1: Basic Tournament Information**\n",
    "> Contains essential details about tournament game results, team matchups, and scores.\n",
    "\n",
    "**Sections 2: Detailed Tournament Results** \n",
    "> Provides in-depth statistics for each tournament game, offering insights into player performance.\n",
    "\n",
    "**Sections 3: Team Seeds and Regions**\n",
    "> Enlists team seeds and regions, crucial for understanding tournament brackets.\n",
    "\n",
    "**Sections 4: Season Information**\n",
    "> Contains details about each season, including the year and associated tournament.\n",
    "\n",
    "**Sections 5: Supplementary Information**\n",
    "* **Coaches Information**: Lists head coaches for each team in each season. Indicates the start and finish range of DayNum for mid-season coaching changes.\n",
    "* **Conference Details**: Provides information about Division I conferences with abbreviations and longer names. <\n",
    "* **Team Conference Affiliations**: Indicates team conference affiliations for each season.\n",
    "* **Conference Tournament Games**: Identifies games in post-season men's conference tournaments.\n",
    "* **Secondary Tournament Teams**: Lists teams participating in post-season men's tournaments other than the NCAA Tournament.\n",
    "* **Secondary Tournament Results**: Indicates final scores for secondary post-season tournaments like NIT, CBI, CIT, V16, and TBC.\n",
    "* **Alternative Team Spellings**: Provides alternative spellings of team names for matching with external data.\n",
    "* **Tournament Slots and Pairings**: Identifies pairings and slots for each tournament game, essential for bracket structure.\n",
    "* **Bracket Structure Information**: Represents men's bracket structure, mapping seeds to bracket slots for each game round."
   ]
  },
  {
   "cell_type": "markdown",
   "id": "a309ec49",
   "metadata": {
    "papermill": {
     "duration": 0.024184,
     "end_time": "2024-03-16T17:54:19.947270",
     "exception": false,
     "start_time": "2024-03-16T17:54:19.923086",
     "status": "completed"
    },
    "tags": []
   },
   "source": [
    "# 2. **Exploratory Data Analysis (EDA):**"
   ]
  },
  {
   "cell_type": "markdown",
   "id": "912ef3a8",
   "metadata": {
    "papermill": {
     "duration": 0.025192,
     "end_time": "2024-03-16T17:54:19.997239",
     "exception": false,
     "start_time": "2024-03-16T17:54:19.972047",
     "status": "completed"
    },
    "tags": []
   },
   "source": []
  },
  {
   "cell_type": "markdown",
   "id": "0c92e814",
   "metadata": {
    "papermill": {
     "duration": 0.025294,
     "end_time": "2024-03-16T17:54:20.049406",
     "exception": false,
     "start_time": "2024-03-16T17:54:20.024112",
     "status": "completed"
    },
    "tags": []
   },
   "source": [
    "**2.1 FirstD1Season**\n",
    "\n",
    "**Men**"
   ]
  },
  {
   "cell_type": "code",
   "execution_count": 11,
   "id": "2cce1860",
   "metadata": {
    "execution": {
     "iopub.execute_input": "2024-03-16T17:54:20.101743Z",
     "iopub.status.busy": "2024-03-16T17:54:20.101325Z",
     "iopub.status.idle": "2024-03-16T17:54:20.140594Z",
     "shell.execute_reply": "2024-03-16T17:54:20.139448Z"
    },
    "papermill": {
     "duration": 0.068783,
     "end_time": "2024-03-16T17:54:20.143141",
     "exception": false,
     "start_time": "2024-03-16T17:54:20.074358",
     "status": "completed"
    },
    "tags": []
   },
   "outputs": [
    {
     "ename": "NameError",
     "evalue": "name 'tourney_seeds_2024' is not defined",
     "output_type": "error",
     "traceback": [
      "\u001b[31m---------------------------------------------------------------------------\u001b[39m",
      "\u001b[31mNameError\u001b[39m                                 Traceback (most recent call last)",
      "\u001b[36mCell\u001b[39m\u001b[36m \u001b[39m\u001b[32mIn[11]\u001b[39m\u001b[32m, line 1\u001b[39m\n\u001b[32m----> \u001b[39m\u001b[32m1\u001b[39m tourney_seeds_2024_MTeam = \u001b[43mtourney_seeds_2024\u001b[49m[tourney_seeds_2024[\u001b[33m'\u001b[39m\u001b[33mTournament\u001b[39m\u001b[33m'\u001b[39m] == \u001b[33m'\u001b[39m\u001b[33mM\u001b[39m\u001b[33m'\u001b[39m]\n\u001b[32m      2\u001b[39m tourney_seeds_2024_MTeam = pd.merge(tourney_seeds_2024_MTeam, MTeams, on=\u001b[33m'\u001b[39m\u001b[33mTeamID\u001b[39m\u001b[33m'\u001b[39m, how=\u001b[33m'\u001b[39m\u001b[33mleft\u001b[39m\u001b[33m'\u001b[39m)\n\u001b[32m      3\u001b[39m tourney_seeds_2024_MTeam.head()\n",
      "\u001b[31mNameError\u001b[39m: name 'tourney_seeds_2024' is not defined"
     ]
    }
   ],
   "source": [
    "tourney_seeds_2024_MTeam = tourney_seeds_2024[tourney_seeds_2024['Tournament'] == 'M']\n",
    "tourney_seeds_2024_MTeam = pd.merge(tourney_seeds_2024_MTeam, MTeams, on='TeamID', how='left')\n",
    "tourney_seeds_2024_MTeam.head()"
   ]
  },
  {
   "cell_type": "code",
   "execution_count": null,
   "id": "e9a73a3f",
   "metadata": {
    "execution": {
     "iopub.execute_input": "2024-03-16T17:54:20.195967Z",
     "iopub.status.busy": "2024-03-16T17:54:20.195489Z",
     "iopub.status.idle": "2024-03-16T17:54:20.582611Z",
     "shell.execute_reply": "2024-03-16T17:54:20.581198Z"
    },
    "papermill": {
     "duration": 0.416459,
     "end_time": "2024-03-16T17:54:20.585156",
     "exception": false,
     "start_time": "2024-03-16T17:54:20.168697",
     "status": "completed"
    },
    "tags": []
   },
   "outputs": [
    {
     "data": {
      "image/png": "[encoded data removed]",
      "text/plain": [
       "<Figure size 1000x600 with 1 Axes>"
      ]
     },
     "metadata": {},
     "output_type": "display_data"
    }
   ],
   "source": [
    "\n",
    "\n",
    "# Create a histogram of FirstD1Season\n",
    "plt.figure(figsize=(10, 6))\n",
    "plt.hist(tourney_seeds_2024_MTeam['FirstD1Season'], bins=30, color='skyblue', edgecolor='black')\n",
    "\n",
    "# Set labels and title\n",
    "plt.xlabel('FirstD1Season')\n",
    "plt.ylabel('Frequency')\n",
    "plt.title('Histogram of FirstD1Season in 2024 Tournament Seeds')\n",
    "\n",
    "# Show the plot\n",
    "plt.show()"
   ]
  },
  {
   "cell_type": "markdown",
   "id": "dc1abd3b",
   "metadata": {
    "papermill": {
     "duration": 0.026107,
     "end_time": "2024-03-16T17:54:20.637913",
     "exception": false,
     "start_time": "2024-03-16T17:54:20.611806",
     "status": "completed"
    },
    "tags": []
   },
   "source": [
    "**Women**"
   ]
  },
  {
   "cell_type": "code",
   "execution_count": 5,
   "id": "82642050",
   "metadata": {
    "execution": {
     "iopub.execute_input": "2024-03-16T17:54:20.693608Z",
     "iopub.status.busy": "2024-03-16T17:54:20.692768Z",
     "iopub.status.idle": "2024-03-16T17:54:20.708953Z",
     "shell.execute_reply": "2024-03-16T17:54:20.707843Z"
    },
    "papermill": {
     "duration": 0.046622,
     "end_time": "2024-03-16T17:54:20.711472",
     "exception": false,
     "start_time": "2024-03-16T17:54:20.664850",
     "status": "completed"
    },
    "tags": []
   },
   "outputs": [
    {
     "data": {
      "text/html": [
       "<div>\n",
       "<style scoped>\n",
       "    .dataframe tbody tr th:only-of-type {\n",
       "        vertical-align: middle;\n",
       "    }\n",
       "\n",
       "    .dataframe tbody tr th {\n",
       "        vertical-align: top;\n",
       "    }\n",
       "\n",
       "    .dataframe thead th {\n",
       "        text-align: right;\n",
       "    }\n",
       "</style>\n",
       "<table border=\"1\" class=\"dataframe\">\n",
       "  <thead>\n",
       "    <tr style=\"text-align: right;\">\n",
       "      <th></th>\n",
       "      <th>Tournament</th>\n",
       "      <th>Seed</th>\n",
       "      <th>TeamID</th>\n",
       "      <th>TeamName</th>\n",
       "    </tr>\n",
       "  </thead>\n",
       "  <tbody>\n",
       "    <tr>\n",
       "      <th>0</th>\n",
       "      <td>W</td>\n",
       "      <td>W01</td>\n",
       "      <td>3376</td>\n",
       "      <td>South Carolina</td>\n",
       "    </tr>\n",
       "    <tr>\n",
       "      <th>1</th>\n",
       "      <td>W</td>\n",
       "      <td>W02</td>\n",
       "      <td>3268</td>\n",
       "      <td>Maryland</td>\n",
       "    </tr>\n",
       "    <tr>\n",
       "      <th>2</th>\n",
       "      <td>W</td>\n",
       "      <td>W03</td>\n",
       "      <td>3323</td>\n",
       "      <td>Notre Dame</td>\n",
       "    </tr>\n",
       "    <tr>\n",
       "      <th>3</th>\n",
       "      <td>W</td>\n",
       "      <td>W04</td>\n",
       "      <td>3417</td>\n",
       "      <td>UCLA</td>\n",
       "    </tr>\n",
       "    <tr>\n",
       "      <th>4</th>\n",
       "      <td>W</td>\n",
       "      <td>W05</td>\n",
       "      <td>3328</td>\n",
       "      <td>Oklahoma</td>\n",
       "    </tr>\n",
       "  </tbody>\n",
       "</table>\n",
       "</div>"
      ],
      "text/plain": [
       "  Tournament Seed  TeamID        TeamName\n",
       "0          W  W01    3376  South Carolina\n",
       "1          W  W02    3268        Maryland\n",
       "2          W  W03    3323      Notre Dame\n",
       "3          W  W04    3417            UCLA\n",
       "4          W  W05    3328        Oklahoma"
      ]
     },
     "execution_count": 5,
     "metadata": {},
     "output_type": "execute_result"
    }
   ],
   "source": [
    "tourney_seeds_2024_WTeam = tourney_seeds_2024[tourney_seeds_2024['Tournament'] == 'W']\n",
    "tourney_seeds_2024_WTeam = pd.merge(tourney_seeds_2024_WTeam, WTeams, on='TeamID', how='left')\n",
    "tourney_seeds_2024_WTeam.head()"
   ]
  },
  {
   "cell_type": "markdown",
   "id": "9d839c0c",
   "metadata": {
    "papermill": {
     "duration": 0.025591,
     "end_time": "2024-03-16T17:54:20.764175",
     "exception": false,
     "start_time": "2024-03-16T17:54:20.738584",
     "status": "completed"
    },
    "tags": []
   },
   "source": [
    "**2.2 History Seed Rank**\n",
    "\n",
    "**Men**"
   ]
  },
  {
   "cell_type": "code",
   "execution_count": 12,
   "id": "40bb670a",
   "metadata": {
    "execution": {
     "iopub.execute_input": "2024-03-16T17:54:20.818392Z",
     "iopub.status.busy": "2024-03-16T17:54:20.817704Z",
     "iopub.status.idle": "2024-03-16T17:54:20.852841Z",
     "shell.execute_reply": "2024-03-16T17:54:20.851706Z"
    },
    "papermill": {
     "duration": 0.065266,
     "end_time": "2024-03-16T17:54:20.855421",
     "exception": false,
     "start_time": "2024-03-16T17:54:20.790155",
     "status": "completed"
    },
    "tags": []
   },
   "outputs": [
    {
     "data": {
      "application/vnd.microsoft.datawrangler.viewer.v0+json": {
       "columns": [
        {
         "name": "index",
         "rawType": "int64",
         "type": "integer"
        },
        {
         "name": "Season",
         "rawType": "int64",
         "type": "integer"
        },
        {
         "name": "DayNum",
         "rawType": "int64",
         "type": "integer"
        },
        {
         "name": "WTeamID",
         "rawType": "int64",
         "type": "integer"
        },
        {
         "name": "WScore",
         "rawType": "int64",
         "type": "integer"
        },
        {
         "name": "LTeamID",
         "rawType": "int64",
         "type": "integer"
        },
        {
         "name": "LScore",
         "rawType": "int64",
         "type": "integer"
        },
        {
         "name": "WLoc",
         "rawType": "object",
         "type": "string"
        },
        {
         "name": "NumOT",
         "rawType": "int64",
         "type": "integer"
        },
        {
         "name": "WSeed",
         "rawType": "object",
         "type": "string"
        },
        {
         "name": "LSeed",
         "rawType": "object",
         "type": "string"
        },
        {
         "name": "WRank",
         "rawType": "int64",
         "type": "integer"
        },
        {
         "name": "LRank",
         "rawType": "int64",
         "type": "integer"
        },
        {
         "name": "RankDiff",
         "rawType": "int64",
         "type": "integer"
        }
       ],
       "conversionMethod": "pd.DataFrame",
       "ref": "3ef1d15d-2ac5-4b45-8582-6aa07ed19732",
       "rows": [
        [
         "0",
         "2003",
         "134",
         "1421",
         "92",
         "1411",
         "84",
         "N",
         "1",
         "X16b",
         "X16a",
         "16",
         "16",
         "0"
        ],
        [
         "1",
         "2003",
         "136",
         "1112",
         "80",
         "1436",
         "51",
         "N",
         "0",
         "Z01",
         "Z16",
         "1",
         "16",
         "15"
        ],
        [
         "2",
         "2003",
         "136",
         "1113",
         "84",
         "1272",
         "71",
         "N",
         "0",
         "Z10",
         "Z07",
         "10",
         "7",
         "-3"
        ],
        [
         "3",
         "2003",
         "136",
         "1141",
         "79",
         "1166",
         "73",
         "N",
         "0",
         "Z11",
         "Z06",
         "11",
         "6",
         "-5"
        ],
        [
         "4",
         "2003",
         "136",
         "1143",
         "76",
         "1301",
         "74",
         "N",
         "1",
         "W08",
         "W09",
         "8",
         "9",
         "1"
        ]
       ],
       "shape": {
        "columns": 13,
        "rows": 5
       }
      },
      "text/html": [
       "<div>\n",
       "<style scoped>\n",
       "    .dataframe tbody tr th:only-of-type {\n",
       "        vertical-align: middle;\n",
       "    }\n",
       "\n",
       "    .dataframe tbody tr th {\n",
       "        vertical-align: top;\n",
       "    }\n",
       "\n",
       "    .dataframe thead th {\n",
       "        text-align: right;\n",
       "    }\n",
       "</style>\n",
       "<table border=\"1\" class=\"dataframe\">\n",
       "  <thead>\n",
       "    <tr style=\"text-align: right;\">\n",
       "      <th></th>\n",
       "      <th>Season</th>\n",
       "      <th>DayNum</th>\n",
       "      <th>WTeamID</th>\n",
       "      <th>WScore</th>\n",
       "      <th>LTeamID</th>\n",
       "      <th>LScore</th>\n",
       "      <th>WLoc</th>\n",
       "      <th>NumOT</th>\n",
       "      <th>WSeed</th>\n",
       "      <th>LSeed</th>\n",
       "      <th>WRank</th>\n",
       "      <th>LRank</th>\n",
       "      <th>RankDiff</th>\n",
       "    </tr>\n",
       "  </thead>\n",
       "  <tbody>\n",
       "    <tr>\n",
       "      <th>0</th>\n",
       "      <td>2003</td>\n",
       "      <td>134</td>\n",
       "      <td>1421</td>\n",
       "      <td>92</td>\n",
       "      <td>1411</td>\n",
       "      <td>84</td>\n",
       "      <td>N</td>\n",
       "      <td>1</td>\n",
       "      <td>X16b</td>\n",
       "      <td>X16a</td>\n",
       "      <td>16</td>\n",
       "      <td>16</td>\n",
       "      <td>0</td>\n",
       "    </tr>\n",
       "    <tr>\n",
       "      <th>1</th>\n",
       "      <td>2003</td>\n",
       "      <td>136</td>\n",
       "      <td>1112</td>\n",
       "      <td>80</td>\n",
       "      <td>1436</td>\n",
       "      <td>51</td>\n",
       "      <td>N</td>\n",
       "      <td>0</td>\n",
       "      <td>Z01</td>\n",
       "      <td>Z16</td>\n",
       "      <td>1</td>\n",
       "      <td>16</td>\n",
       "      <td>15</td>\n",
       "    </tr>\n",
       "    <tr>\n",
       "      <th>2</th>\n",
       "      <td>2003</td>\n",
       "      <td>136</td>\n",
       "      <td>1113</td>\n",
       "      <td>84</td>\n",
       "      <td>1272</td>\n",
       "      <td>71</td>\n",
       "      <td>N</td>\n",
       "      <td>0</td>\n",
       "      <td>Z10</td>\n",
       "      <td>Z07</td>\n",
       "      <td>10</td>\n",
       "      <td>7</td>\n",
       "      <td>-3</td>\n",
       "    </tr>\n",
       "    <tr>\n",
       "      <th>3</th>\n",
       "      <td>2003</td>\n",
       "      <td>136</td>\n",
       "      <td>1141</td>\n",
       "      <td>79</td>\n",
       "      <td>1166</td>\n",
       "      <td>73</td>\n",
       "      <td>N</td>\n",
       "      <td>0</td>\n",
       "      <td>Z11</td>\n",
       "      <td>Z06</td>\n",
       "      <td>11</td>\n",
       "      <td>6</td>\n",
       "      <td>-5</td>\n",
       "    </tr>\n",
       "    <tr>\n",
       "      <th>4</th>\n",
       "      <td>2003</td>\n",
       "      <td>136</td>\n",
       "      <td>1143</td>\n",
       "      <td>76</td>\n",
       "      <td>1301</td>\n",
       "      <td>74</td>\n",
       "      <td>N</td>\n",
       "      <td>1</td>\n",
       "      <td>W08</td>\n",
       "      <td>W09</td>\n",
       "      <td>8</td>\n",
       "      <td>9</td>\n",
       "      <td>1</td>\n",
       "    </tr>\n",
       "  </tbody>\n",
       "</table>\n",
       "</div>"
      ],
      "text/plain": [
       "   Season  DayNum  WTeamID  WScore  LTeamID  LScore WLoc  NumOT WSeed LSeed  \\\n",
       "0    2003     134     1421      92     1411      84    N      1  X16b  X16a   \n",
       "1    2003     136     1112      80     1436      51    N      0   Z01   Z16   \n",
       "2    2003     136     1113      84     1272      71    N      0   Z10   Z07   \n",
       "3    2003     136     1141      79     1166      73    N      0   Z11   Z06   \n",
       "4    2003     136     1143      76     1301      74    N      1   W08   W09   \n",
       "\n",
       "   WRank  LRank  RankDiff  \n",
       "0     16     16         0  \n",
       "1      1     16        15  \n",
       "2     10      7        -3  \n",
       "3     11      6        -5  \n",
       "4      8      9         1  "
      ]
     },
     "execution_count": 12,
     "metadata": {},
     "output_type": "execute_result"
    }
   ],
   "source": [
    "MNCAATourneyCompactResults_2003 = MNCAATourneyCompactResults[MNCAATourneyCompactResults['Season']>=2003]\n",
    "MNCAATourneyCompactResults_2003\n",
    "\n",
    "df_merged_seeds_M = pd.merge(MNCAATourneyCompactResults_2003, MNCAATourneySeeds[['Season','TeamID','Seed']], left_on=['Season','WTeamID'], right_on=['Season','TeamID'], how='left').rename(columns={'Seed':'WSeed'})\n",
    "df_merged_seeds_M = pd.merge(df_merged_seeds_M, MNCAATourneySeeds[['Season','TeamID','Seed']], left_on=['Season','LTeamID'], right_on=['Season','TeamID'], how='left').rename(columns={'Seed':'LSeed'})\n",
    "\n",
    "df_merged_seeds_M['WRank'] = df_merged_seeds_M['WSeed'].str[1:3].astype(int)\n",
    "df_merged_seeds_M['LRank'] = df_merged_seeds_M['LSeed'].str[1:3].astype(int)\n",
    "df_merged_seeds_M['RankDiff'] = df_merged_seeds_M['LRank'] - df_merged_seeds_M['WRank']\n",
    "\n",
    "columns_to_delete = ['TeamID_x', 'TeamID_y']\n",
    "df_merged_seeds_M = df_merged_seeds_M.drop(columns=columns_to_delete)\n",
    "df_merged_seeds_M.head()"
   ]
  },
  {
   "cell_type": "markdown",
   "id": "56e51769",
   "metadata": {
    "papermill": {
     "duration": 0.025931,
     "end_time": "2024-03-16T17:54:20.908414",
     "exception": false,
     "start_time": "2024-03-16T17:54:20.882483",
     "status": "completed"
    },
    "tags": []
   },
   "source": [
    "This histogram shows the difference in seed rank between the two teams (not considering the regions). Negative means the winner has a lower seed rank. \n",
    "\n",
    "More than 60% of the games are won by the higher ranked team. But more than 10% of the games were won by teams ranked significantly lower. Therefore, the seed ranking of the competition team cannot accurately predict the outcome of the competition."
   ]
  },
  {
   "cell_type": "markdown",
   "id": "9b29c01b",
   "metadata": {
    "papermill": {
     "duration": 0.082936,
     "end_time": "2024-03-16T17:54:21.017500",
     "exception": false,
     "start_time": "2024-03-16T17:54:20.934564",
     "status": "completed"
    },
    "tags": []
   },
   "source": [
    "**Women**"
   ]
  },
  {
   "cell_type": "code",
   "execution_count": 13,
   "id": "94f3561d",
   "metadata": {
    "execution": {
     "iopub.execute_input": "2024-03-16T17:54:21.071787Z",
     "iopub.status.busy": "2024-03-16T17:54:21.071425Z",
     "iopub.status.idle": "2024-03-16T17:54:21.108837Z",
     "shell.execute_reply": "2024-03-16T17:54:21.107680Z"
    },
    "papermill": {
     "duration": 0.067828,
     "end_time": "2024-03-16T17:54:21.111559",
     "exception": false,
     "start_time": "2024-03-16T17:54:21.043731",
     "status": "completed"
    },
    "tags": []
   },
   "outputs": [
    {
     "data": {
      "application/vnd.microsoft.datawrangler.viewer.v0+json": {
       "columns": [
        {
         "name": "index",
         "rawType": "int64",
         "type": "integer"
        },
        {
         "name": "Season",
         "rawType": "int64",
         "type": "integer"
        },
        {
         "name": "DayNum",
         "rawType": "int64",
         "type": "integer"
        },
        {
         "name": "WTeamID",
         "rawType": "int64",
         "type": "integer"
        },
        {
         "name": "WScore",
         "rawType": "int64",
         "type": "integer"
        },
        {
         "name": "LTeamID",
         "rawType": "int64",
         "type": "integer"
        },
        {
         "name": "LScore",
         "rawType": "int64",
         "type": "integer"
        },
        {
         "name": "WLoc",
         "rawType": "object",
         "type": "string"
        },
        {
         "name": "NumOT",
         "rawType": "int64",
         "type": "integer"
        },
        {
         "name": "WSeed",
         "rawType": "object",
         "type": "string"
        },
        {
         "name": "LSeed",
         "rawType": "object",
         "type": "string"
        },
        {
         "name": "WRank",
         "rawType": "int64",
         "type": "integer"
        },
        {
         "name": "LRank",
         "rawType": "int64",
         "type": "integer"
        },
        {
         "name": "RankDiff",
         "rawType": "int64",
         "type": "integer"
        }
       ],
       "conversionMethod": "pd.DataFrame",
       "ref": "a2f5be1e-2aa8-4679-a862-c7d6226e442f",
       "rows": [
        [
         "0",
         "2010",
         "138",
         "3124",
         "69",
         "3201",
         "55",
         "N",
         "0",
         "X04",
         "X13",
         "4",
         "13",
         "9"
        ],
        [
         "1",
         "2010",
         "138",
         "3173",
         "67",
         "3395",
         "66",
         "N",
         "0",
         "X08",
         "X09",
         "8",
         "9",
         "1"
        ],
        [
         "2",
         "2010",
         "138",
         "3181",
         "72",
         "3214",
         "37",
         "H",
         "0",
         "X02",
         "X15",
         "2",
         "15",
         "13"
        ],
        [
         "3",
         "2010",
         "138",
         "3199",
         "75",
         "3256",
         "61",
         "H",
         "0",
         "W03",
         "W14",
         "3",
         "14",
         "11"
        ],
        [
         "4",
         "2010",
         "138",
         "3207",
         "62",
         "3265",
         "42",
         "N",
         "0",
         "X05",
         "X12",
         "5",
         "12",
         "7"
        ]
       ],
       "shape": {
        "columns": 13,
        "rows": 5
       }
      },
      "text/html": [
       "<div>\n",
       "<style scoped>\n",
       "    .dataframe tbody tr th:only-of-type {\n",
       "        vertical-align: middle;\n",
       "    }\n",
       "\n",
       "    .dataframe tbody tr th {\n",
       "        vertical-align: top;\n",
       "    }\n",
       "\n",
       "    .dataframe thead th {\n",
       "        text-align: right;\n",
       "    }\n",
       "</style>\n",
       "<table border=\"1\" class=\"dataframe\">\n",
       "  <thead>\n",
       "    <tr style=\"text-align: right;\">\n",
       "      <th></th>\n",
       "      <th>Season</th>\n",
       "      <th>DayNum</th>\n",
       "      <th>WTeamID</th>\n",
       "      <th>WScore</th>\n",
       "      <th>LTeamID</th>\n",
       "      <th>LScore</th>\n",
       "      <th>WLoc</th>\n",
       "      <th>NumOT</th>\n",
       "      <th>WSeed</th>\n",
       "      <th>LSeed</th>\n",
       "      <th>WRank</th>\n",
       "      <th>LRank</th>\n",
       "      <th>RankDiff</th>\n",
       "    </tr>\n",
       "  </thead>\n",
       "  <tbody>\n",
       "    <tr>\n",
       "      <th>0</th>\n",
       "      <td>2010</td>\n",
       "      <td>138</td>\n",
       "      <td>3124</td>\n",
       "      <td>69</td>\n",
       "      <td>3201</td>\n",
       "      <td>55</td>\n",
       "      <td>N</td>\n",
       "      <td>0</td>\n",
       "      <td>X04</td>\n",
       "      <td>X13</td>\n",
       "      <td>4</td>\n",
       "      <td>13</td>\n",
       "      <td>9</td>\n",
       "    </tr>\n",
       "    <tr>\n",
       "      <th>1</th>\n",
       "      <td>2010</td>\n",
       "      <td>138</td>\n",
       "      <td>3173</td>\n",
       "      <td>67</td>\n",
       "      <td>3395</td>\n",
       "      <td>66</td>\n",
       "      <td>N</td>\n",
       "      <td>0</td>\n",
       "      <td>X08</td>\n",
       "      <td>X09</td>\n",
       "      <td>8</td>\n",
       "      <td>9</td>\n",
       "      <td>1</td>\n",
       "    </tr>\n",
       "    <tr>\n",
       "      <th>2</th>\n",
       "      <td>2010</td>\n",
       "      <td>138</td>\n",
       "      <td>3181</td>\n",
       "      <td>72</td>\n",
       "      <td>3214</td>\n",
       "      <td>37</td>\n",
       "      <td>H</td>\n",
       "      <td>0</td>\n",
       "      <td>X02</td>\n",
       "      <td>X15</td>\n",
       "      <td>2</td>\n",
       "      <td>15</td>\n",
       "      <td>13</td>\n",
       "    </tr>\n",
       "    <tr>\n",
       "      <th>3</th>\n",
       "      <td>2010</td>\n",
       "      <td>138</td>\n",
       "      <td>3199</td>\n",
       "      <td>75</td>\n",
       "      <td>3256</td>\n",
       "      <td>61</td>\n",
       "      <td>H</td>\n",
       "      <td>0</td>\n",
       "      <td>W03</td>\n",
       "      <td>W14</td>\n",
       "      <td>3</td>\n",
       "      <td>14</td>\n",
       "      <td>11</td>\n",
       "    </tr>\n",
       "    <tr>\n",
       "      <th>4</th>\n",
       "      <td>2010</td>\n",
       "      <td>138</td>\n",
       "      <td>3207</td>\n",
       "      <td>62</td>\n",
       "      <td>3265</td>\n",
       "      <td>42</td>\n",
       "      <td>N</td>\n",
       "      <td>0</td>\n",
       "      <td>X05</td>\n",
       "      <td>X12</td>\n",
       "      <td>5</td>\n",
       "      <td>12</td>\n",
       "      <td>7</td>\n",
       "    </tr>\n",
       "  </tbody>\n",
       "</table>\n",
       "</div>"
      ],
      "text/plain": [
       "   Season  DayNum  WTeamID  WScore  LTeamID  LScore WLoc  NumOT WSeed LSeed  \\\n",
       "0    2010     138     3124      69     3201      55    N      0   X04   X13   \n",
       "1    2010     138     3173      67     3395      66    N      0   X08   X09   \n",
       "2    2010     138     3181      72     3214      37    H      0   X02   X15   \n",
       "3    2010     138     3199      75     3256      61    H      0   W03   W14   \n",
       "4    2010     138     3207      62     3265      42    N      0   X05   X12   \n",
       "\n",
       "   WRank  LRank  RankDiff  \n",
       "0      4     13         9  \n",
       "1      8      9         1  \n",
       "2      2     15        13  \n",
       "3      3     14        11  \n",
       "4      5     12         7  "
      ]
     },
     "execution_count": 13,
     "metadata": {},
     "output_type": "execute_result"
    }
   ],
   "source": [
    "WNCAATourneyCompactResults_2010 = WNCAATourneyCompactResults[WNCAATourneyCompactResults['Season']>=2010]\n",
    "WNCAATourneyCompactResults_2010\n",
    "\n",
    "df_merged_seeds_W = pd.merge(WNCAATourneyCompactResults_2010, WNCAATourneySeeds[['Season','TeamID','Seed']], left_on=['Season','WTeamID'], right_on=['Season','TeamID'], how='left').rename(columns={'Seed':'WSeed'})\n",
    "df_merged_seeds_W = pd.merge(df_merged_seeds_W, WNCAATourneySeeds[['Season','TeamID','Seed']], left_on=['Season','LTeamID'], right_on=['Season','TeamID'], how='left').rename(columns={'Seed':'LSeed'})\n",
    "\n",
    "df_merged_seeds_W['WRank'] = df_merged_seeds_W['WSeed'].str[1:3].astype(int)\n",
    "df_merged_seeds_W['LRank'] = df_merged_seeds_W['LSeed'].str[1:3].astype(int)\n",
    "df_merged_seeds_W['RankDiff'] = df_merged_seeds_W['LRank'] - df_merged_seeds_W['WRank']\n",
    "\n",
    "columns_to_delete = ['TeamID_x', 'TeamID_y']\n",
    "df_merged_seeds_W = df_merged_seeds_W.drop(columns=columns_to_delete)\n",
    "df_merged_seeds_W.head()"
   ]
  },
  {
   "cell_type": "code",
   "execution_count": 14,
   "id": "4e19f693",
   "metadata": {
    "execution": {
     "iopub.execute_input": "2024-03-16T17:54:21.166621Z",
     "iopub.status.busy": "2024-03-16T17:54:21.166113Z",
     "iopub.status.idle": "2024-03-16T17:54:21.517885Z",
     "shell.execute_reply": "2024-03-16T17:54:21.516572Z"
    },
    "papermill": {
     "duration": 0.382457,
     "end_time": "2024-03-16T17:54:21.520625",
     "exception": false,
     "start_time": "2024-03-16T17:54:21.138168",
     "status": "completed"
    },
    "tags": []
   },
   "outputs": [
    {
     "data": {
      "image/png": "[encoded data removed]",
      "text/plain": [
       "<Figure size 1200x600 with 1 Axes>"
      ]
     },
     "metadata": {},
     "output_type": "display_data"
    }
   ],
   "source": [
    "# Plotting the histogram\n",
    "plt.figure(figsize=(12, 6))\n",
    "plt.hist(df_merged_seeds_W['RankDiff'], bins=10, color='skyblue', edgecolor='black')\n",
    "plt.title('Distribution of Rank Differences')\n",
    "plt.xlabel('Rank Difference')\n",
    "plt.ylabel('Frequency')\n",
    "plt.grid(True)\n",
    "plt.show()"
   ]
  },
  {
   "cell_type": "markdown",
   "id": "266796d6",
   "metadata": {
    "papermill": {
     "duration": 0.026777,
     "end_time": "2024-03-16T17:54:21.574552",
     "exception": false,
     "start_time": "2024-03-16T17:54:21.547775",
     "status": "completed"
    },
    "tags": []
   },
   "source": [
    "**2.3 History Tourney Compact Results**\n",
    "\n",
    "**Men**"
   ]
  },
  {
   "cell_type": "code",
   "execution_count": 15,
   "id": "5942947c",
   "metadata": {
    "execution": {
     "iopub.execute_input": "2024-03-16T17:54:21.630530Z",
     "iopub.status.busy": "2024-03-16T17:54:21.630105Z",
     "iopub.status.idle": "2024-03-16T17:54:24.399909Z",
     "shell.execute_reply": "2024-03-16T17:54:24.398632Z"
    },
    "papermill": {
     "duration": 2.801158,
     "end_time": "2024-03-16T17:54:24.402777",
     "exception": false,
     "start_time": "2024-03-16T17:54:21.601619",
     "status": "completed"
    },
    "tags": []
   },
   "outputs": [
    {
     "data": {
      "image/png": "[encoded data removed]",
      "text/plain": [
       "<Figure size 1200x600 with 1 Axes>"
      ]
     },
     "metadata": {},
     "output_type": "display_data"
    },
    {
     "data": {
      "image/png": "[encoded data removed]",
      "text/plain": [
       "<Figure size 1200x600 with 2 Axes>"
      ]
     },
     "metadata": {},
     "output_type": "display_data"
    }
   ],
   "source": [
    "import seaborn as sns\n",
    "\n",
    "# Calculate average scores for wins and losses each year\n",
    "average_scores = MNCAATourneyCompactResults_2003.groupby(['Season'])[['WScore', 'LScore']].mean().reset_index()\n",
    "average_scores\n",
    "# Melt the DataFrame to have separate columns for win and loss scores\n",
    "average_scores_melted = average_scores.melt(id_vars=['Season'], value_vars=['WScore', 'LScore'], var_name='Outcome', value_name='Average Score')\n",
    "average_scores_melted\n",
    "\n",
    "# Plotting\n",
    "plt.figure(figsize=(12, 6))\n",
    "sns.barplot(x='Season', y='Average Score', hue='Outcome', data=average_scores_melted, palette={'WScore': 'lightseagreen', 'LScore': 'plum'})\n",
    "plt.title('Average Win and Loss Scores by Year')\n",
    "plt.xlabel('Season')\n",
    "plt.ylabel('Average Score')\n",
    "plt.legend(title='Outcome', loc='upper right')\n",
    "plt.show()\n",
    "\n",
    "\n",
    "plt.figure(figsize=(12, 6))\n",
    "plt.subplot(1, 2, 1)\n",
    "plt.hist(MNCAATourneyCompactResults_2003['WScore'], bins=20, color='lightseagreen', alpha=0.7, label='Winning Team')\n",
    "plt.hist(MNCAATourneyCompactResults_2003['LScore'], bins=20, color='plum', alpha=0.7, label='Losing Team')\n",
    "plt.title('Distribution of Scores')\n",
    "plt.xlabel('Score')\n",
    "plt.ylabel('Frequency')\n",
    "plt.legend()\n",
    "\n",
    "# Visualize the distribution of locations\n",
    "plt.subplot(1, 2, 2)\n",
    "MNCAATourneyCompactResults_2003['WLoc'].value_counts().plot(kind='bar', color='skyblue', alpha=0.7)\n",
    "plt.title('Distribution of Locations')\n",
    "plt.xlabel('Location')\n",
    "plt.ylabel('Count')\n",
    "\n",
    "plt.show()"
   ]
  },
  {
   "cell_type": "markdown",
   "id": "30939801",
   "metadata": {
    "papermill": {
     "duration": 0.029673,
     "end_time": "2024-03-16T17:54:24.462924",
     "exception": false,
     "start_time": "2024-03-16T17:54:24.433251",
     "status": "completed"
    },
    "tags": []
   },
   "source": [
    "**Finding**\n",
    "\n",
    "> This historical data of team-level box scores for NCAA® men tournaments **starts with the 2003 season**.\n",
    "\n",
    "* The 2020 NCAA Division One basketball tournament is not in the dataset, having been canceled because of the pandemic.\n",
    "* A more ideal normal distribution can be seen in the past scores of the winning and losing teams.\n",
    "* There is no 'A' in the 'Location', and all most all of them are 'N'. Which means we might don't need consider the effect by location."
   ]
  },
  {
   "cell_type": "markdown",
   "id": "59e8b6e7",
   "metadata": {
    "papermill": {
     "duration": 0.028884,
     "end_time": "2024-03-16T17:54:24.522226",
     "exception": false,
     "start_time": "2024-03-16T17:54:24.493342",
     "status": "completed"
    },
    "tags": []
   },
   "source": [
    "**Women**"
   ]
  },
  {
   "cell_type": "code",
   "execution_count": 16,
   "id": "bb82fdde",
   "metadata": {
    "execution": {
     "iopub.execute_input": "2024-03-16T17:54:24.582994Z",
     "iopub.status.busy": "2024-03-16T17:54:24.582591Z",
     "iopub.status.idle": "2024-03-16T17:54:25.680722Z",
     "shell.execute_reply": "2024-03-16T17:54:25.679474Z"
    },
    "papermill": {
     "duration": 1.132048,
     "end_time": "2024-03-16T17:54:25.683654",
     "exception": false,
     "start_time": "2024-03-16T17:54:24.551606",
     "status": "completed"
    },
    "tags": []
   },
   "outputs": [
    {
     "data": {
      "image/png": "[encoded data removed]",
      "text/plain": [
       "<Figure size 1200x600 with 1 Axes>"
      ]
     },
     "metadata": {},
     "output_type": "display_data"
    },
    {
     "data": {
      "image/png": "[encoded data removed]",
      "text/plain": [
       "<Figure size 1200x600 with 2 Axes>"
      ]
     },
     "metadata": {},
     "output_type": "display_data"
    }
   ],
   "source": [
    "# Calculate average scores for wins and losses each year\n",
    "average_scores = WNCAATourneyCompactResults_2010.groupby(['Season'])[['WScore', 'LScore']].mean().reset_index()\n",
    "average_scores\n",
    "# Melt the DataFrame to have separate columns for win and loss scores\n",
    "average_scores_melted = average_scores.melt(id_vars=['Season'], value_vars=['WScore', 'LScore'], var_name='Outcome', value_name='Average Score')\n",
    "average_scores_melted\n",
    "\n",
    "# Plotting\n",
    "plt.figure(figsize=(12, 6))\n",
    "sns.barplot(x='Season', y='Average Score', hue='Outcome', data=average_scores_melted, palette={'WScore': 'lightseagreen', 'LScore': 'plum'})\n",
    "plt.title('Average Win and Loss Scores by Year')\n",
    "plt.xlabel('Season')\n",
    "plt.ylabel('Average Score')\n",
    "plt.legend(title='Outcome', loc='upper right')\n",
    "plt.show()\n",
    "\n",
    "\n",
    "plt.figure(figsize=(12, 6))\n",
    "plt.subplot(1, 2, 1)\n",
    "plt.hist(WNCAATourneyCompactResults_2010['WScore'], bins=20, color='lightseagreen', alpha=0.7, label='Winning Team')\n",
    "plt.hist(WNCAATourneyCompactResults_2010['LScore'], bins=20, color='plum', alpha=0.7, label='Losing Team')\n",
    "plt.title('Distribution of Scores')\n",
    "plt.xlabel('Score')\n",
    "plt.ylabel('Frequency')\n",
    "plt.legend()\n",
    "\n",
    "# Visualize the distribution of locations\n",
    "plt.subplot(1, 2, 2)\n",
    "WNCAATourneyCompactResults_2010['WLoc'].value_counts().plot(kind='bar', color='skyblue', alpha=0.7)\n",
    "plt.title('Distribution of Locations')\n",
    "plt.xlabel('Location')\n",
    "plt.ylabel('Count')\n",
    "\n",
    "plt.show()"
   ]
  },
  {
   "cell_type": "markdown",
   "id": "c60729e6",
   "metadata": {
    "papermill": {
     "duration": 0.031434,
     "end_time": "2024-03-16T17:54:25.747430",
     "exception": false,
     "start_time": "2024-03-16T17:54:25.715996",
     "status": "completed"
    },
    "tags": []
   },
   "source": [
    "# 3. **Split data**: one row per game becomes two rows\n",
    "> The winning and eliminated teams of the original data set are in fixed columns. The outcome of the game is unknown when predicting the game. In order to reduce the judgment bias caused by data location, each game data is split into the game data of the two teams.\n",
    "Merge columns ‘WTeamID’ and ‘LTeamID’ into ‘TeamID’, and ‘WScore’ and ‘LScore’ into ‘Score’.\n",
    "\n",
    "**Men**"
   ]
  },
  {
   "cell_type": "code",
   "execution_count": 17,
   "id": "4cb1ded7",
   "metadata": {
    "execution": {
     "iopub.execute_input": "2024-03-16T17:54:25.809133Z",
     "iopub.status.busy": "2024-03-16T17:54:25.808016Z",
     "iopub.status.idle": "2024-03-16T17:54:34.783850Z",
     "shell.execute_reply": "2024-03-16T17:54:34.782691Z"
    },
    "papermill": {
     "duration": 9.009963,
     "end_time": "2024-03-16T17:54:34.786927",
     "exception": false,
     "start_time": "2024-03-16T17:54:25.776964",
     "status": "completed"
    },
    "tags": []
   },
   "outputs": [
    {
     "data": {
      "application/vnd.microsoft.datawrangler.viewer.v0+json": {
       "columns": [
        {
         "name": "index",
         "rawType": "int64",
         "type": "integer"
        },
        {
         "name": "Season",
         "rawType": "object",
         "type": "unknown"
        },
        {
         "name": "DayNum",
         "rawType": "object",
         "type": "unknown"
        },
        {
         "name": "TeamID",
         "rawType": "object",
         "type": "unknown"
        },
        {
         "name": "Score_T",
         "rawType": "object",
         "type": "unknown"
        },
        {
         "name": "OpposingTeamID",
         "rawType": "object",
         "type": "unknown"
        },
        {
         "name": "Score_O",
         "rawType": "object",
         "type": "unknown"
        },
        {
         "name": "Loc",
         "rawType": "object",
         "type": "string"
        },
        {
         "name": "NumOT",
         "rawType": "object",
         "type": "unknown"
        },
        {
         "name": "Outcome",
         "rawType": "object",
         "type": "string"
        }
       ],
       "conversionMethod": "pd.DataFrame",
       "ref": "16f91c18-82e8-4690-999d-ad5d0dde55bb",
       "rows": [
        [
         "0",
         "1985",
         "136",
         "1116",
         "63",
         "1234",
         "54",
         "N",
         "0",
         "Win"
        ],
        [
         "1",
         "1985",
         "136",
         "1234",
         "54",
         "1116",
         "63",
         "N",
         "0",
         "Loss"
        ],
        [
         "2",
         "1985",
         "136",
         "1120",
         "59",
         "1345",
         "58",
         "N",
         "0",
         "Win"
        ],
        [
         "3",
         "1985",
         "136",
         "1345",
         "58",
         "1120",
         "59",
         "N",
         "0",
         "Loss"
        ],
        [
         "4",
         "1985",
         "136",
         "1207",
         "68",
         "1250",
         "43",
         "N",
         "0",
         "Win"
        ],
        [
         "5",
         "1985",
         "136",
         "1250",
         "43",
         "1207",
         "68",
         "N",
         "0",
         "Loss"
        ],
        [
         "6",
         "1985",
         "136",
         "1229",
         "58",
         "1425",
         "55",
         "N",
         "0",
         "Win"
        ],
        [
         "7",
         "1985",
         "136",
         "1425",
         "55",
         "1229",
         "58",
         "N",
         "0",
         "Loss"
        ],
        [
         "8",
         "1985",
         "136",
         "1242",
         "49",
         "1325",
         "38",
         "N",
         "0",
         "Win"
        ],
        [
         "9",
         "1985",
         "136",
         "1325",
         "38",
         "1242",
         "49",
         "N",
         "0",
         "Loss"
        ],
        [
         "10",
         "1985",
         "136",
         "1246",
         "66",
         "1449",
         "58",
         "N",
         "0",
         "Win"
        ],
        [
         "11",
         "1985",
         "136",
         "1449",
         "58",
         "1246",
         "66",
         "N",
         "0",
         "Loss"
        ],
        [
         "12",
         "1985",
         "136",
         "1256",
         "78",
         "1338",
         "54",
         "N",
         "0",
         "Win"
        ],
        [
         "13",
         "1985",
         "136",
         "1338",
         "54",
         "1256",
         "78",
         "N",
         "0",
         "Loss"
        ],
        [
         "14",
         "1985",
         "136",
         "1260",
         "59",
         "1233",
         "58",
         "N",
         "0",
         "Win"
        ],
        [
         "15",
         "1985",
         "136",
         "1233",
         "58",
         "1260",
         "59",
         "N",
         "0",
         "Loss"
        ],
        [
         "16",
         "1985",
         "136",
         "1314",
         "76",
         "1292",
         "57",
         "N",
         "0",
         "Win"
        ],
        [
         "17",
         "1985",
         "136",
         "1292",
         "57",
         "1314",
         "76",
         "N",
         "0",
         "Loss"
        ],
        [
         "18",
         "1985",
         "136",
         "1323",
         "79",
         "1333",
         "70",
         "N",
         "0",
         "Win"
        ],
        [
         "19",
         "1985",
         "136",
         "1333",
         "70",
         "1323",
         "79",
         "N",
         "0",
         "Loss"
        ],
        [
         "20",
         "1985",
         "136",
         "1326",
         "75",
         "1235",
         "64",
         "N",
         "0",
         "Win"
        ],
        [
         "21",
         "1985",
         "136",
         "1235",
         "64",
         "1326",
         "75",
         "N",
         "0",
         "Loss"
        ],
        [
         "22",
         "1985",
         "136",
         "1328",
         "96",
         "1299",
         "83",
         "N",
         "0",
         "Win"
        ],
        [
         "23",
         "1985",
         "136",
         "1299",
         "83",
         "1328",
         "96",
         "N",
         "0",
         "Loss"
        ],
        [
         "24",
         "1985",
         "136",
         "1374",
         "85",
         "1330",
         "68",
         "N",
         "0",
         "Win"
        ],
        [
         "25",
         "1985",
         "136",
         "1330",
         "68",
         "1374",
         "85",
         "N",
         "0",
         "Loss"
        ],
        [
         "26",
         "1985",
         "136",
         "1385",
         "83",
         "1380",
         "59",
         "N",
         "0",
         "Win"
        ],
        [
         "27",
         "1985",
         "136",
         "1380",
         "59",
         "1385",
         "83",
         "N",
         "0",
         "Loss"
        ],
        [
         "28",
         "1985",
         "136",
         "1396",
         "60",
         "1439",
         "57",
         "N",
         "0",
         "Win"
        ],
        [
         "29",
         "1985",
         "136",
         "1439",
         "57",
         "1396",
         "60",
         "N",
         "0",
         "Loss"
        ],
        [
         "30",
         "1985",
         "136",
         "1424",
         "85",
         "1361",
         "80",
         "N",
         "0",
         "Win"
        ],
        [
         "31",
         "1985",
         "136",
         "1361",
         "80",
         "1424",
         "85",
         "N",
         "0",
         "Loss"
        ],
        [
         "32",
         "1985",
         "137",
         "1104",
         "50",
         "1112",
         "41",
         "N",
         "0",
         "Win"
        ],
        [
         "33",
         "1985",
         "137",
         "1112",
         "41",
         "1104",
         "50",
         "N",
         "0",
         "Loss"
        ],
        [
         "34",
         "1985",
         "137",
         "1130",
         "55",
         "1403",
         "53",
         "N",
         "0",
         "Win"
        ],
        [
         "35",
         "1985",
         "137",
         "1403",
         "53",
         "1130",
         "55",
         "N",
         "0",
         "Loss"
        ],
        [
         "36",
         "1985",
         "137",
         "1181",
         "75",
         "1337",
         "62",
         "N",
         "0",
         "Win"
        ],
        [
         "37",
         "1985",
         "137",
         "1337",
         "62",
         "1181",
         "75",
         "N",
         "0",
         "Loss"
        ],
        [
         "38",
         "1985",
         "137",
         "1208",
         "67",
         "1455",
         "59",
         "N",
         "0",
         "Win"
        ],
        [
         "39",
         "1985",
         "137",
         "1455",
         "59",
         "1208",
         "67",
         "N",
         "0",
         "Loss"
        ],
        [
         "40",
         "1985",
         "137",
         "1210",
         "65",
         "1273",
         "58",
         "N",
         "0",
         "Win"
        ],
        [
         "41",
         "1985",
         "137",
         "1273",
         "58",
         "1210",
         "65",
         "N",
         "0",
         "Loss"
        ],
        [
         "42",
         "1985",
         "137",
         "1228",
         "76",
         "1318",
         "57",
         "N",
         "0",
         "Win"
        ],
        [
         "43",
         "1985",
         "137",
         "1318",
         "57",
         "1228",
         "76",
         "N",
         "0",
         "Loss"
        ],
        [
         "44",
         "1985",
         "137",
         "1268",
         "69",
         "1275",
         "68",
         "N",
         "1",
         "Win"
        ],
        [
         "45",
         "1985",
         "137",
         "1275",
         "68",
         "1268",
         "69",
         "N",
         "1",
         "Loss"
        ],
        [
         "46",
         "1985",
         "137",
         "1272",
         "67",
         "1335",
         "55",
         "N",
         "0",
         "Win"
        ],
        [
         "47",
         "1985",
         "137",
         "1335",
         "55",
         "1272",
         "67",
         "N",
         "0",
         "Loss"
        ],
        [
         "48",
         "1985",
         "137",
         "1276",
         "59",
         "1192",
         "55",
         "N",
         "0",
         "Win"
        ],
        [
         "49",
         "1985",
         "137",
         "1192",
         "55",
         "1276",
         "59",
         "N",
         "0",
         "Loss"
        ]
       ],
       "shape": {
        "columns": 9,
        "rows": 5036
       }
      },
      "text/html": [
       "<div>\n",
       "<style scoped>\n",
       "    .dataframe tbody tr th:only-of-type {\n",
       "        vertical-align: middle;\n",
       "    }\n",
       "\n",
       "    .dataframe tbody tr th {\n",
       "        vertical-align: top;\n",
       "    }\n",
       "\n",
       "    .dataframe thead th {\n",
       "        text-align: right;\n",
       "    }\n",
       "</style>\n",
       "<table border=\"1\" class=\"dataframe\">\n",
       "  <thead>\n",
       "    <tr style=\"text-align: right;\">\n",
       "      <th></th>\n",
       "      <th>Season</th>\n",
       "      <th>DayNum</th>\n",
       "      <th>TeamID</th>\n",
       "      <th>Score_T</th>\n",
       "      <th>OpposingTeamID</th>\n",
       "      <th>Score_O</th>\n",
       "      <th>Loc</th>\n",
       "      <th>NumOT</th>\n",
       "      <th>Outcome</th>\n",
       "    </tr>\n",
       "  </thead>\n",
       "  <tbody>\n",
       "    <tr>\n",
       "      <th>0</th>\n",
       "      <td>1985</td>\n",
       "      <td>136</td>\n",
       "      <td>1116</td>\n",
       "      <td>63</td>\n",
       "      <td>1234</td>\n",
       "      <td>54</td>\n",
       "      <td>N</td>\n",
       "      <td>0</td>\n",
       "      <td>Win</td>\n",
       "    </tr>\n",
       "    <tr>\n",
       "      <th>1</th>\n",
       "      <td>1985</td>\n",
       "      <td>136</td>\n",
       "      <td>1234</td>\n",
       "      <td>54</td>\n",
       "      <td>1116</td>\n",
       "      <td>63</td>\n",
       "      <td>N</td>\n",
       "      <td>0</td>\n",
       "      <td>Loss</td>\n",
       "    </tr>\n",
       "    <tr>\n",
       "      <th>2</th>\n",
       "      <td>1985</td>\n",
       "      <td>136</td>\n",
       "      <td>1120</td>\n",
       "      <td>59</td>\n",
       "      <td>1345</td>\n",
       "      <td>58</td>\n",
       "      <td>N</td>\n",
       "      <td>0</td>\n",
       "      <td>Win</td>\n",
       "    </tr>\n",
       "    <tr>\n",
       "      <th>3</th>\n",
       "      <td>1985</td>\n",
       "      <td>136</td>\n",
       "      <td>1345</td>\n",
       "      <td>58</td>\n",
       "      <td>1120</td>\n",
       "      <td>59</td>\n",
       "      <td>N</td>\n",
       "      <td>0</td>\n",
       "      <td>Loss</td>\n",
       "    </tr>\n",
       "    <tr>\n",
       "      <th>4</th>\n",
       "      <td>1985</td>\n",
       "      <td>136</td>\n",
       "      <td>1207</td>\n",
       "      <td>68</td>\n",
       "      <td>1250</td>\n",
       "      <td>43</td>\n",
       "      <td>N</td>\n",
       "      <td>0</td>\n",
       "      <td>Win</td>\n",
       "    </tr>\n",
       "    <tr>\n",
       "      <th>...</th>\n",
       "      <td>...</td>\n",
       "      <td>...</td>\n",
       "      <td>...</td>\n",
       "      <td>...</td>\n",
       "      <td>...</td>\n",
       "      <td>...</td>\n",
       "      <td>...</td>\n",
       "      <td>...</td>\n",
       "      <td>...</td>\n",
       "    </tr>\n",
       "    <tr>\n",
       "      <th>5031</th>\n",
       "      <td>2024</td>\n",
       "      <td>152</td>\n",
       "      <td>1104</td>\n",
       "      <td>72</td>\n",
       "      <td>1163</td>\n",
       "      <td>86</td>\n",
       "      <td>N</td>\n",
       "      <td>0</td>\n",
       "      <td>Loss</td>\n",
       "    </tr>\n",
       "    <tr>\n",
       "      <th>5032</th>\n",
       "      <td>2024</td>\n",
       "      <td>152</td>\n",
       "      <td>1345</td>\n",
       "      <td>63</td>\n",
       "      <td>1301</td>\n",
       "      <td>50</td>\n",
       "      <td>N</td>\n",
       "      <td>0</td>\n",
       "      <td>Win</td>\n",
       "    </tr>\n",
       "    <tr>\n",
       "      <th>5033</th>\n",
       "      <td>2024</td>\n",
       "      <td>152</td>\n",
       "      <td>1301</td>\n",
       "      <td>50</td>\n",
       "      <td>1345</td>\n",
       "      <td>63</td>\n",
       "      <td>N</td>\n",
       "      <td>0</td>\n",
       "      <td>Loss</td>\n",
       "    </tr>\n",
       "    <tr>\n",
       "      <th>5034</th>\n",
       "      <td>2024</td>\n",
       "      <td>154</td>\n",
       "      <td>1163</td>\n",
       "      <td>75</td>\n",
       "      <td>1345</td>\n",
       "      <td>60</td>\n",
       "      <td>N</td>\n",
       "      <td>0</td>\n",
       "      <td>Win</td>\n",
       "    </tr>\n",
       "    <tr>\n",
       "      <th>5035</th>\n",
       "      <td>2024</td>\n",
       "      <td>154</td>\n",
       "      <td>1345</td>\n",
       "      <td>60</td>\n",
       "      <td>1163</td>\n",
       "      <td>75</td>\n",
       "      <td>N</td>\n",
       "      <td>0</td>\n",
       "      <td>Loss</td>\n",
       "    </tr>\n",
       "  </tbody>\n",
       "</table>\n",
       "<p>5036 rows × 9 columns</p>\n",
       "</div>"
      ],
      "text/plain": [
       "     Season DayNum TeamID Score_T OpposingTeamID Score_O Loc NumOT Outcome\n",
       "0      1985    136   1116      63           1234      54   N     0     Win\n",
       "1      1985    136   1234      54           1116      63   N     0    Loss\n",
       "2      1985    136   1120      59           1345      58   N     0     Win\n",
       "3      1985    136   1345      58           1120      59   N     0    Loss\n",
       "4      1985    136   1207      68           1250      43   N     0     Win\n",
       "...     ...    ...    ...     ...            ...     ...  ..   ...     ...\n",
       "5031   2024    152   1104      72           1163      86   N     0    Loss\n",
       "5032   2024    152   1345      63           1301      50   N     0     Win\n",
       "5033   2024    152   1301      50           1345      63   N     0    Loss\n",
       "5034   2024    154   1163      75           1345      60   N     0     Win\n",
       "5035   2024    154   1345      60           1163      75   N     0    Loss\n",
       "\n",
       "[5036 rows x 9 columns]"
      ]
     },
     "execution_count": 17,
     "metadata": {},
     "output_type": "execute_result"
    }
   ],
   "source": [
    "# Split data: one row per game becomes two rows\n",
    "MNCAATourneyCompactResults_teams = pd.DataFrame(columns=[\"Season\", \"DayNum\", \"TeamID\", \"Score_T\", \"OpposingTeamID\",\"Score_O\", \"Loc\", \"NumOT\", \"Outcome\"])\n",
    "\n",
    "for index, row in MNCAATourneyCompactResults.iterrows():\n",
    "    # Extract match information\n",
    "    season = row[\"Season\"]\n",
    "    day_num = row[\"DayNum\"]\n",
    "    w_team_id = row[\"WTeamID\"]\n",
    "    w_score = row[\"WScore\"]\n",
    "    l_team_id = row[\"LTeamID\"]\n",
    "    l_score = row[\"LScore\"]\n",
    "    w_loc = row[\"WLoc\"]\n",
    "    num_ot = row[\"NumOT\"]\n",
    "\n",
    "    # Add a row of data to represent the winning match results\n",
    "    winning_match_row = pd.DataFrame({\n",
    "        \"Season\": [season],\n",
    "        \"DayNum\": [day_num],\n",
    "        \"TeamID\": [w_team_id],\n",
    "        \"Score_T\": [w_score],\n",
    "        \"Score_O\": [l_score],\n",
    "        \"OpposingTeamID\": [l_team_id],\n",
    "        \"Loc\": [w_loc],\n",
    "        \"NumOT\": [num_ot],\n",
    "        \"Outcome\": [\"Win\"]\n",
    "    })\n",
    "    MNCAATourneyCompactResults_teams = pd.concat([MNCAATourneyCompactResults_teams, winning_match_row], ignore_index=True)\n",
    "\n",
    "    # Add a row of data to represent the result of the losing game\n",
    "    losing_match_row = pd.DataFrame({\n",
    "        \"Season\": [season],\n",
    "        \"DayNum\": [day_num],\n",
    "        \"TeamID\": [l_team_id],\n",
    "        \"Score_T\": [l_score],\n",
    "        \"Score_O\": [w_score],\n",
    "        \"OpposingTeamID\": [w_team_id],\n",
    "        \"Loc\": [\"H\" if w_loc == \"A\" else \"A\" if w_loc == \"H\" else \"N\"],\n",
    "        \"NumOT\": [num_ot],\n",
    "        \"Outcome\": [\"Loss\"]\n",
    "    })\n",
    "    MNCAATourneyCompactResults_teams = pd.concat([MNCAATourneyCompactResults_teams, losing_match_row], ignore_index=True)\n",
    "    \n",
    "MNCAATourneyCompactResults_teams\n"
   ]
  },
  {
   "cell_type": "code",
   "execution_count": 18,
   "id": "13e09f01",
   "metadata": {
    "execution": {
     "iopub.execute_input": "2024-03-16T17:54:34.849322Z",
     "iopub.status.busy": "2024-03-16T17:54:34.848731Z",
     "iopub.status.idle": "2024-03-16T17:54:40.494573Z",
     "shell.execute_reply": "2024-03-16T17:54:40.493429Z"
    },
    "papermill": {
     "duration": 5.680129,
     "end_time": "2024-03-16T17:54:40.497482",
     "exception": false,
     "start_time": "2024-03-16T17:54:34.817353",
     "status": "completed"
    },
    "tags": []
   },
   "outputs": [
    {
     "data": {
      "application/vnd.microsoft.datawrangler.viewer.v0+json": {
       "columns": [
        {
         "name": "index",
         "rawType": "int64",
         "type": "integer"
        },
        {
         "name": "Season",
         "rawType": "object",
         "type": "unknown"
        },
        {
         "name": "DayNum",
         "rawType": "object",
         "type": "unknown"
        },
        {
         "name": "TeamID",
         "rawType": "object",
         "type": "unknown"
        },
        {
         "name": "Score_T",
         "rawType": "object",
         "type": "unknown"
        },
        {
         "name": "OpposingTeamID",
         "rawType": "object",
         "type": "unknown"
        },
        {
         "name": "Score_O",
         "rawType": "object",
         "type": "unknown"
        },
        {
         "name": "Loc",
         "rawType": "object",
         "type": "string"
        },
        {
         "name": "NumOT",
         "rawType": "object",
         "type": "unknown"
        },
        {
         "name": "Outcome",
         "rawType": "object",
         "type": "string"
        }
       ],
       "conversionMethod": "pd.DataFrame",
       "ref": "bea7a509-eb69-4005-80b9-ae367c85df79",
       "rows": [
        [
         "0",
         "1998",
         "137",
         "3104",
         "94",
         "3422",
         "46",
         "H",
         "0",
         "Win"
        ],
        [
         "1",
         "1998",
         "137",
         "3422",
         "46",
         "3104",
         "94",
         "A",
         "0",
         "Loss"
        ],
        [
         "2",
         "1998",
         "137",
         "3112",
         "75",
         "3365",
         "63",
         "H",
         "0",
         "Win"
        ],
        [
         "3",
         "1998",
         "137",
         "3365",
         "63",
         "3112",
         "75",
         "A",
         "0",
         "Loss"
        ],
        [
         "4",
         "1998",
         "137",
         "3163",
         "93",
         "3193",
         "52",
         "H",
         "0",
         "Win"
        ],
        [
         "5",
         "1998",
         "137",
         "3193",
         "52",
         "3163",
         "93",
         "A",
         "0",
         "Loss"
        ],
        [
         "6",
         "1998",
         "137",
         "3198",
         "59",
         "3266",
         "45",
         "H",
         "0",
         "Win"
        ],
        [
         "7",
         "1998",
         "137",
         "3266",
         "45",
         "3198",
         "59",
         "A",
         "0",
         "Loss"
        ],
        [
         "8",
         "1998",
         "137",
         "3203",
         "74",
         "3208",
         "72",
         "A",
         "0",
         "Win"
        ],
        [
         "9",
         "1998",
         "137",
         "3208",
         "72",
         "3203",
         "74",
         "H",
         "0",
         "Loss"
        ],
        [
         "10",
         "1998",
         "137",
         "3234",
         "77",
         "3269",
         "59",
         "H",
         "0",
         "Win"
        ],
        [
         "11",
         "1998",
         "137",
         "3269",
         "59",
         "3234",
         "77",
         "A",
         "0",
         "Loss"
        ],
        [
         "12",
         "1998",
         "137",
         "3242",
         "72",
         "3408",
         "68",
         "H",
         "0",
         "Win"
        ],
        [
         "13",
         "1998",
         "137",
         "3408",
         "68",
         "3242",
         "72",
         "A",
         "0",
         "Loss"
        ],
        [
         "14",
         "1998",
         "137",
         "3301",
         "89",
         "3263",
         "64",
         "H",
         "0",
         "Win"
        ],
        [
         "15",
         "1998",
         "137",
         "3263",
         "64",
         "3301",
         "89",
         "A",
         "0",
         "Loss"
        ],
        [
         "16",
         "1998",
         "137",
         "3304",
         "76",
         "3307",
         "59",
         "N",
         "0",
         "Win"
        ],
        [
         "17",
         "1998",
         "137",
         "3307",
         "59",
         "3304",
         "76",
         "N",
         "0",
         "Loss"
        ],
        [
         "18",
         "1998",
         "137",
         "3314",
         "91",
         "3224",
         "71",
         "H",
         "0",
         "Win"
        ],
        [
         "19",
         "1998",
         "137",
         "3224",
         "71",
         "3314",
         "91",
         "A",
         "0",
         "Loss"
        ],
        [
         "20",
         "1998",
         "137",
         "3323",
         "78",
         "3283",
         "64",
         "A",
         "0",
         "Win"
        ],
        [
         "21",
         "1998",
         "137",
         "3283",
         "64",
         "3323",
         "78",
         "H",
         "0",
         "Loss"
        ],
        [
         "22",
         "1998",
         "137",
         "3330",
         "92",
         "3384",
         "39",
         "H",
         "0",
         "Win"
        ],
        [
         "23",
         "1998",
         "137",
         "3384",
         "39",
         "3330",
         "92",
         "A",
         "0",
         "Loss"
        ],
        [
         "24",
         "1998",
         "137",
         "3403",
         "87",
         "3212",
         "75",
         "H",
         "0",
         "Win"
        ],
        [
         "25",
         "1998",
         "137",
         "3212",
         "75",
         "3403",
         "87",
         "A",
         "0",
         "Loss"
        ],
        [
         "26",
         "1998",
         "137",
         "3417",
         "65",
         "3276",
         "58",
         "H",
         "0",
         "Win"
        ],
        [
         "27",
         "1998",
         "137",
         "3276",
         "58",
         "3417",
         "65",
         "A",
         "0",
         "Loss"
        ],
        [
         "28",
         "1998",
         "137",
         "3438",
         "77",
         "3374",
         "68",
         "H",
         "0",
         "Win"
        ],
        [
         "29",
         "1998",
         "137",
         "3374",
         "68",
         "3438",
         "77",
         "A",
         "0",
         "Loss"
        ],
        [
         "30",
         "1998",
         "137",
         "3464",
         "91",
         "3272",
         "80",
         "A",
         "0",
         "Win"
        ],
        [
         "31",
         "1998",
         "137",
         "3272",
         "80",
         "3464",
         "91",
         "H",
         "0",
         "Loss"
        ],
        [
         "32",
         "1998",
         "138",
         "3116",
         "76",
         "3218",
         "70",
         "A",
         "0",
         "Win"
        ],
        [
         "33",
         "1998",
         "138",
         "3218",
         "70",
         "3116",
         "76",
         "H",
         "0",
         "Loss"
        ],
        [
         "34",
         "1998",
         "138",
         "3155",
         "60",
         "3274",
         "49",
         "H",
         "0",
         "Win"
        ],
        [
         "35",
         "1998",
         "138",
         "3274",
         "49",
         "3155",
         "60",
         "A",
         "0",
         "Loss"
        ],
        [
         "36",
         "1998",
         "138",
         "3161",
         "81",
         "3179",
         "75",
         "A",
         "0",
         "Win"
        ],
        [
         "37",
         "1998",
         "138",
         "3179",
         "75",
         "3161",
         "81",
         "H",
         "0",
         "Loss"
        ],
        [
         "38",
         "1998",
         "138",
         "3181",
         "92",
         "3292",
         "67",
         "H",
         "0",
         "Win"
        ],
        [
         "39",
         "1998",
         "138",
         "3292",
         "67",
         "3181",
         "92",
         "A",
         "0",
         "Loss"
        ],
        [
         "40",
         "1998",
         "138",
         "3196",
         "85",
         "3285",
         "64",
         "H",
         "0",
         "Win"
        ],
        [
         "41",
         "1998",
         "138",
         "3285",
         "64",
         "3196",
         "85",
         "A",
         "0",
         "Loss"
        ],
        [
         "42",
         "1998",
         "138",
         "3217",
         "71",
         "3390",
         "67",
         "A",
         "0",
         "Win"
        ],
        [
         "43",
         "1998",
         "138",
         "3390",
         "67",
         "3217",
         "71",
         "H",
         "0",
         "Loss"
        ],
        [
         "44",
         "1998",
         "138",
         "3228",
         "82",
         "3453",
         "58",
         "H",
         "0",
         "Win"
        ],
        [
         "45",
         "1998",
         "138",
         "3453",
         "58",
         "3228",
         "82",
         "A",
         "0",
         "Loss"
        ],
        [
         "46",
         "1998",
         "138",
         "3235",
         "79",
         "3245",
         "76",
         "H",
         "0",
         "Win"
        ],
        [
         "47",
         "1998",
         "138",
         "3245",
         "76",
         "3235",
         "79",
         "A",
         "0",
         "Loss"
        ],
        [
         "48",
         "1998",
         "138",
         "3256",
         "86",
         "3221",
         "58",
         "H",
         "0",
         "Win"
        ],
        [
         "49",
         "1998",
         "138",
         "3221",
         "58",
         "3256",
         "86",
         "A",
         "0",
         "Loss"
        ]
       ],
       "shape": {
        "columns": 9,
        "rows": 3300
       }
      },
      "text/html": [
       "<div>\n",
       "<style scoped>\n",
       "    .dataframe tbody tr th:only-of-type {\n",
       "        vertical-align: middle;\n",
       "    }\n",
       "\n",
       "    .dataframe tbody tr th {\n",
       "        vertical-align: top;\n",
       "    }\n",
       "\n",
       "    .dataframe thead th {\n",
       "        text-align: right;\n",
       "    }\n",
       "</style>\n",
       "<table border=\"1\" class=\"dataframe\">\n",
       "  <thead>\n",
       "    <tr style=\"text-align: right;\">\n",
       "      <th></th>\n",
       "      <th>Season</th>\n",
       "      <th>DayNum</th>\n",
       "      <th>TeamID</th>\n",
       "      <th>Score_T</th>\n",
       "      <th>OpposingTeamID</th>\n",
       "      <th>Score_O</th>\n",
       "      <th>Loc</th>\n",
       "      <th>NumOT</th>\n",
       "      <th>Outcome</th>\n",
       "    </tr>\n",
       "  </thead>\n",
       "  <tbody>\n",
       "    <tr>\n",
       "      <th>0</th>\n",
       "      <td>1998</td>\n",
       "      <td>137</td>\n",
       "      <td>3104</td>\n",
       "      <td>94</td>\n",
       "      <td>3422</td>\n",
       "      <td>46</td>\n",
       "      <td>H</td>\n",
       "      <td>0</td>\n",
       "      <td>Win</td>\n",
       "    </tr>\n",
       "    <tr>\n",
       "      <th>1</th>\n",
       "      <td>1998</td>\n",
       "      <td>137</td>\n",
       "      <td>3422</td>\n",
       "      <td>46</td>\n",
       "      <td>3104</td>\n",
       "      <td>94</td>\n",
       "      <td>A</td>\n",
       "      <td>0</td>\n",
       "      <td>Loss</td>\n",
       "    </tr>\n",
       "    <tr>\n",
       "      <th>2</th>\n",
       "      <td>1998</td>\n",
       "      <td>137</td>\n",
       "      <td>3112</td>\n",
       "      <td>75</td>\n",
       "      <td>3365</td>\n",
       "      <td>63</td>\n",
       "      <td>H</td>\n",
       "      <td>0</td>\n",
       "      <td>Win</td>\n",
       "    </tr>\n",
       "    <tr>\n",
       "      <th>3</th>\n",
       "      <td>1998</td>\n",
       "      <td>137</td>\n",
       "      <td>3365</td>\n",
       "      <td>63</td>\n",
       "      <td>3112</td>\n",
       "      <td>75</td>\n",
       "      <td>A</td>\n",
       "      <td>0</td>\n",
       "      <td>Loss</td>\n",
       "    </tr>\n",
       "    <tr>\n",
       "      <th>4</th>\n",
       "      <td>1998</td>\n",
       "      <td>137</td>\n",
       "      <td>3163</td>\n",
       "      <td>93</td>\n",
       "      <td>3193</td>\n",
       "      <td>52</td>\n",
       "      <td>H</td>\n",
       "      <td>0</td>\n",
       "      <td>Win</td>\n",
       "    </tr>\n",
       "    <tr>\n",
       "      <th>...</th>\n",
       "      <td>...</td>\n",
       "      <td>...</td>\n",
       "      <td>...</td>\n",
       "      <td>...</td>\n",
       "      <td>...</td>\n",
       "      <td>...</td>\n",
       "      <td>...</td>\n",
       "      <td>...</td>\n",
       "      <td>...</td>\n",
       "    </tr>\n",
       "    <tr>\n",
       "      <th>3295</th>\n",
       "      <td>2024</td>\n",
       "      <td>151</td>\n",
       "      <td>3163</td>\n",
       "      <td>69</td>\n",
       "      <td>3234</td>\n",
       "      <td>71</td>\n",
       "      <td>N</td>\n",
       "      <td>0</td>\n",
       "      <td>Loss</td>\n",
       "    </tr>\n",
       "    <tr>\n",
       "      <th>3296</th>\n",
       "      <td>2024</td>\n",
       "      <td>151</td>\n",
       "      <td>3376</td>\n",
       "      <td>78</td>\n",
       "      <td>3301</td>\n",
       "      <td>59</td>\n",
       "      <td>N</td>\n",
       "      <td>0</td>\n",
       "      <td>Win</td>\n",
       "    </tr>\n",
       "    <tr>\n",
       "      <th>3297</th>\n",
       "      <td>2024</td>\n",
       "      <td>151</td>\n",
       "      <td>3301</td>\n",
       "      <td>59</td>\n",
       "      <td>3376</td>\n",
       "      <td>78</td>\n",
       "      <td>N</td>\n",
       "      <td>0</td>\n",
       "      <td>Loss</td>\n",
       "    </tr>\n",
       "    <tr>\n",
       "      <th>3298</th>\n",
       "      <td>2024</td>\n",
       "      <td>153</td>\n",
       "      <td>3376</td>\n",
       "      <td>87</td>\n",
       "      <td>3234</td>\n",
       "      <td>75</td>\n",
       "      <td>N</td>\n",
       "      <td>0</td>\n",
       "      <td>Win</td>\n",
       "    </tr>\n",
       "    <tr>\n",
       "      <th>3299</th>\n",
       "      <td>2024</td>\n",
       "      <td>153</td>\n",
       "      <td>3234</td>\n",
       "      <td>75</td>\n",
       "      <td>3376</td>\n",
       "      <td>87</td>\n",
       "      <td>N</td>\n",
       "      <td>0</td>\n",
       "      <td>Loss</td>\n",
       "    </tr>\n",
       "  </tbody>\n",
       "</table>\n",
       "<p>3300 rows × 9 columns</p>\n",
       "</div>"
      ],
      "text/plain": [
       "     Season DayNum TeamID Score_T OpposingTeamID Score_O Loc NumOT Outcome\n",
       "0      1998    137   3104      94           3422      46   H     0     Win\n",
       "1      1998    137   3422      46           3104      94   A     0    Loss\n",
       "2      1998    137   3112      75           3365      63   H     0     Win\n",
       "3      1998    137   3365      63           3112      75   A     0    Loss\n",
       "4      1998    137   3163      93           3193      52   H     0     Win\n",
       "...     ...    ...    ...     ...            ...     ...  ..   ...     ...\n",
       "3295   2024    151   3163      69           3234      71   N     0    Loss\n",
       "3296   2024    151   3376      78           3301      59   N     0     Win\n",
       "3297   2024    151   3301      59           3376      78   N     0    Loss\n",
       "3298   2024    153   3376      87           3234      75   N     0     Win\n",
       "3299   2024    153   3234      75           3376      87   N     0    Loss\n",
       "\n",
       "[3300 rows x 9 columns]"
      ]
     },
     "execution_count": 18,
     "metadata": {},
     "output_type": "execute_result"
    }
   ],
   "source": [
    "# Split data: one row per game becomes two rows\n",
    "WNCAATourneyCompactResults_teams = pd.DataFrame(columns=[\"Season\", \"DayNum\", \"TeamID\", \"Score_T\", \"OpposingTeamID\",\"Score_O\", \"Loc\", \"NumOT\", \"Outcome\"])\n",
    "\n",
    "for index, row in WNCAATourneyCompactResults.iterrows():\n",
    "    # Extract match information\n",
    "    season = row[\"Season\"]\n",
    "    day_num = row[\"DayNum\"]\n",
    "    w_team_id = row[\"WTeamID\"]\n",
    "    w_score = row[\"WScore\"]\n",
    "    l_team_id = row[\"LTeamID\"]\n",
    "    l_score = row[\"LScore\"]\n",
    "    w_loc = row[\"WLoc\"]\n",
    "    num_ot = row[\"NumOT\"]\n",
    "\n",
    "    # Add a row of data to represent the winning match results\n",
    "    winning_match_row = pd.DataFrame({\n",
    "        \"Season\": [season],\n",
    "        \"DayNum\": [day_num],\n",
    "        \"TeamID\": [w_team_id],\n",
    "        \"Score_T\": [w_score],\n",
    "        \"Score_O\": [l_score],\n",
    "        \"OpposingTeamID\": [l_team_id],\n",
    "        \"Loc\": [w_loc],\n",
    "        \"NumOT\": [num_ot],\n",
    "        \"Outcome\": [\"Win\"]\n",
    "    })\n",
    "    WNCAATourneyCompactResults_teams = pd.concat([WNCAATourneyCompactResults_teams, winning_match_row], ignore_index=True)\n",
    "\n",
    "    # Add a row of data to represent the result of the losing game\n",
    "    losing_match_row = pd.DataFrame({\n",
    "        \"Season\": [season],\n",
    "        \"DayNum\": [day_num],\n",
    "        \"TeamID\": [l_team_id],\n",
    "        \"Score_T\": [l_score],\n",
    "        \"Score_O\": [w_score],\n",
    "        \"OpposingTeamID\": [w_team_id],\n",
    "        \"Loc\": [\"H\" if w_loc == \"A\" else \"A\" if w_loc == \"H\" else \"N\"],\n",
    "        \"NumOT\": [num_ot],\n",
    "        \"Outcome\": [\"Loss\"]\n",
    "    })\n",
    "    WNCAATourneyCompactResults_teams = pd.concat([WNCAATourneyCompactResults_teams, losing_match_row], ignore_index=True)\n",
    "    \n",
    "WNCAATourneyCompactResults_teams\n"
   ]
  },
  {
   "cell_type": "markdown",
   "id": "94eae433",
   "metadata": {
    "papermill": {
     "duration": 0.033709,
     "end_time": "2024-03-16T17:54:40.563230",
     "exception": false,
     "start_time": "2024-03-16T17:54:40.529521",
     "status": "completed"
    },
    "tags": []
   },
   "source": [
    "# 4. **Seed**\n",
    "**Men**"
   ]
  },
  {
   "cell_type": "code",
   "execution_count": 19,
   "id": "9f9e55f6",
   "metadata": {
    "execution": {
     "iopub.execute_input": "2024-03-16T17:54:40.629813Z",
     "iopub.status.busy": "2024-03-16T17:54:40.629370Z",
     "iopub.status.idle": "2024-03-16T17:54:40.689126Z",
     "shell.execute_reply": "2024-03-16T17:54:40.688312Z"
    },
    "papermill": {
     "duration": 0.095237,
     "end_time": "2024-03-16T17:54:40.691410",
     "exception": false,
     "start_time": "2024-03-16T17:54:40.596173",
     "status": "completed"
    },
    "tags": []
   },
   "outputs": [
    {
     "data": {
      "application/vnd.microsoft.datawrangler.viewer.v0+json": {
       "columns": [
        {
         "name": "index",
         "rawType": "int64",
         "type": "integer"
        },
        {
         "name": "Season",
         "rawType": "object",
         "type": "unknown"
        },
        {
         "name": "DayNum",
         "rawType": "object",
         "type": "unknown"
        },
        {
         "name": "TeamID",
         "rawType": "object",
         "type": "unknown"
        },
        {
         "name": "Score_T",
         "rawType": "object",
         "type": "unknown"
        },
        {
         "name": "OpposingTeamID",
         "rawType": "object",
         "type": "unknown"
        },
        {
         "name": "Score_O",
         "rawType": "object",
         "type": "unknown"
        },
        {
         "name": "Loc",
         "rawType": "object",
         "type": "string"
        },
        {
         "name": "NumOT",
         "rawType": "object",
         "type": "unknown"
        },
        {
         "name": "Outcome",
         "rawType": "object",
         "type": "string"
        },
        {
         "name": "Seed_T",
         "rawType": "object",
         "type": "string"
        },
        {
         "name": "Seed_O",
         "rawType": "object",
         "type": "string"
        },
        {
         "name": "Rank_T",
         "rawType": "int64",
         "type": "integer"
        },
        {
         "name": "Rank_O",
         "rawType": "int64",
         "type": "integer"
        },
        {
         "name": "RankDiff",
         "rawType": "int64",
         "type": "integer"
        },
        {
         "name": "ScoreDiff",
         "rawType": "object",
         "type": "unknown"
        }
       ],
       "conversionMethod": "pd.DataFrame",
       "ref": "4826bf46-828d-4b6b-b7f0-ff96c4fbe93e",
       "rows": [
        [
         "0",
         "1985",
         "136",
         "1116",
         "63",
         "1234",
         "54",
         "N",
         "0",
         "Win",
         "X09",
         "X08",
         "9",
         "8",
         "-1",
         "-9"
        ],
        [
         "1",
         "1985",
         "136",
         "1234",
         "54",
         "1116",
         "63",
         "N",
         "0",
         "Loss",
         "X08",
         "X09",
         "8",
         "9",
         "1",
         "9"
        ],
        [
         "2",
         "1985",
         "136",
         "1120",
         "59",
         "1345",
         "58",
         "N",
         "0",
         "Win",
         "Z11",
         "Z06",
         "11",
         "6",
         "-5",
         "-1"
        ],
        [
         "3",
         "1985",
         "136",
         "1345",
         "58",
         "1120",
         "59",
         "N",
         "0",
         "Loss",
         "Z06",
         "Z11",
         "6",
         "11",
         "5",
         "1"
        ],
        [
         "4",
         "1985",
         "136",
         "1207",
         "68",
         "1250",
         "43",
         "N",
         "0",
         "Win",
         "W01",
         "W16",
         "1",
         "16",
         "15",
         "-25"
        ]
       ],
       "shape": {
        "columns": 15,
        "rows": 5
       }
      },
      "text/html": [
       "<div>\n",
       "<style scoped>\n",
       "    .dataframe tbody tr th:only-of-type {\n",
       "        vertical-align: middle;\n",
       "    }\n",
       "\n",
       "    .dataframe tbody tr th {\n",
       "        vertical-align: top;\n",
       "    }\n",
       "\n",
       "    .dataframe thead th {\n",
       "        text-align: right;\n",
       "    }\n",
       "</style>\n",
       "<table border=\"1\" class=\"dataframe\">\n",
       "  <thead>\n",
       "    <tr style=\"text-align: right;\">\n",
       "      <th></th>\n",
       "      <th>Season</th>\n",
       "      <th>DayNum</th>\n",
       "      <th>TeamID</th>\n",
       "      <th>Score_T</th>\n",
       "      <th>OpposingTeamID</th>\n",
       "      <th>Score_O</th>\n",
       "      <th>Loc</th>\n",
       "      <th>NumOT</th>\n",
       "      <th>Outcome</th>\n",
       "      <th>Seed_T</th>\n",
       "      <th>Seed_O</th>\n",
       "      <th>Rank_T</th>\n",
       "      <th>Rank_O</th>\n",
       "      <th>RankDiff</th>\n",
       "      <th>ScoreDiff</th>\n",
       "    </tr>\n",
       "  </thead>\n",
       "  <tbody>\n",
       "    <tr>\n",
       "      <th>0</th>\n",
       "      <td>1985</td>\n",
       "      <td>136</td>\n",
       "      <td>1116</td>\n",
       "      <td>63</td>\n",
       "      <td>1234</td>\n",
       "      <td>54</td>\n",
       "      <td>N</td>\n",
       "      <td>0</td>\n",
       "      <td>Win</td>\n",
       "      <td>X09</td>\n",
       "      <td>X08</td>\n",
       "      <td>9</td>\n",
       "      <td>8</td>\n",
       "      <td>-1</td>\n",
       "      <td>-9</td>\n",
       "    </tr>\n",
       "    <tr>\n",
       "      <th>1</th>\n",
       "      <td>1985</td>\n",
       "      <td>136</td>\n",
       "      <td>1234</td>\n",
       "      <td>54</td>\n",
       "      <td>1116</td>\n",
       "      <td>63</td>\n",
       "      <td>N</td>\n",
       "      <td>0</td>\n",
       "      <td>Loss</td>\n",
       "      <td>X08</td>\n",
       "      <td>X09</td>\n",
       "      <td>8</td>\n",
       "      <td>9</td>\n",
       "      <td>1</td>\n",
       "      <td>9</td>\n",
       "    </tr>\n",
       "    <tr>\n",
       "      <th>2</th>\n",
       "      <td>1985</td>\n",
       "      <td>136</td>\n",
       "      <td>1120</td>\n",
       "      <td>59</td>\n",
       "      <td>1345</td>\n",
       "      <td>58</td>\n",
       "      <td>N</td>\n",
       "      <td>0</td>\n",
       "      <td>Win</td>\n",
       "      <td>Z11</td>\n",
       "      <td>Z06</td>\n",
       "      <td>11</td>\n",
       "      <td>6</td>\n",
       "      <td>-5</td>\n",
       "      <td>-1</td>\n",
       "    </tr>\n",
       "    <tr>\n",
       "      <th>3</th>\n",
       "      <td>1985</td>\n",
       "      <td>136</td>\n",
       "      <td>1345</td>\n",
       "      <td>58</td>\n",
       "      <td>1120</td>\n",
       "      <td>59</td>\n",
       "      <td>N</td>\n",
       "      <td>0</td>\n",
       "      <td>Loss</td>\n",
       "      <td>Z06</td>\n",
       "      <td>Z11</td>\n",
       "      <td>6</td>\n",
       "      <td>11</td>\n",
       "      <td>5</td>\n",
       "      <td>1</td>\n",
       "    </tr>\n",
       "    <tr>\n",
       "      <th>4</th>\n",
       "      <td>1985</td>\n",
       "      <td>136</td>\n",
       "      <td>1207</td>\n",
       "      <td>68</td>\n",
       "      <td>1250</td>\n",
       "      <td>43</td>\n",
       "      <td>N</td>\n",
       "      <td>0</td>\n",
       "      <td>Win</td>\n",
       "      <td>W01</td>\n",
       "      <td>W16</td>\n",
       "      <td>1</td>\n",
       "      <td>16</td>\n",
       "      <td>15</td>\n",
       "      <td>-25</td>\n",
       "    </tr>\n",
       "  </tbody>\n",
       "</table>\n",
       "</div>"
      ],
      "text/plain": [
       "  Season DayNum TeamID Score_T OpposingTeamID Score_O Loc NumOT Outcome  \\\n",
       "0   1985    136   1116      63           1234      54   N     0     Win   \n",
       "1   1985    136   1234      54           1116      63   N     0    Loss   \n",
       "2   1985    136   1120      59           1345      58   N     0     Win   \n",
       "3   1985    136   1345      58           1120      59   N     0    Loss   \n",
       "4   1985    136   1207      68           1250      43   N     0     Win   \n",
       "\n",
       "  Seed_T Seed_O  Rank_T  Rank_O  RankDiff ScoreDiff  \n",
       "0    X09    X08       9       8        -1        -9  \n",
       "1    X08    X09       8       9         1         9  \n",
       "2    Z11    Z06      11       6        -5        -1  \n",
       "3    Z06    Z11       6      11         5         1  \n",
       "4    W01    W16       1      16        15       -25  "
      ]
     },
     "execution_count": 19,
     "metadata": {},
     "output_type": "execute_result"
    }
   ],
   "source": [
    "MNCAATourneyCompactResults_teamseed = pd.merge(MNCAATourneyCompactResults_teams, MNCAATourneySeeds[['Season','TeamID','Seed']], left_on=['Season','TeamID'], right_on=['Season','TeamID'], how='left').rename(columns={'Seed':'Seed_T'})\n",
    "MNCAATourneyCompactResults_teamseed\n",
    "\n",
    "MNCAATourneyCompactResults_teamseeds = pd.merge(MNCAATourneyCompactResults_teamseed, MNCAATourneySeeds[['Season','TeamID','Seed']], left_on=['Season','OpposingTeamID'], right_on=['Season','TeamID'], how='left').rename(columns={'Seed':'Seed_O','TeamID_x':'TeamID'})\n",
    "MNCAATourneyCompactResults_teamseeds.drop(columns=['TeamID_y'], inplace=True)\n",
    "MNCAATourneyCompactResults_teamseeds\n",
    "\n",
    "MNCAATourneyCompactResults_teamseeds['Rank_T'] = MNCAATourneyCompactResults_teamseeds['Seed_T'].str[1:3].astype(int)\n",
    "MNCAATourneyCompactResults_teamseeds['Rank_O'] = MNCAATourneyCompactResults_teamseeds['Seed_O'].str[1:3].astype(int)\n",
    "\n",
    "MNCAATourneyCompactResults_teamseeds['RankDiff'] = MNCAATourneyCompactResults_teamseeds['Rank_O'] - MNCAATourneyCompactResults_teamseeds['Rank_T']\n",
    "MNCAATourneyCompactResults_teamseeds['ScoreDiff'] = MNCAATourneyCompactResults_teamseeds['Score_O'] - MNCAATourneyCompactResults_teamseeds['Score_T']\n",
    "\n",
    "\n",
    "MNCAATourneyCompactResults_teamseeds.head()"
   ]
  },
  {
   "cell_type": "code",
   "execution_count": 21,
   "id": "4b89ea87",
   "metadata": {
    "execution": {
     "iopub.execute_input": "2024-03-16T17:54:40.758966Z",
     "iopub.status.busy": "2024-03-16T17:54:40.758289Z",
     "iopub.status.idle": "2024-03-16T17:54:41.223989Z",
     "shell.execute_reply": "2024-03-16T17:54:41.220411Z"
    },
    "papermill": {
     "duration": 0.503869,
     "end_time": "2024-03-16T17:54:41.227187",
     "exception": false,
     "start_time": "2024-03-16T17:54:40.723318",
     "status": "completed"
    },
    "tags": []
   },
   "outputs": [
    {
     "name": "stdout",
     "output_type": "stream",
     "text": [
      "<class 'pandas.core.frame.DataFrame'>\n",
      "RangeIndex: 309 entries, 0 to 308\n",
      "Data columns (total 2 columns):\n",
      " #   Column       Non-Null Count  Dtype\n",
      "---  ------       --------------  -----\n",
      " 0   TeamID       309 non-null    int64\n",
      " 1   1stD1Season  309 non-null    int64\n",
      "dtypes: int64(2)\n",
      "memory usage: 5.0 KB\n"
     ]
    }
   ],
   "source": [
    "team_ids = MNCAATourneyCompactResults_teamseeds['TeamID'].unique().tolist()\n",
    "team_ids\n",
    "team_info_list = []\n",
    "for team_id in team_ids:\n",
    "    team_data = MNCAATourneyCompactResults_teamseeds[MNCAATourneyCompactResults_teamseeds['TeamID'] == team_id].iloc[0]  \n",
    "    team_info_list.append({'TeamID': team_id,\n",
    "                           '1stD1Season': team_data['Season']})\n",
    "team_1stD1Season_M = pd.DataFrame(team_info_list)\n",
    "team_1stD1Season_M.info()"
   ]
  },
  {
   "cell_type": "code",
   "execution_count": 22,
   "id": "2df8b48b",
   "metadata": {
    "execution": {
     "iopub.execute_input": "2024-03-16T17:54:41.295523Z",
     "iopub.status.busy": "2024-03-16T17:54:41.294764Z",
     "iopub.status.idle": "2024-03-16T17:54:41.335737Z",
     "shell.execute_reply": "2024-03-16T17:54:41.334599Z"
    },
    "papermill": {
     "duration": 0.078467,
     "end_time": "2024-03-16T17:54:41.338660",
     "exception": false,
     "start_time": "2024-03-16T17:54:41.260193",
     "status": "completed"
    },
    "tags": []
   },
   "outputs": [
    {
     "data": {
      "application/vnd.microsoft.datawrangler.viewer.v0+json": {
       "columns": [
        {
         "name": "index",
         "rawType": "int64",
         "type": "integer"
        },
        {
         "name": "Season",
         "rawType": "object",
         "type": "unknown"
        },
        {
         "name": "DayNum",
         "rawType": "object",
         "type": "unknown"
        },
        {
         "name": "TeamID",
         "rawType": "object",
         "type": "unknown"
        },
        {
         "name": "Score_T",
         "rawType": "object",
         "type": "unknown"
        },
        {
         "name": "OpposingTeamID",
         "rawType": "object",
         "type": "unknown"
        },
        {
         "name": "Score_O",
         "rawType": "object",
         "type": "unknown"
        },
        {
         "name": "Loc",
         "rawType": "object",
         "type": "string"
        },
        {
         "name": "NumOT",
         "rawType": "object",
         "type": "unknown"
        },
        {
         "name": "Outcome",
         "rawType": "object",
         "type": "string"
        },
        {
         "name": "Seed_T",
         "rawType": "object",
         "type": "string"
        },
        {
         "name": "Seed_O",
         "rawType": "object",
         "type": "string"
        },
        {
         "name": "Rank_T",
         "rawType": "int64",
         "type": "integer"
        },
        {
         "name": "Rank_O",
         "rawType": "int64",
         "type": "integer"
        },
        {
         "name": "RankDiff",
         "rawType": "int64",
         "type": "integer"
        },
        {
         "name": "ScoreDiff",
         "rawType": "object",
         "type": "unknown"
        },
        {
         "name": "1stD1Season_T",
         "rawType": "int64",
         "type": "integer"
        },
        {
         "name": "1stD1Season_O",
         "rawType": "int64",
         "type": "integer"
        }
       ],
       "conversionMethod": "pd.DataFrame",
       "ref": "f569f06b-607b-41bf-a927-43502795f75e",
       "rows": [
        [
         "0",
         "1985",
         "136",
         "1116",
         "63",
         "1234",
         "54",
         "N",
         "0",
         "Win",
         "X09",
         "X08",
         "9",
         "8",
         "-1",
         "-9",
         "1985",
         "1985"
        ],
        [
         "1",
         "1985",
         "136",
         "1234",
         "54",
         "1116",
         "63",
         "N",
         "0",
         "Loss",
         "X08",
         "X09",
         "8",
         "9",
         "1",
         "9",
         "1985",
         "1985"
        ],
        [
         "2",
         "1985",
         "136",
         "1120",
         "59",
         "1345",
         "58",
         "N",
         "0",
         "Win",
         "Z11",
         "Z06",
         "11",
         "6",
         "-5",
         "-1",
         "1985",
         "1985"
        ],
        [
         "3",
         "1985",
         "136",
         "1345",
         "58",
         "1120",
         "59",
         "N",
         "0",
         "Loss",
         "Z06",
         "Z11",
         "6",
         "11",
         "5",
         "1",
         "1985",
         "1985"
        ],
        [
         "4",
         "1985",
         "136",
         "1207",
         "68",
         "1250",
         "43",
         "N",
         "0",
         "Win",
         "W01",
         "W16",
         "1",
         "16",
         "15",
         "-25",
         "1985",
         "1985"
        ]
       ],
       "shape": {
        "columns": 17,
        "rows": 5
       }
      },
      "text/html": [
       "<div>\n",
       "<style scoped>\n",
       "    .dataframe tbody tr th:only-of-type {\n",
       "        vertical-align: middle;\n",
       "    }\n",
       "\n",
       "    .dataframe tbody tr th {\n",
       "        vertical-align: top;\n",
       "    }\n",
       "\n",
       "    .dataframe thead th {\n",
       "        text-align: right;\n",
       "    }\n",
       "</style>\n",
       "<table border=\"1\" class=\"dataframe\">\n",
       "  <thead>\n",
       "    <tr style=\"text-align: right;\">\n",
       "      <th></th>\n",
       "      <th>Season</th>\n",
       "      <th>DayNum</th>\n",
       "      <th>TeamID</th>\n",
       "      <th>Score_T</th>\n",
       "      <th>OpposingTeamID</th>\n",
       "      <th>Score_O</th>\n",
       "      <th>Loc</th>\n",
       "      <th>NumOT</th>\n",
       "      <th>Outcome</th>\n",
       "      <th>Seed_T</th>\n",
       "      <th>Seed_O</th>\n",
       "      <th>Rank_T</th>\n",
       "      <th>Rank_O</th>\n",
       "      <th>RankDiff</th>\n",
       "      <th>ScoreDiff</th>\n",
       "      <th>1stD1Season_T</th>\n",
       "      <th>1stD1Season_O</th>\n",
       "    </tr>\n",
       "  </thead>\n",
       "  <tbody>\n",
       "    <tr>\n",
       "      <th>0</th>\n",
       "      <td>1985</td>\n",
       "      <td>136</td>\n",
       "      <td>1116</td>\n",
       "      <td>63</td>\n",
       "      <td>1234</td>\n",
       "      <td>54</td>\n",
       "      <td>N</td>\n",
       "      <td>0</td>\n",
       "      <td>Win</td>\n",
       "      <td>X09</td>\n",
       "      <td>X08</td>\n",
       "      <td>9</td>\n",
       "      <td>8</td>\n",
       "      <td>-1</td>\n",
       "      <td>-9</td>\n",
       "      <td>1985</td>\n",
       "      <td>1985</td>\n",
       "    </tr>\n",
       "    <tr>\n",
       "      <th>1</th>\n",
       "      <td>1985</td>\n",
       "      <td>136</td>\n",
       "      <td>1234</td>\n",
       "      <td>54</td>\n",
       "      <td>1116</td>\n",
       "      <td>63</td>\n",
       "      <td>N</td>\n",
       "      <td>0</td>\n",
       "      <td>Loss</td>\n",
       "      <td>X08</td>\n",
       "      <td>X09</td>\n",
       "      <td>8</td>\n",
       "      <td>9</td>\n",
       "      <td>1</td>\n",
       "      <td>9</td>\n",
       "      <td>1985</td>\n",
       "      <td>1985</td>\n",
       "    </tr>\n",
       "    <tr>\n",
       "      <th>2</th>\n",
       "      <td>1985</td>\n",
       "      <td>136</td>\n",
       "      <td>1120</td>\n",
       "      <td>59</td>\n",
       "      <td>1345</td>\n",
       "      <td>58</td>\n",
       "      <td>N</td>\n",
       "      <td>0</td>\n",
       "      <td>Win</td>\n",
       "      <td>Z11</td>\n",
       "      <td>Z06</td>\n",
       "      <td>11</td>\n",
       "      <td>6</td>\n",
       "      <td>-5</td>\n",
       "      <td>-1</td>\n",
       "      <td>1985</td>\n",
       "      <td>1985</td>\n",
       "    </tr>\n",
       "    <tr>\n",
       "      <th>3</th>\n",
       "      <td>1985</td>\n",
       "      <td>136</td>\n",
       "      <td>1345</td>\n",
       "      <td>58</td>\n",
       "      <td>1120</td>\n",
       "      <td>59</td>\n",
       "      <td>N</td>\n",
       "      <td>0</td>\n",
       "      <td>Loss</td>\n",
       "      <td>Z06</td>\n",
       "      <td>Z11</td>\n",
       "      <td>6</td>\n",
       "      <td>11</td>\n",
       "      <td>5</td>\n",
       "      <td>1</td>\n",
       "      <td>1985</td>\n",
       "      <td>1985</td>\n",
       "    </tr>\n",
       "    <tr>\n",
       "      <th>4</th>\n",
       "      <td>1985</td>\n",
       "      <td>136</td>\n",
       "      <td>1207</td>\n",
       "      <td>68</td>\n",
       "      <td>1250</td>\n",
       "      <td>43</td>\n",
       "      <td>N</td>\n",
       "      <td>0</td>\n",
       "      <td>Win</td>\n",
       "      <td>W01</td>\n",
       "      <td>W16</td>\n",
       "      <td>1</td>\n",
       "      <td>16</td>\n",
       "      <td>15</td>\n",
       "      <td>-25</td>\n",
       "      <td>1985</td>\n",
       "      <td>1985</td>\n",
       "    </tr>\n",
       "  </tbody>\n",
       "</table>\n",
       "</div>"
      ],
      "text/plain": [
       "  Season DayNum TeamID Score_T OpposingTeamID Score_O Loc NumOT Outcome  \\\n",
       "0   1985    136   1116      63           1234      54   N     0     Win   \n",
       "1   1985    136   1234      54           1116      63   N     0    Loss   \n",
       "2   1985    136   1120      59           1345      58   N     0     Win   \n",
       "3   1985    136   1345      58           1120      59   N     0    Loss   \n",
       "4   1985    136   1207      68           1250      43   N     0     Win   \n",
       "\n",
       "  Seed_T Seed_O  Rank_T  Rank_O  RankDiff ScoreDiff  1stD1Season_T  \\\n",
       "0    X09    X08       9       8        -1        -9           1985   \n",
       "1    X08    X09       8       9         1         9           1985   \n",
       "2    Z11    Z06      11       6        -5        -1           1985   \n",
       "3    Z06    Z11       6      11         5         1           1985   \n",
       "4    W01    W16       1      16        15       -25           1985   \n",
       "\n",
       "   1stD1Season_O  \n",
       "0           1985  \n",
       "1           1985  \n",
       "2           1985  \n",
       "3           1985  \n",
       "4           1985  "
      ]
     },
     "execution_count": 22,
     "metadata": {},
     "output_type": "execute_result"
    }
   ],
   "source": [
    "MNCAATourneyCompactResults_merge = pd.merge(MNCAATourneyCompactResults_teamseeds, team_1stD1Season_M[['TeamID','1stD1Season']], left_on=['TeamID'], right_on=['TeamID'], how='left').rename(columns={'1stD1Season':'1stD1Season_T'})\n",
    "MNCAATourneyCompactResults_merge = pd.merge(MNCAATourneyCompactResults_merge, team_1stD1Season_M[['TeamID','1stD1Season']], left_on=['OpposingTeamID'], right_on=['TeamID'], how='left').rename(columns={'1stD1Season':'1stD1Season_O','TeamID_x':'TeamID'})\n",
    "MNCAATourneyCompactResults_merge.drop(columns=['TeamID_y'], inplace=True)\n",
    "MNCAATourneyCompactResults_merge.head()"
   ]
  },
  {
   "cell_type": "markdown",
   "id": "46fab600",
   "metadata": {
    "papermill": {
     "duration": 0.030645,
     "end_time": "2024-03-16T17:54:41.400595",
     "exception": false,
     "start_time": "2024-03-16T17:54:41.369950",
     "status": "completed"
    },
    "tags": []
   },
   "source": [
    "**Women**"
   ]
  },
  {
   "cell_type": "code",
   "execution_count": 24,
   "id": "1cd19b81",
   "metadata": {
    "execution": {
     "iopub.execute_input": "2024-03-16T17:54:41.466583Z",
     "iopub.status.busy": "2024-03-16T17:54:41.465716Z",
     "iopub.status.idle": "2024-03-16T17:54:41.521345Z",
     "shell.execute_reply": "2024-03-16T17:54:41.520453Z"
    },
    "papermill": {
     "duration": 0.092067,
     "end_time": "2024-03-16T17:54:41.523646",
     "exception": false,
     "start_time": "2024-03-16T17:54:41.431579",
     "status": "completed"
    },
    "tags": []
   },
   "outputs": [
    {
     "data": {
      "application/vnd.microsoft.datawrangler.viewer.v0+json": {
       "columns": [
        {
         "name": "index",
         "rawType": "int64",
         "type": "integer"
        },
        {
         "name": "Season",
         "rawType": "object",
         "type": "unknown"
        },
        {
         "name": "DayNum",
         "rawType": "object",
         "type": "unknown"
        },
        {
         "name": "TeamID",
         "rawType": "object",
         "type": "unknown"
        },
        {
         "name": "Score_T",
         "rawType": "object",
         "type": "unknown"
        },
        {
         "name": "OpposingTeamID",
         "rawType": "object",
         "type": "unknown"
        },
        {
         "name": "Score_O",
         "rawType": "object",
         "type": "unknown"
        },
        {
         "name": "Loc",
         "rawType": "object",
         "type": "string"
        },
        {
         "name": "NumOT",
         "rawType": "object",
         "type": "unknown"
        },
        {
         "name": "Outcome",
         "rawType": "object",
         "type": "string"
        },
        {
         "name": "Seed_T",
         "rawType": "object",
         "type": "string"
        },
        {
         "name": "Seed_O",
         "rawType": "object",
         "type": "string"
        },
        {
         "name": "Rank_T",
         "rawType": "int64",
         "type": "integer"
        },
        {
         "name": "Rank_O",
         "rawType": "int64",
         "type": "integer"
        },
        {
         "name": "RankDiff",
         "rawType": "int64",
         "type": "integer"
        },
        {
         "name": "ScoreDiff",
         "rawType": "object",
         "type": "unknown"
        }
       ],
       "conversionMethod": "pd.DataFrame",
       "ref": "2d1f4b77-164d-4df1-af86-b82c1d408cc7",
       "rows": [
        [
         "0",
         "1998",
         "137",
         "3104",
         "94",
         "3422",
         "46",
         "H",
         "0",
         "Win",
         "X02",
         "X15",
         "2",
         "15",
         "13",
         "-9"
        ],
        [
         "1",
         "1998",
         "137",
         "3422",
         "46",
         "3104",
         "94",
         "A",
         "0",
         "Loss",
         "X15",
         "X02",
         "15",
         "2",
         "-13",
         "9"
        ],
        [
         "2",
         "1998",
         "137",
         "3112",
         "75",
         "3365",
         "63",
         "H",
         "0",
         "Win",
         "W03",
         "W14",
         "3",
         "14",
         "11",
         "-1"
        ],
        [
         "3",
         "1998",
         "137",
         "3365",
         "63",
         "3112",
         "75",
         "A",
         "0",
         "Loss",
         "W14",
         "W03",
         "14",
         "3",
         "-11",
         "1"
        ],
        [
         "4",
         "1998",
         "137",
         "3163",
         "93",
         "3193",
         "52",
         "H",
         "0",
         "Win",
         "W02",
         "W15",
         "2",
         "15",
         "13",
         "-25"
        ]
       ],
       "shape": {
        "columns": 15,
        "rows": 5
       }
      },
      "text/html": [
       "<div>\n",
       "<style scoped>\n",
       "    .dataframe tbody tr th:only-of-type {\n",
       "        vertical-align: middle;\n",
       "    }\n",
       "\n",
       "    .dataframe tbody tr th {\n",
       "        vertical-align: top;\n",
       "    }\n",
       "\n",
       "    .dataframe thead th {\n",
       "        text-align: right;\n",
       "    }\n",
       "</style>\n",
       "<table border=\"1\" class=\"dataframe\">\n",
       "  <thead>\n",
       "    <tr style=\"text-align: right;\">\n",
       "      <th></th>\n",
       "      <th>Season</th>\n",
       "      <th>DayNum</th>\n",
       "      <th>TeamID</th>\n",
       "      <th>Score_T</th>\n",
       "      <th>OpposingTeamID</th>\n",
       "      <th>Score_O</th>\n",
       "      <th>Loc</th>\n",
       "      <th>NumOT</th>\n",
       "      <th>Outcome</th>\n",
       "      <th>Seed_T</th>\n",
       "      <th>Seed_O</th>\n",
       "      <th>Rank_T</th>\n",
       "      <th>Rank_O</th>\n",
       "      <th>RankDiff</th>\n",
       "      <th>ScoreDiff</th>\n",
       "    </tr>\n",
       "  </thead>\n",
       "  <tbody>\n",
       "    <tr>\n",
       "      <th>0</th>\n",
       "      <td>1998</td>\n",
       "      <td>137</td>\n",
       "      <td>3104</td>\n",
       "      <td>94</td>\n",
       "      <td>3422</td>\n",
       "      <td>46</td>\n",
       "      <td>H</td>\n",
       "      <td>0</td>\n",
       "      <td>Win</td>\n",
       "      <td>X02</td>\n",
       "      <td>X15</td>\n",
       "      <td>2</td>\n",
       "      <td>15</td>\n",
       "      <td>13</td>\n",
       "      <td>-9</td>\n",
       "    </tr>\n",
       "    <tr>\n",
       "      <th>1</th>\n",
       "      <td>1998</td>\n",
       "      <td>137</td>\n",
       "      <td>3422</td>\n",
       "      <td>46</td>\n",
       "      <td>3104</td>\n",
       "      <td>94</td>\n",
       "      <td>A</td>\n",
       "      <td>0</td>\n",
       "      <td>Loss</td>\n",
       "      <td>X15</td>\n",
       "      <td>X02</td>\n",
       "      <td>15</td>\n",
       "      <td>2</td>\n",
       "      <td>-13</td>\n",
       "      <td>9</td>\n",
       "    </tr>\n",
       "    <tr>\n",
       "      <th>2</th>\n",
       "      <td>1998</td>\n",
       "      <td>137</td>\n",
       "      <td>3112</td>\n",
       "      <td>75</td>\n",
       "      <td>3365</td>\n",
       "      <td>63</td>\n",
       "      <td>H</td>\n",
       "      <td>0</td>\n",
       "      <td>Win</td>\n",
       "      <td>W03</td>\n",
       "      <td>W14</td>\n",
       "      <td>3</td>\n",
       "      <td>14</td>\n",
       "      <td>11</td>\n",
       "      <td>-1</td>\n",
       "    </tr>\n",
       "    <tr>\n",
       "      <th>3</th>\n",
       "      <td>1998</td>\n",
       "      <td>137</td>\n",
       "      <td>3365</td>\n",
       "      <td>63</td>\n",
       "      <td>3112</td>\n",
       "      <td>75</td>\n",
       "      <td>A</td>\n",
       "      <td>0</td>\n",
       "      <td>Loss</td>\n",
       "      <td>W14</td>\n",
       "      <td>W03</td>\n",
       "      <td>14</td>\n",
       "      <td>3</td>\n",
       "      <td>-11</td>\n",
       "      <td>1</td>\n",
       "    </tr>\n",
       "    <tr>\n",
       "      <th>4</th>\n",
       "      <td>1998</td>\n",
       "      <td>137</td>\n",
       "      <td>3163</td>\n",
       "      <td>93</td>\n",
       "      <td>3193</td>\n",
       "      <td>52</td>\n",
       "      <td>H</td>\n",
       "      <td>0</td>\n",
       "      <td>Win</td>\n",
       "      <td>W02</td>\n",
       "      <td>W15</td>\n",
       "      <td>2</td>\n",
       "      <td>15</td>\n",
       "      <td>13</td>\n",
       "      <td>-25</td>\n",
       "    </tr>\n",
       "  </tbody>\n",
       "</table>\n",
       "</div>"
      ],
      "text/plain": [
       "  Season DayNum TeamID Score_T OpposingTeamID Score_O Loc NumOT Outcome  \\\n",
       "0   1998    137   3104      94           3422      46   H     0     Win   \n",
       "1   1998    137   3422      46           3104      94   A     0    Loss   \n",
       "2   1998    137   3112      75           3365      63   H     0     Win   \n",
       "3   1998    137   3365      63           3112      75   A     0    Loss   \n",
       "4   1998    137   3163      93           3193      52   H     0     Win   \n",
       "\n",
       "  Seed_T Seed_O  Rank_T  Rank_O  RankDiff ScoreDiff  \n",
       "0    X02    X15       2      15        13        -9  \n",
       "1    X15    X02      15       2       -13         9  \n",
       "2    W03    W14       3      14        11        -1  \n",
       "3    W14    W03      14       3       -11         1  \n",
       "4    W02    W15       2      15        13       -25  "
      ]
     },
     "execution_count": 24,
     "metadata": {},
     "output_type": "execute_result"
    }
   ],
   "source": [
    "WNCAATourneyCompactResults_teamseed = pd.merge(WNCAATourneyCompactResults_teams, WNCAATourneySeeds[['Season','TeamID','Seed']], left_on=['Season','TeamID'], right_on=['Season','TeamID'], how='left').rename(columns={'Seed':'Seed_T'})\n",
    "WNCAATourneyCompactResults_teamseeds = pd.merge(WNCAATourneyCompactResults_teamseed, WNCAATourneySeeds[['Season','TeamID','Seed']], left_on=['Season','OpposingTeamID'], right_on=['Season','TeamID'], how='left').rename(columns={'Seed':'Seed_O','TeamID_x':'TeamID'})\n",
    "WNCAATourneyCompactResults_teamseeds.drop(columns=['TeamID_y'], inplace=True)\n",
    "\n",
    "WNCAATourneyCompactResults_teamseeds['Rank_T'] = WNCAATourneyCompactResults_teamseeds['Seed_T'].str[1:3].astype(int)\n",
    "WNCAATourneyCompactResults_teamseeds['Rank_O'] = WNCAATourneyCompactResults_teamseeds['Seed_O'].str[1:3].astype(int)\n",
    "\n",
    "WNCAATourneyCompactResults_teamseeds['RankDiff'] = WNCAATourneyCompactResults_teamseeds['Rank_O'] - WNCAATourneyCompactResults_teamseeds['Rank_T']\n",
    "WNCAATourneyCompactResults_teamseeds['ScoreDiff'] = MNCAATourneyCompactResults_teamseeds['Score_O'] - MNCAATourneyCompactResults_teamseeds['Score_T']\n",
    "\n",
    "WNCAATourneyCompactResults_teamseeds.head()"
   ]
  },
  {
   "cell_type": "code",
   "execution_count": 25,
   "id": "904da406",
   "metadata": {
    "execution": {
     "iopub.execute_input": "2024-03-16T17:54:41.590569Z",
     "iopub.status.busy": "2024-03-16T17:54:41.589728Z",
     "iopub.status.idle": "2024-03-16T17:54:41.944836Z",
     "shell.execute_reply": "2024-03-16T17:54:41.943672Z"
    },
    "papermill": {
     "duration": 0.391528,
     "end_time": "2024-03-16T17:54:41.947689",
     "exception": false,
     "start_time": "2024-03-16T17:54:41.556161",
     "status": "completed"
    },
    "tags": []
   },
   "outputs": [
    {
     "data": {
      "application/vnd.microsoft.datawrangler.viewer.v0+json": {
       "columns": [
        {
         "name": "index",
         "rawType": "int64",
         "type": "integer"
        },
        {
         "name": "Season",
         "rawType": "object",
         "type": "unknown"
        },
        {
         "name": "DayNum",
         "rawType": "object",
         "type": "unknown"
        },
        {
         "name": "TeamID",
         "rawType": "object",
         "type": "unknown"
        },
        {
         "name": "Score_T",
         "rawType": "object",
         "type": "unknown"
        },
        {
         "name": "OpposingTeamID",
         "rawType": "object",
         "type": "unknown"
        },
        {
         "name": "Score_O",
         "rawType": "object",
         "type": "unknown"
        },
        {
         "name": "Loc",
         "rawType": "object",
         "type": "string"
        },
        {
         "name": "NumOT",
         "rawType": "object",
         "type": "unknown"
        },
        {
         "name": "Outcome",
         "rawType": "object",
         "type": "string"
        },
        {
         "name": "Seed_T",
         "rawType": "object",
         "type": "string"
        },
        {
         "name": "Seed_O",
         "rawType": "object",
         "type": "string"
        },
        {
         "name": "Rank_T",
         "rawType": "int64",
         "type": "integer"
        },
        {
         "name": "Rank_O",
         "rawType": "int64",
         "type": "integer"
        },
        {
         "name": "RankDiff",
         "rawType": "int64",
         "type": "integer"
        },
        {
         "name": "ScoreDiff",
         "rawType": "object",
         "type": "unknown"
        },
        {
         "name": "1stD1Season_T",
         "rawType": "int64",
         "type": "integer"
        },
        {
         "name": "1stD1Season_O",
         "rawType": "int64",
         "type": "integer"
        }
       ],
       "conversionMethod": "pd.DataFrame",
       "ref": "774fb64d-65ee-4733-bd71-bbabd8294c7e",
       "rows": [
        [
         "0",
         "1998",
         "137",
         "3104",
         "94",
         "3422",
         "46",
         "H",
         "0",
         "Win",
         "X02",
         "X15",
         "2",
         "15",
         "13",
         "-9",
         "1998",
         "1998"
        ],
        [
         "1",
         "1998",
         "137",
         "3422",
         "46",
         "3104",
         "94",
         "A",
         "0",
         "Loss",
         "X15",
         "X02",
         "15",
         "2",
         "-13",
         "9",
         "1998",
         "1998"
        ],
        [
         "2",
         "1998",
         "137",
         "3112",
         "75",
         "3365",
         "63",
         "H",
         "0",
         "Win",
         "W03",
         "W14",
         "3",
         "14",
         "11",
         "-1",
         "1998",
         "1998"
        ],
        [
         "3",
         "1998",
         "137",
         "3365",
         "63",
         "3112",
         "75",
         "A",
         "0",
         "Loss",
         "W14",
         "W03",
         "14",
         "3",
         "-11",
         "1",
         "1998",
         "1998"
        ],
        [
         "4",
         "1998",
         "137",
         "3163",
         "93",
         "3193",
         "52",
         "H",
         "0",
         "Win",
         "W02",
         "W15",
         "2",
         "15",
         "13",
         "-25",
         "1998",
         "1998"
        ]
       ],
       "shape": {
        "columns": 17,
        "rows": 5
       }
      },
      "text/html": [
       "<div>\n",
       "<style scoped>\n",
       "    .dataframe tbody tr th:only-of-type {\n",
       "        vertical-align: middle;\n",
       "    }\n",
       "\n",
       "    .dataframe tbody tr th {\n",
       "        vertical-align: top;\n",
       "    }\n",
       "\n",
       "    .dataframe thead th {\n",
       "        text-align: right;\n",
       "    }\n",
       "</style>\n",
       "<table border=\"1\" class=\"dataframe\">\n",
       "  <thead>\n",
       "    <tr style=\"text-align: right;\">\n",
       "      <th></th>\n",
       "      <th>Season</th>\n",
       "      <th>DayNum</th>\n",
       "      <th>TeamID</th>\n",
       "      <th>Score_T</th>\n",
       "      <th>OpposingTeamID</th>\n",
       "      <th>Score_O</th>\n",
       "      <th>Loc</th>\n",
       "      <th>NumOT</th>\n",
       "      <th>Outcome</th>\n",
       "      <th>Seed_T</th>\n",
       "      <th>Seed_O</th>\n",
       "      <th>Rank_T</th>\n",
       "      <th>Rank_O</th>\n",
       "      <th>RankDiff</th>\n",
       "      <th>ScoreDiff</th>\n",
       "      <th>1stD1Season_T</th>\n",
       "      <th>1stD1Season_O</th>\n",
       "    </tr>\n",
       "  </thead>\n",
       "  <tbody>\n",
       "    <tr>\n",
       "      <th>0</th>\n",
       "      <td>1998</td>\n",
       "      <td>137</td>\n",
       "      <td>3104</td>\n",
       "      <td>94</td>\n",
       "      <td>3422</td>\n",
       "      <td>46</td>\n",
       "      <td>H</td>\n",
       "      <td>0</td>\n",
       "      <td>Win</td>\n",
       "      <td>X02</td>\n",
       "      <td>X15</td>\n",
       "      <td>2</td>\n",
       "      <td>15</td>\n",
       "      <td>13</td>\n",
       "      <td>-9</td>\n",
       "      <td>1998</td>\n",
       "      <td>1998</td>\n",
       "    </tr>\n",
       "    <tr>\n",
       "      <th>1</th>\n",
       "      <td>1998</td>\n",
       "      <td>137</td>\n",
       "      <td>3422</td>\n",
       "      <td>46</td>\n",
       "      <td>3104</td>\n",
       "      <td>94</td>\n",
       "      <td>A</td>\n",
       "      <td>0</td>\n",
       "      <td>Loss</td>\n",
       "      <td>X15</td>\n",
       "      <td>X02</td>\n",
       "      <td>15</td>\n",
       "      <td>2</td>\n",
       "      <td>-13</td>\n",
       "      <td>9</td>\n",
       "      <td>1998</td>\n",
       "      <td>1998</td>\n",
       "    </tr>\n",
       "    <tr>\n",
       "      <th>2</th>\n",
       "      <td>1998</td>\n",
       "      <td>137</td>\n",
       "      <td>3112</td>\n",
       "      <td>75</td>\n",
       "      <td>3365</td>\n",
       "      <td>63</td>\n",
       "      <td>H</td>\n",
       "      <td>0</td>\n",
       "      <td>Win</td>\n",
       "      <td>W03</td>\n",
       "      <td>W14</td>\n",
       "      <td>3</td>\n",
       "      <td>14</td>\n",
       "      <td>11</td>\n",
       "      <td>-1</td>\n",
       "      <td>1998</td>\n",
       "      <td>1998</td>\n",
       "    </tr>\n",
       "    <tr>\n",
       "      <th>3</th>\n",
       "      <td>1998</td>\n",
       "      <td>137</td>\n",
       "      <td>3365</td>\n",
       "      <td>63</td>\n",
       "      <td>3112</td>\n",
       "      <td>75</td>\n",
       "      <td>A</td>\n",
       "      <td>0</td>\n",
       "      <td>Loss</td>\n",
       "      <td>W14</td>\n",
       "      <td>W03</td>\n",
       "      <td>14</td>\n",
       "      <td>3</td>\n",
       "      <td>-11</td>\n",
       "      <td>1</td>\n",
       "      <td>1998</td>\n",
       "      <td>1998</td>\n",
       "    </tr>\n",
       "    <tr>\n",
       "      <th>4</th>\n",
       "      <td>1998</td>\n",
       "      <td>137</td>\n",
       "      <td>3163</td>\n",
       "      <td>93</td>\n",
       "      <td>3193</td>\n",
       "      <td>52</td>\n",
       "      <td>H</td>\n",
       "      <td>0</td>\n",
       "      <td>Win</td>\n",
       "      <td>W02</td>\n",
       "      <td>W15</td>\n",
       "      <td>2</td>\n",
       "      <td>15</td>\n",
       "      <td>13</td>\n",
       "      <td>-25</td>\n",
       "      <td>1998</td>\n",
       "      <td>1998</td>\n",
       "    </tr>\n",
       "  </tbody>\n",
       "</table>\n",
       "</div>"
      ],
      "text/plain": [
       "  Season DayNum TeamID Score_T OpposingTeamID Score_O Loc NumOT Outcome  \\\n",
       "0   1998    137   3104      94           3422      46   H     0     Win   \n",
       "1   1998    137   3422      46           3104      94   A     0    Loss   \n",
       "2   1998    137   3112      75           3365      63   H     0     Win   \n",
       "3   1998    137   3365      63           3112      75   A     0    Loss   \n",
       "4   1998    137   3163      93           3193      52   H     0     Win   \n",
       "\n",
       "  Seed_T Seed_O  Rank_T  Rank_O  RankDiff ScoreDiff  1stD1Season_T  \\\n",
       "0    X02    X15       2      15        13        -9           1998   \n",
       "1    X15    X02      15       2       -13         9           1998   \n",
       "2    W03    W14       3      14        11        -1           1998   \n",
       "3    W14    W03      14       3       -11         1           1998   \n",
       "4    W02    W15       2      15        13       -25           1998   \n",
       "\n",
       "   1stD1Season_O  \n",
       "0           1998  \n",
       "1           1998  \n",
       "2           1998  \n",
       "3           1998  \n",
       "4           1998  "
      ]
     },
     "execution_count": 25,
     "metadata": {},
     "output_type": "execute_result"
    }
   ],
   "source": [
    "team_ids = WNCAATourneyCompactResults_teamseeds['TeamID'].unique().tolist()\n",
    "team_info_list = []\n",
    "for team_id in team_ids:\n",
    "    team_data = WNCAATourneyCompactResults_teamseeds[WNCAATourneyCompactResults_teamseeds['TeamID'] == team_id].iloc[0]  # 选择每个团队的第一个条目\n",
    "    team_info_list.append({'TeamID': team_id,\n",
    "                           '1stD1Season': team_data['Season']})\n",
    "team_1stD1Season_W = pd.DataFrame(team_info_list)\n",
    "WNCAATourneyCompactResults_merge = pd.merge(WNCAATourneyCompactResults_teamseeds, team_1stD1Season_W[['TeamID','1stD1Season']], left_on=['TeamID'], right_on=['TeamID'], how='left').rename(columns={'1stD1Season':'1stD1Season_T'})\n",
    "WNCAATourneyCompactResults_merge = pd.merge(WNCAATourneyCompactResults_merge, team_1stD1Season_W[['TeamID','1stD1Season']], left_on=['OpposingTeamID'], right_on=['TeamID'], how='left').rename(columns={'1stD1Season':'1stD1Season_O','TeamID_x':'TeamID'})\n",
    "WNCAATourneyCompactResults_merge.drop(columns=['TeamID_y'], inplace=True)\n",
    "WNCAATourneyCompactResults_merge.head()"
   ]
  },
  {
   "cell_type": "markdown",
   "id": "94e5cfae",
   "metadata": {
    "papermill": {
     "duration": 0.033004,
     "end_time": "2024-03-16T17:54:42.013797",
     "exception": false,
     "start_time": "2024-03-16T17:54:41.980793",
     "status": "completed"
    },
    "tags": []
   },
   "source": [
    "# 5. **Choose data from 2010**\n",
    "**Men**"
   ]
  },
  {
   "cell_type": "code",
   "execution_count": 26,
   "id": "6f03036b",
   "metadata": {
    "execution": {
     "iopub.execute_input": "2024-03-16T17:54:42.082047Z",
     "iopub.status.busy": "2024-03-16T17:54:42.081541Z",
     "iopub.status.idle": "2024-03-16T17:54:42.102767Z",
     "shell.execute_reply": "2024-03-16T17:54:42.101371Z"
    },
    "papermill": {
     "duration": 0.058742,
     "end_time": "2024-03-16T17:54:42.106293",
     "exception": false,
     "start_time": "2024-03-16T17:54:42.047551",
     "status": "completed"
    },
    "tags": []
   },
   "outputs": [
    {
     "name": "stdout",
     "output_type": "stream",
     "text": [
      "<class 'pandas.core.frame.DataFrame'>\n",
      "RangeIndex: 1734 entries, 0 to 1733\n",
      "Data columns (total 17 columns):\n",
      " #   Column          Non-Null Count  Dtype \n",
      "---  ------          --------------  ----- \n",
      " 0   Season          1734 non-null   object\n",
      " 1   DayNum          1734 non-null   object\n",
      " 2   TeamID          1734 non-null   object\n",
      " 3   Score_T         1734 non-null   object\n",
      " 4   OpposingTeamID  1734 non-null   object\n",
      " 5   Score_O         1734 non-null   object\n",
      " 6   Loc             1734 non-null   object\n",
      " 7   NumOT           1734 non-null   object\n",
      " 8   Outcome         1734 non-null   object\n",
      " 9   Seed_T          1734 non-null   object\n",
      " 10  Seed_O          1734 non-null   object\n",
      " 11  Rank_T          1734 non-null   int64 \n",
      " 12  Rank_O          1734 non-null   int64 \n",
      " 13  RankDiff        1734 non-null   int64 \n",
      " 14  ScoreDiff       1734 non-null   object\n",
      " 15  1stD1Season_T   1734 non-null   int64 \n",
      " 16  1stD1Season_O   1734 non-null   int64 \n",
      "dtypes: int64(5), object(12)\n",
      "memory usage: 230.4+ KB\n"
     ]
    }
   ],
   "source": [
    "MNCAATourneyCompactResults_teams = MNCAATourneyCompactResults_merge[(MNCAATourneyCompactResults_merge['Season']>=2010) & (MNCAATourneyCompactResults_merge['Season']<2024)]\n",
    "MNCAATourneyCompactResults_teams.reset_index(drop=True).info()"
   ]
  },
  {
   "cell_type": "markdown",
   "id": "b291a15a",
   "metadata": {
    "papermill": {
     "duration": 0.032844,
     "end_time": "2024-03-16T17:54:42.173149",
     "exception": false,
     "start_time": "2024-03-16T17:54:42.140305",
     "status": "completed"
    },
    "tags": []
   },
   "source": [
    "**Women**"
   ]
  },
  {
   "cell_type": "code",
   "execution_count": 27,
   "id": "1f566631",
   "metadata": {
    "execution": {
     "iopub.execute_input": "2024-03-16T17:54:42.242233Z",
     "iopub.status.busy": "2024-03-16T17:54:42.241810Z",
     "iopub.status.idle": "2024-03-16T17:54:42.261480Z",
     "shell.execute_reply": "2024-03-16T17:54:42.259756Z"
    },
    "papermill": {
     "duration": 0.058033,
     "end_time": "2024-03-16T17:54:42.264550",
     "exception": false,
     "start_time": "2024-03-16T17:54:42.206517",
     "status": "completed"
    },
    "tags": []
   },
   "outputs": [
    {
     "name": "stdout",
     "output_type": "stream",
     "text": [
      "<class 'pandas.core.frame.DataFrame'>\n",
      "RangeIndex: 1654 entries, 0 to 1653\n",
      "Data columns (total 17 columns):\n",
      " #   Column          Non-Null Count  Dtype \n",
      "---  ------          --------------  ----- \n",
      " 0   Season          1654 non-null   object\n",
      " 1   DayNum          1654 non-null   object\n",
      " 2   TeamID          1654 non-null   object\n",
      " 3   Score_T         1654 non-null   object\n",
      " 4   OpposingTeamID  1654 non-null   object\n",
      " 5   Score_O         1654 non-null   object\n",
      " 6   Loc             1654 non-null   object\n",
      " 7   NumOT           1654 non-null   object\n",
      " 8   Outcome         1654 non-null   object\n",
      " 9   Seed_T          1654 non-null   object\n",
      " 10  Seed_O          1654 non-null   object\n",
      " 11  Rank_T          1654 non-null   int64 \n",
      " 12  Rank_O          1654 non-null   int64 \n",
      " 13  RankDiff        1654 non-null   int64 \n",
      " 14  ScoreDiff       1654 non-null   object\n",
      " 15  1stD1Season_T   1654 non-null   int64 \n",
      " 16  1stD1Season_O   1654 non-null   int64 \n",
      "dtypes: int64(5), object(12)\n",
      "memory usage: 219.8+ KB\n"
     ]
    }
   ],
   "source": [
    "WNCAATourneyCompactResults_teams = WNCAATourneyCompactResults_merge[(WNCAATourneyCompactResults_merge['Season']>=2010) & (WNCAATourneyCompactResults_merge['Season']<2024)]\n",
    "WNCAATourneyCompactResults_teams.reset_index(drop=True).info()"
   ]
  },
  {
   "cell_type": "markdown",
   "id": "bfdf8e1f",
   "metadata": {
    "papermill": {
     "duration": 0.03278,
     "end_time": "2024-03-16T17:54:42.330548",
     "exception": false,
     "start_time": "2024-03-16T17:54:42.297768",
     "status": "completed"
    },
    "tags": []
   },
   "source": [
    "# 6. Location (H/A/N)"
   ]
  },
  {
   "cell_type": "code",
   "execution_count": 28,
   "id": "b91195a7",
   "metadata": {
    "execution": {
     "iopub.execute_input": "2024-03-16T17:54:42.400854Z",
     "iopub.status.busy": "2024-03-16T17:54:42.400427Z",
     "iopub.status.idle": "2024-03-16T17:54:42.430826Z",
     "shell.execute_reply": "2024-03-16T17:54:42.429779Z"
    },
    "papermill": {
     "duration": 0.067533,
     "end_time": "2024-03-16T17:54:42.433010",
     "exception": false,
     "start_time": "2024-03-16T17:54:42.365477",
     "status": "completed"
    },
    "tags": []
   },
   "outputs": [
    {
     "name": "stderr",
     "output_type": "stream",
     "text": [
      "C:\\Users\\ravit\\AppData\\Local\\Temp\\ipykernel_9652\\3353591949.py:3: FutureWarning: Downcasting behavior in `replace` is deprecated and will be removed in a future version. To retain the old behavior, explicitly call `result.infer_objects(copy=False)`. To opt-in to the future behavior, set `pd.set_option('future.no_silent_downcasting', True)`\n",
      "  Mdf_Loc['Loc'] = Mdf_Loc['Loc'].replace({'H': 1, 'A': -1, 'N': 0})\n",
      "C:\\Users\\ravit\\AppData\\Local\\Temp\\ipykernel_9652\\3353591949.py:7: FutureWarning: Downcasting behavior in `replace` is deprecated and will be removed in a future version. To retain the old behavior, explicitly call `result.infer_objects(copy=False)`. To opt-in to the future behavior, set `pd.set_option('future.no_silent_downcasting', True)`\n",
      "  Wdf_Loc['Loc'] = Wdf_Loc['Loc'].replace({'H': 1, 'A': -1, 'N': 0})\n"
     ]
    },
    {
     "data": {
      "application/vnd.microsoft.datawrangler.viewer.v0+json": {
       "columns": [
        {
         "name": "index",
         "rawType": "int64",
         "type": "integer"
        },
        {
         "name": "Season",
         "rawType": "object",
         "type": "unknown"
        },
        {
         "name": "DayNum",
         "rawType": "object",
         "type": "unknown"
        },
        {
         "name": "TeamID",
         "rawType": "object",
         "type": "unknown"
        },
        {
         "name": "Score_T",
         "rawType": "object",
         "type": "unknown"
        },
        {
         "name": "OpposingTeamID",
         "rawType": "object",
         "type": "unknown"
        },
        {
         "name": "Score_O",
         "rawType": "object",
         "type": "unknown"
        },
        {
         "name": "Loc",
         "rawType": "int64",
         "type": "integer"
        },
        {
         "name": "NumOT",
         "rawType": "object",
         "type": "unknown"
        },
        {
         "name": "Outcome",
         "rawType": "object",
         "type": "string"
        },
        {
         "name": "Seed_T",
         "rawType": "object",
         "type": "string"
        },
        {
         "name": "Seed_O",
         "rawType": "object",
         "type": "string"
        },
        {
         "name": "Rank_T",
         "rawType": "int64",
         "type": "integer"
        },
        {
         "name": "Rank_O",
         "rawType": "int64",
         "type": "integer"
        },
        {
         "name": "RankDiff",
         "rawType": "int64",
         "type": "integer"
        },
        {
         "name": "ScoreDiff",
         "rawType": "object",
         "type": "unknown"
        },
        {
         "name": "1stD1Season_T",
         "rawType": "int64",
         "type": "integer"
        },
        {
         "name": "1stD1Season_O",
         "rawType": "int64",
         "type": "integer"
        }
       ],
       "conversionMethod": "pd.DataFrame",
       "ref": "ad777dfd-4bae-49f9-9fe7-28013610c70b",
       "rows": [
        [
         "0",
         "2010",
         "138",
         "3124",
         "69",
         "3201",
         "55",
         "0",
         "0",
         "Win",
         "X04",
         "X13",
         "4",
         "13",
         "9",
         "-8",
         "2001",
         "2008"
        ],
        [
         "1",
         "2010",
         "138",
         "3201",
         "55",
         "3124",
         "69",
         "0",
         "0",
         "Loss",
         "X13",
         "X04",
         "13",
         "4",
         "-9",
         "8",
         "2008",
         "2001"
        ],
        [
         "2",
         "2010",
         "138",
         "3173",
         "67",
         "3395",
         "66",
         "0",
         "0",
         "Win",
         "X08",
         "X09",
         "8",
         "9",
         "1",
         "-7",
         "2010",
         "2001"
        ],
        [
         "3",
         "2010",
         "138",
         "3395",
         "66",
         "3173",
         "67",
         "0",
         "0",
         "Loss",
         "X09",
         "X08",
         "9",
         "8",
         "-1",
         "7",
         "2001",
         "2010"
        ],
        [
         "4",
         "2010",
         "138",
         "3181",
         "72",
         "3214",
         "37",
         "1",
         "0",
         "Win",
         "X02",
         "X15",
         "2",
         "15",
         "13",
         "-3",
         "1998",
         "2000"
        ]
       ],
       "shape": {
        "columns": 17,
        "rows": 5
       }
      },
      "text/html": [
       "<div>\n",
       "<style scoped>\n",
       "    .dataframe tbody tr th:only-of-type {\n",
       "        vertical-align: middle;\n",
       "    }\n",
       "\n",
       "    .dataframe tbody tr th {\n",
       "        vertical-align: top;\n",
       "    }\n",
       "\n",
       "    .dataframe thead th {\n",
       "        text-align: right;\n",
       "    }\n",
       "</style>\n",
       "<table border=\"1\" class=\"dataframe\">\n",
       "  <thead>\n",
       "    <tr style=\"text-align: right;\">\n",
       "      <th></th>\n",
       "      <th>Season</th>\n",
       "      <th>DayNum</th>\n",
       "      <th>TeamID</th>\n",
       "      <th>Score_T</th>\n",
       "      <th>OpposingTeamID</th>\n",
       "      <th>Score_O</th>\n",
       "      <th>Loc</th>\n",
       "      <th>NumOT</th>\n",
       "      <th>Outcome</th>\n",
       "      <th>Seed_T</th>\n",
       "      <th>Seed_O</th>\n",
       "      <th>Rank_T</th>\n",
       "      <th>Rank_O</th>\n",
       "      <th>RankDiff</th>\n",
       "      <th>ScoreDiff</th>\n",
       "      <th>1stD1Season_T</th>\n",
       "      <th>1stD1Season_O</th>\n",
       "    </tr>\n",
       "  </thead>\n",
       "  <tbody>\n",
       "    <tr>\n",
       "      <th>0</th>\n",
       "      <td>2010</td>\n",
       "      <td>138</td>\n",
       "      <td>3124</td>\n",
       "      <td>69</td>\n",
       "      <td>3201</td>\n",
       "      <td>55</td>\n",
       "      <td>0</td>\n",
       "      <td>0</td>\n",
       "      <td>Win</td>\n",
       "      <td>X04</td>\n",
       "      <td>X13</td>\n",
       "      <td>4</td>\n",
       "      <td>13</td>\n",
       "      <td>9</td>\n",
       "      <td>-8</td>\n",
       "      <td>2001</td>\n",
       "      <td>2008</td>\n",
       "    </tr>\n",
       "    <tr>\n",
       "      <th>1</th>\n",
       "      <td>2010</td>\n",
       "      <td>138</td>\n",
       "      <td>3201</td>\n",
       "      <td>55</td>\n",
       "      <td>3124</td>\n",
       "      <td>69</td>\n",
       "      <td>0</td>\n",
       "      <td>0</td>\n",
       "      <td>Loss</td>\n",
       "      <td>X13</td>\n",
       "      <td>X04</td>\n",
       "      <td>13</td>\n",
       "      <td>4</td>\n",
       "      <td>-9</td>\n",
       "      <td>8</td>\n",
       "      <td>2008</td>\n",
       "      <td>2001</td>\n",
       "    </tr>\n",
       "    <tr>\n",
       "      <th>2</th>\n",
       "      <td>2010</td>\n",
       "      <td>138</td>\n",
       "      <td>3173</td>\n",
       "      <td>67</td>\n",
       "      <td>3395</td>\n",
       "      <td>66</td>\n",
       "      <td>0</td>\n",
       "      <td>0</td>\n",
       "      <td>Win</td>\n",
       "      <td>X08</td>\n",
       "      <td>X09</td>\n",
       "      <td>8</td>\n",
       "      <td>9</td>\n",
       "      <td>1</td>\n",
       "      <td>-7</td>\n",
       "      <td>2010</td>\n",
       "      <td>2001</td>\n",
       "    </tr>\n",
       "    <tr>\n",
       "      <th>3</th>\n",
       "      <td>2010</td>\n",
       "      <td>138</td>\n",
       "      <td>3395</td>\n",
       "      <td>66</td>\n",
       "      <td>3173</td>\n",
       "      <td>67</td>\n",
       "      <td>0</td>\n",
       "      <td>0</td>\n",
       "      <td>Loss</td>\n",
       "      <td>X09</td>\n",
       "      <td>X08</td>\n",
       "      <td>9</td>\n",
       "      <td>8</td>\n",
       "      <td>-1</td>\n",
       "      <td>7</td>\n",
       "      <td>2001</td>\n",
       "      <td>2010</td>\n",
       "    </tr>\n",
       "    <tr>\n",
       "      <th>4</th>\n",
       "      <td>2010</td>\n",
       "      <td>138</td>\n",
       "      <td>3181</td>\n",
       "      <td>72</td>\n",
       "      <td>3214</td>\n",
       "      <td>37</td>\n",
       "      <td>1</td>\n",
       "      <td>0</td>\n",
       "      <td>Win</td>\n",
       "      <td>X02</td>\n",
       "      <td>X15</td>\n",
       "      <td>2</td>\n",
       "      <td>15</td>\n",
       "      <td>13</td>\n",
       "      <td>-3</td>\n",
       "      <td>1998</td>\n",
       "      <td>2000</td>\n",
       "    </tr>\n",
       "  </tbody>\n",
       "</table>\n",
       "</div>"
      ],
      "text/plain": [
       "  Season DayNum TeamID Score_T OpposingTeamID Score_O  Loc NumOT Outcome  \\\n",
       "0   2010    138   3124      69           3201      55    0     0     Win   \n",
       "1   2010    138   3201      55           3124      69    0     0    Loss   \n",
       "2   2010    138   3173      67           3395      66    0     0     Win   \n",
       "3   2010    138   3395      66           3173      67    0     0    Loss   \n",
       "4   2010    138   3181      72           3214      37    1     0     Win   \n",
       "\n",
       "  Seed_T Seed_O  Rank_T  Rank_O  RankDiff ScoreDiff  1stD1Season_T  \\\n",
       "0    X04    X13       4      13         9        -8           2001   \n",
       "1    X13    X04      13       4        -9         8           2008   \n",
       "2    X08    X09       8       9         1        -7           2010   \n",
       "3    X09    X08       9       8        -1         7           2001   \n",
       "4    X02    X15       2      15        13        -3           1998   \n",
       "\n",
       "   1stD1Season_O  \n",
       "0           2008  \n",
       "1           2001  \n",
       "2           2001  \n",
       "3           2010  \n",
       "4           2000  "
      ]
     },
     "execution_count": 28,
     "metadata": {},
     "output_type": "execute_result"
    }
   ],
   "source": [
    "# Men\n",
    "Mdf_Loc = MNCAATourneyCompactResults_teams.copy()\n",
    "Mdf_Loc['Loc'] = Mdf_Loc['Loc'].replace({'H': 1, 'A': -1, 'N': 0})\n",
    "Mdf_Loc.reset_index(drop=True).head()\n",
    "# Women\n",
    "Wdf_Loc = WNCAATourneyCompactResults_teams.copy()\n",
    "Wdf_Loc['Loc'] = Wdf_Loc['Loc'].replace({'H': 1, 'A': -1, 'N': 0})\n",
    "Wdf_Loc.reset_index(drop=True).head()"
   ]
  },
  {
   "cell_type": "markdown",
   "id": "ddc40ee2",
   "metadata": {
    "papermill": {
     "duration": 0.035562,
     "end_time": "2024-03-16T17:54:42.502603",
     "exception": false,
     "start_time": "2024-03-16T17:54:42.467041",
     "status": "completed"
    },
    "tags": []
   },
   "source": [
    "# 7. Number and Rate of Winning in March Madness\n",
    "**Men**"
   ]
  },
  {
   "cell_type": "code",
   "execution_count": 29,
   "id": "12853716",
   "metadata": {
    "execution": {
     "iopub.execute_input": "2024-03-16T17:54:42.572716Z",
     "iopub.status.busy": "2024-03-16T17:54:42.571479Z",
     "iopub.status.idle": "2024-03-16T17:54:42.602518Z",
     "shell.execute_reply": "2024-03-16T17:54:42.601301Z"
    },
    "papermill": {
     "duration": 0.068645,
     "end_time": "2024-03-16T17:54:42.605012",
     "exception": false,
     "start_time": "2024-03-16T17:54:42.536367",
     "status": "completed"
    },
    "tags": []
   },
   "outputs": [
    {
     "data": {
      "application/vnd.microsoft.datawrangler.viewer.v0+json": {
       "columns": [
        {
         "name": "index",
         "rawType": "int64",
         "type": "integer"
        },
        {
         "name": "Season",
         "rawType": "object",
         "type": "unknown"
        },
        {
         "name": "DayNum",
         "rawType": "object",
         "type": "unknown"
        },
        {
         "name": "TeamID",
         "rawType": "object",
         "type": "unknown"
        },
        {
         "name": "CompactAccount",
         "rawType": "int64",
         "type": "integer"
        },
        {
         "name": "WinAccount",
         "rawType": "int64",
         "type": "integer"
        },
        {
         "name": "WinningRate",
         "rawType": "float64",
         "type": "float"
        }
       ],
       "conversionMethod": "pd.DataFrame",
       "ref": "f21a3999-912b-4b91-aec6-9d355a54402a",
       "rows": [
        [
         "0",
         "2010",
         "134",
         "1115",
         "2",
         "1",
         "0.5"
        ],
        [
         "1",
         "2010",
         "134",
         "1457",
         "3",
         "0",
         "0.0"
        ],
        [
         "2",
         "2010",
         "136",
         "1124",
         "28",
         "19",
         "0.6785714285714286"
        ],
        [
         "3",
         "2010",
         "136",
         "1358",
         "1",
         "0",
         "0.0"
        ],
        [
         "4",
         "2010",
         "136",
         "1139",
         "23",
         "16",
         "0.6956521739130435"
        ]
       ],
       "shape": {
        "columns": 6,
        "rows": 5
       }
      },
      "text/html": [
       "<div>\n",
       "<style scoped>\n",
       "    .dataframe tbody tr th:only-of-type {\n",
       "        vertical-align: middle;\n",
       "    }\n",
       "\n",
       "    .dataframe tbody tr th {\n",
       "        vertical-align: top;\n",
       "    }\n",
       "\n",
       "    .dataframe thead th {\n",
       "        text-align: right;\n",
       "    }\n",
       "</style>\n",
       "<table border=\"1\" class=\"dataframe\">\n",
       "  <thead>\n",
       "    <tr style=\"text-align: right;\">\n",
       "      <th></th>\n",
       "      <th>Season</th>\n",
       "      <th>DayNum</th>\n",
       "      <th>TeamID</th>\n",
       "      <th>CompactAccount</th>\n",
       "      <th>WinAccount</th>\n",
       "      <th>WinningRate</th>\n",
       "    </tr>\n",
       "  </thead>\n",
       "  <tbody>\n",
       "    <tr>\n",
       "      <th>0</th>\n",
       "      <td>2010</td>\n",
       "      <td>134</td>\n",
       "      <td>1115</td>\n",
       "      <td>2</td>\n",
       "      <td>1</td>\n",
       "      <td>0.500000</td>\n",
       "    </tr>\n",
       "    <tr>\n",
       "      <th>1</th>\n",
       "      <td>2010</td>\n",
       "      <td>134</td>\n",
       "      <td>1457</td>\n",
       "      <td>3</td>\n",
       "      <td>0</td>\n",
       "      <td>0.000000</td>\n",
       "    </tr>\n",
       "    <tr>\n",
       "      <th>2</th>\n",
       "      <td>2010</td>\n",
       "      <td>136</td>\n",
       "      <td>1124</td>\n",
       "      <td>28</td>\n",
       "      <td>19</td>\n",
       "      <td>0.678571</td>\n",
       "    </tr>\n",
       "    <tr>\n",
       "      <th>3</th>\n",
       "      <td>2010</td>\n",
       "      <td>136</td>\n",
       "      <td>1358</td>\n",
       "      <td>1</td>\n",
       "      <td>0</td>\n",
       "      <td>0.000000</td>\n",
       "    </tr>\n",
       "    <tr>\n",
       "      <th>4</th>\n",
       "      <td>2010</td>\n",
       "      <td>136</td>\n",
       "      <td>1139</td>\n",
       "      <td>23</td>\n",
       "      <td>16</td>\n",
       "      <td>0.695652</td>\n",
       "    </tr>\n",
       "  </tbody>\n",
       "</table>\n",
       "</div>"
      ],
      "text/plain": [
       "  Season DayNum TeamID  CompactAccount  WinAccount  WinningRate\n",
       "0   2010    134   1115               2           1     0.500000\n",
       "1   2010    134   1457               3           0     0.000000\n",
       "2   2010    136   1124              28          19     0.678571\n",
       "3   2010    136   1358               1           0     0.000000\n",
       "4   2010    136   1139              23          16     0.695652"
      ]
     },
     "execution_count": 29,
     "metadata": {},
     "output_type": "execute_result"
    }
   ],
   "source": [
    "df_WinAccount = MNCAATourneyCompactResults_teams.copy()\n",
    "\n",
    "# Calculate the number of wins for each Team in history March Madness dataset\n",
    "win_counts = df_WinAccount[df_WinAccount['Outcome'] == 'Win']['TeamID'].value_counts()\n",
    "\n",
    "#Create a dictionary to map TeamID to the corresponding number of wins. If there is no win, the default is 0\n",
    "win_counts_dict = dict(win_counts)\n",
    "for team_id in df_WinAccount['TeamID'].unique():\n",
    "    if team_id not in win_counts_dict:\n",
    "        win_counts_dict[team_id] = 0\n",
    "\n",
    "# Add 'WinAccount' column\n",
    "df_WinAccount['WinAccount'] = df_WinAccount['TeamID'].map(win_counts_dict)\n",
    "df_WinAccount['WinAccount'] = df_WinAccount['WinAccount'].fillna(0)\n",
    "\n",
    "# Winning Rate in March Madness\n",
    "# Calculate the number of times each team has participated in the game\n",
    "team_appearances = df_WinAccount['TeamID'].value_counts() \n",
    "\n",
    "# Add the number of attendances for each game to the raw data\n",
    "df_WinAccount['CompactAccount'] = df_WinAccount['TeamID'].map(team_appearances)\n",
    "# Calculate each team's winning percentage when playing in March Madness\n",
    "df_WinAccount['WinningRate'] = df_WinAccount['WinAccount']/df_WinAccount['CompactAccount']\n",
    "df_WinAccount = df_WinAccount[['Season','DayNum','TeamID','CompactAccount','WinAccount','WinningRate']]\n",
    "df_WinAccount.reset_index(drop=True).head()"
   ]
  },
  {
   "cell_type": "code",
   "execution_count": 30,
   "id": "84344f62",
   "metadata": {
    "execution": {
     "iopub.execute_input": "2024-03-16T17:54:42.677465Z",
     "iopub.status.busy": "2024-03-16T17:54:42.676664Z",
     "iopub.status.idle": "2024-03-16T17:54:42.715540Z",
     "shell.execute_reply": "2024-03-16T17:54:42.714060Z"
    },
    "papermill": {
     "duration": 0.079219,
     "end_time": "2024-03-16T17:54:42.718651",
     "exception": false,
     "start_time": "2024-03-16T17:54:42.639432",
     "status": "completed"
    },
    "tags": []
   },
   "outputs": [
    {
     "name": "stdout",
     "output_type": "stream",
     "text": [
      "<class 'pandas.core.frame.DataFrame'>\n",
      "RangeIndex: 1734 entries, 0 to 1733\n",
      "Data columns (total 23 columns):\n",
      " #   Column            Non-Null Count  Dtype  \n",
      "---  ------            --------------  -----  \n",
      " 0   Season            1734 non-null   object \n",
      " 1   DayNum            1734 non-null   object \n",
      " 2   TeamID_T          1734 non-null   object \n",
      " 3   Score_T           1734 non-null   object \n",
      " 4   TeamID_O          1734 non-null   object \n",
      " 5   Score_O           1734 non-null   object \n",
      " 6   Loc               1734 non-null   int64  \n",
      " 7   NumOT             1734 non-null   object \n",
      " 8   Outcome           1734 non-null   object \n",
      " 9   Seed_T            1734 non-null   object \n",
      " 10  Seed_O            1734 non-null   object \n",
      " 11  Rank_T            1734 non-null   int64  \n",
      " 12  Rank_O            1734 non-null   int64  \n",
      " 13  RankDiff          1734 non-null   int64  \n",
      " 14  ScoreDiff         1734 non-null   object \n",
      " 15  1stD1Season_T     1734 non-null   int64  \n",
      " 16  1stD1Season_O     1734 non-null   int64  \n",
      " 17  CompactAccount_T  1734 non-null   int64  \n",
      " 18  WinAccount_T      1734 non-null   int64  \n",
      " 19  WinningRate_T     1734 non-null   float64\n",
      " 20  CompactAccount_O  1734 non-null   int64  \n",
      " 21  WinAccount_O      1734 non-null   int64  \n",
      " 22  WinningRate_O     1734 non-null   float64\n",
      "dtypes: float64(2), int64(10), object(11)\n",
      "memory usage: 311.7+ KB\n"
     ]
    }
   ],
   "source": [
    "df_merge_M = pd.merge(Mdf_Loc,df_WinAccount[['Season','DayNum','TeamID',\n",
    "                                             'CompactAccount','WinAccount','WinningRate'\n",
    "                                            ]],left_on=['Season','DayNum','TeamID'],\n",
    "                      right_on=['Season','DayNum','TeamID'],how='left')\n",
    "df_merge_M = df_merge_M.rename(columns={'CompactAccount':'CompactAccount_T',\n",
    "                                        'WinAccount':'WinAccount_T',\n",
    "                                        'WinningRate':'WinningRate_T',\n",
    "                                        'OpposingTeamID':'TeamID_O'\n",
    "                                       })\n",
    "df_merge_M = pd.merge(df_merge_M,df_WinAccount[['Season','DayNum','TeamID',\n",
    "                                             'CompactAccount','WinAccount','WinningRate'\n",
    "                                            ]],left_on=['Season','DayNum','TeamID_O'],\n",
    "                      right_on=['Season','DayNum','TeamID'],how='left')\n",
    "df_merge_M.drop(columns=['TeamID_y'], inplace=True)\n",
    "df_merge_M = df_merge_M.rename(columns={'CompactAccount':'CompactAccount_O',\n",
    "                                        'WinAccount':'WinAccount_O',\n",
    "                                        'WinningRate':'WinningRate_O',\n",
    "                                        'TeamID_x':'TeamID_T'\n",
    "                                       })\n",
    "\n",
    "df_merge_M.info()"
   ]
  },
  {
   "cell_type": "markdown",
   "id": "5167de31",
   "metadata": {
    "papermill": {
     "duration": 0.03417,
     "end_time": "2024-03-16T17:54:42.787461",
     "exception": false,
     "start_time": "2024-03-16T17:54:42.753291",
     "status": "completed"
    },
    "tags": []
   },
   "source": [
    "**Women**"
   ]
  },
  {
   "cell_type": "code",
   "execution_count": 31,
   "id": "02e644a0",
   "metadata": {
    "execution": {
     "iopub.execute_input": "2024-03-16T17:54:42.858596Z",
     "iopub.status.busy": "2024-03-16T17:54:42.858074Z",
     "iopub.status.idle": "2024-03-16T17:54:42.890797Z",
     "shell.execute_reply": "2024-03-16T17:54:42.889407Z"
    },
    "papermill": {
     "duration": 0.071921,
     "end_time": "2024-03-16T17:54:42.893569",
     "exception": false,
     "start_time": "2024-03-16T17:54:42.821648",
     "status": "completed"
    },
    "tags": []
   },
   "outputs": [
    {
     "data": {
      "application/vnd.microsoft.datawrangler.viewer.v0+json": {
       "columns": [
        {
         "name": "index",
         "rawType": "int64",
         "type": "integer"
        },
        {
         "name": "Season",
         "rawType": "object",
         "type": "unknown"
        },
        {
         "name": "DayNum",
         "rawType": "object",
         "type": "unknown"
        },
        {
         "name": "TeamID",
         "rawType": "object",
         "type": "unknown"
        },
        {
         "name": "CompactAccount",
         "rawType": "int64",
         "type": "integer"
        },
        {
         "name": "WinAccount",
         "rawType": "int64",
         "type": "integer"
        },
        {
         "name": "WinningRate",
         "rawType": "float64",
         "type": "float"
        }
       ],
       "conversionMethod": "pd.DataFrame",
       "ref": "064b7939-8eef-4b69-be0c-95b348a658a9",
       "rows": [
        [
         "0",
         "2010",
         "138",
         "3124",
         "51",
         "40",
         "0.7843137254901961"
        ],
        [
         "1",
         "2010",
         "138",
         "3201",
         "5",
         "0",
         "0.0"
        ],
        [
         "2",
         "2010",
         "138",
         "3173",
         "15",
         "6",
         "0.4"
        ],
        [
         "3",
         "2010",
         "138",
         "3395",
         "1",
         "0",
         "0.0"
        ],
        [
         "4",
         "2010",
         "138",
         "3181",
         "28",
         "19",
         "0.6785714285714286"
        ]
       ],
       "shape": {
        "columns": 6,
        "rows": 5
       }
      },
      "text/html": [
       "<div>\n",
       "<style scoped>\n",
       "    .dataframe tbody tr th:only-of-type {\n",
       "        vertical-align: middle;\n",
       "    }\n",
       "\n",
       "    .dataframe tbody tr th {\n",
       "        vertical-align: top;\n",
       "    }\n",
       "\n",
       "    .dataframe thead th {\n",
       "        text-align: right;\n",
       "    }\n",
       "</style>\n",
       "<table border=\"1\" class=\"dataframe\">\n",
       "  <thead>\n",
       "    <tr style=\"text-align: right;\">\n",
       "      <th></th>\n",
       "      <th>Season</th>\n",
       "      <th>DayNum</th>\n",
       "      <th>TeamID</th>\n",
       "      <th>CompactAccount</th>\n",
       "      <th>WinAccount</th>\n",
       "      <th>WinningRate</th>\n",
       "    </tr>\n",
       "  </thead>\n",
       "  <tbody>\n",
       "    <tr>\n",
       "      <th>0</th>\n",
       "      <td>2010</td>\n",
       "      <td>138</td>\n",
       "      <td>3124</td>\n",
       "      <td>51</td>\n",
       "      <td>40</td>\n",
       "      <td>0.784314</td>\n",
       "    </tr>\n",
       "    <tr>\n",
       "      <th>1</th>\n",
       "      <td>2010</td>\n",
       "      <td>138</td>\n",
       "      <td>3201</td>\n",
       "      <td>5</td>\n",
       "      <td>0</td>\n",
       "      <td>0.000000</td>\n",
       "    </tr>\n",
       "    <tr>\n",
       "      <th>2</th>\n",
       "      <td>2010</td>\n",
       "      <td>138</td>\n",
       "      <td>3173</td>\n",
       "      <td>15</td>\n",
       "      <td>6</td>\n",
       "      <td>0.400000</td>\n",
       "    </tr>\n",
       "    <tr>\n",
       "      <th>3</th>\n",
       "      <td>2010</td>\n",
       "      <td>138</td>\n",
       "      <td>3395</td>\n",
       "      <td>1</td>\n",
       "      <td>0</td>\n",
       "      <td>0.000000</td>\n",
       "    </tr>\n",
       "    <tr>\n",
       "      <th>4</th>\n",
       "      <td>2010</td>\n",
       "      <td>138</td>\n",
       "      <td>3181</td>\n",
       "      <td>28</td>\n",
       "      <td>19</td>\n",
       "      <td>0.678571</td>\n",
       "    </tr>\n",
       "  </tbody>\n",
       "</table>\n",
       "</div>"
      ],
      "text/plain": [
       "  Season DayNum TeamID  CompactAccount  WinAccount  WinningRate\n",
       "0   2010    138   3124              51          40     0.784314\n",
       "1   2010    138   3201               5           0     0.000000\n",
       "2   2010    138   3173              15           6     0.400000\n",
       "3   2010    138   3395               1           0     0.000000\n",
       "4   2010    138   3181              28          19     0.678571"
      ]
     },
     "execution_count": 31,
     "metadata": {},
     "output_type": "execute_result"
    }
   ],
   "source": [
    "Wdf_WinAccount = WNCAATourneyCompactResults_teams.copy()\n",
    "\n",
    "# Calculate the number of wins for each Team in history March Madness dataset\n",
    "Wwin_counts = Wdf_WinAccount[Wdf_WinAccount['Outcome'] == 'Win']['TeamID'].value_counts()\n",
    "\n",
    "#Create a dictionary to map TeamID to the corresponding number of wins. If there is no win, the default is 0\n",
    "win_counts_dict = dict(Wwin_counts)\n",
    "for team_id in Wdf_WinAccount['TeamID'].unique():\n",
    "    if team_id not in win_counts_dict:\n",
    "        win_counts_dict[team_id] = 0\n",
    "\n",
    "# Add 'WinAccount' column\n",
    "Wdf_WinAccount['WinAccount'] = Wdf_WinAccount['TeamID'].map(win_counts_dict)\n",
    "Wdf_WinAccount['WinAccount'] = Wdf_WinAccount['WinAccount'].fillna(0)\n",
    "\n",
    "# Winning Rate in March Madness\n",
    "# Calculate the number of times each team has participated in the game\n",
    "Wteam_appearances = Wdf_WinAccount['TeamID'].value_counts() \n",
    "\n",
    "# Add the number of attendances for each game to the raw data\n",
    "Wdf_WinAccount['CompactAccount'] = Wdf_WinAccount['TeamID'].map(Wteam_appearances)\n",
    "# Calculate each team's winning percentage when playing in March Madness\n",
    "Wdf_WinAccount['WinningRate'] = Wdf_WinAccount['WinAccount']/Wdf_WinAccount['CompactAccount']\n",
    "Wdf_WinAccount = Wdf_WinAccount[['Season','DayNum','TeamID','CompactAccount','WinAccount','WinningRate']]\n",
    "Wdf_WinAccount.reset_index(drop=True).head()"
   ]
  },
  {
   "cell_type": "code",
   "execution_count": 32,
   "id": "3556f8e1",
   "metadata": {
    "execution": {
     "iopub.execute_input": "2024-03-16T17:54:42.965092Z",
     "iopub.status.busy": "2024-03-16T17:54:42.964647Z",
     "iopub.status.idle": "2024-03-16T17:54:43.001962Z",
     "shell.execute_reply": "2024-03-16T17:54:43.000447Z"
    },
    "papermill": {
     "duration": 0.077008,
     "end_time": "2024-03-16T17:54:43.005298",
     "exception": false,
     "start_time": "2024-03-16T17:54:42.928290",
     "status": "completed"
    },
    "tags": []
   },
   "outputs": [
    {
     "name": "stdout",
     "output_type": "stream",
     "text": [
      "<class 'pandas.core.frame.DataFrame'>\n",
      "RangeIndex: 1654 entries, 0 to 1653\n",
      "Data columns (total 23 columns):\n",
      " #   Column            Non-Null Count  Dtype  \n",
      "---  ------            --------------  -----  \n",
      " 0   Season            1654 non-null   object \n",
      " 1   DayNum            1654 non-null   object \n",
      " 2   TeamID_T          1654 non-null   object \n",
      " 3   Score_T           1654 non-null   object \n",
      " 4   TeamID_O          1654 non-null   object \n",
      " 5   Score_O           1654 non-null   object \n",
      " 6   Loc               1654 non-null   int64  \n",
      " 7   NumOT             1654 non-null   object \n",
      " 8   Outcome           1654 non-null   object \n",
      " 9   Seed_T            1654 non-null   object \n",
      " 10  Seed_O            1654 non-null   object \n",
      " 11  Rank_T            1654 non-null   int64  \n",
      " 12  Rank_O            1654 non-null   int64  \n",
      " 13  RankDiff          1654 non-null   int64  \n",
      " 14  ScoreDiff         1654 non-null   object \n",
      " 15  1stD1Season_T     1654 non-null   int64  \n",
      " 16  1stD1Season_O     1654 non-null   int64  \n",
      " 17  CompactAccount_T  1654 non-null   int64  \n",
      " 18  WinAccount_T      1654 non-null   int64  \n",
      " 19  WinningRate_T     1654 non-null   float64\n",
      " 20  CompactAccount_O  1654 non-null   int64  \n",
      " 21  WinAccount_O      1654 non-null   int64  \n",
      " 22  WinningRate_O     1654 non-null   float64\n",
      "dtypes: float64(2), int64(10), object(11)\n",
      "memory usage: 297.3+ KB\n"
     ]
    }
   ],
   "source": [
    "df_merge_W = pd.merge(Wdf_Loc,Wdf_WinAccount[['Season','DayNum','TeamID',\n",
    "                                             'CompactAccount','WinAccount','WinningRate'\n",
    "                                            ]],left_on=['Season','DayNum','TeamID'],\n",
    "                      right_on=['Season','DayNum','TeamID'],how='left')\n",
    "df_merge_W = df_merge_W.rename(columns={'CompactAccount':'CompactAccount_T',\n",
    "                                        'WinAccount':'WinAccount_T',\n",
    "                                        'WinningRate':'WinningRate_T',\n",
    "                                        'OpposingTeamID':'TeamID_O'\n",
    "                                       })\n",
    "df_merge_W = pd.merge(df_merge_W,Wdf_WinAccount[['Season','DayNum','TeamID',\n",
    "                                             'CompactAccount','WinAccount','WinningRate'\n",
    "                                            ]],left_on=['Season','DayNum','TeamID_O'],\n",
    "                      right_on=['Season','DayNum','TeamID'],how='left')\n",
    "df_merge_W.drop(columns=['TeamID_y'], inplace=True)\n",
    "df_merge_W = df_merge_W.rename(columns={'CompactAccount':'CompactAccount_O',\n",
    "                                        'WinAccount':'WinAccount_O',\n",
    "                                        'WinningRate':'WinningRate_O',\n",
    "                                        'TeamID_x':'TeamID_T'\n",
    "                                       })\n",
    "\n",
    "df_merge_W.info()"
   ]
  },
  {
   "cell_type": "markdown",
   "id": "07a1fe4c",
   "metadata": {
    "papermill": {
     "duration": 0.034387,
     "end_time": "2024-03-16T17:54:43.074871",
     "exception": false,
     "start_time": "2024-03-16T17:54:43.040484",
     "status": "completed"
    },
    "tags": []
   },
   "source": [
    "# 8. Organize input data and format\n",
    "**Men**"
   ]
  },
  {
   "cell_type": "code",
   "execution_count": 33,
   "id": "1c0d72d9",
   "metadata": {
    "execution": {
     "iopub.execute_input": "2024-03-16T17:54:43.144976Z",
     "iopub.status.busy": "2024-03-16T17:54:43.144591Z",
     "iopub.status.idle": "2024-03-16T17:54:43.162951Z",
     "shell.execute_reply": "2024-03-16T17:54:43.161812Z"
    },
    "papermill": {
     "duration": 0.057443,
     "end_time": "2024-03-16T17:54:43.165920",
     "exception": false,
     "start_time": "2024-03-16T17:54:43.108477",
     "status": "completed"
    },
    "tags": []
   },
   "outputs": [
    {
     "name": "stdout",
     "output_type": "stream",
     "text": [
      "<class 'pandas.core.frame.DataFrame'>\n",
      "RangeIndex: 1734 entries, 0 to 1733\n",
      "Data columns (total 14 columns):\n",
      " #   Column            Non-Null Count  Dtype  \n",
      "---  ------            --------------  -----  \n",
      " 0   Season            1734 non-null   object \n",
      " 1   TeamID_T          1734 non-null   object \n",
      " 2   TeamID_O          1734 non-null   object \n",
      " 3   Rank_T            1734 non-null   int64  \n",
      " 4   Rank_O            1734 non-null   int64  \n",
      " 5   1stD1Season_T     1734 non-null   int64  \n",
      " 6   1stD1Season_O     1734 non-null   int64  \n",
      " 7   CompactAccount_T  1734 non-null   int64  \n",
      " 8   WinAccount_T      1734 non-null   int64  \n",
      " 9   WinningRate_T     1734 non-null   float64\n",
      " 10  CompactAccount_O  1734 non-null   int64  \n",
      " 11  WinAccount_O      1734 non-null   int64  \n",
      " 12  WinningRate_O     1734 non-null   float64\n",
      " 13  Outcome           1734 non-null   int64  \n",
      "dtypes: float64(2), int64(9), object(3)\n",
      "memory usage: 189.8+ KB\n"
     ]
    }
   ],
   "source": [
    "df_WandL_M = df_merge_M.copy()\n",
    "df_WandL_M['Outcome'] = df_merge_M['Outcome'].map({'Win': 1, 'Loss': 0})\n",
    "df_WandL_M.head()\n",
    "features_M = ['Season',  'TeamID_T', 'TeamID_O', \n",
    "               'Rank_T', 'Rank_O', '1stD1Season_T','1stD1Season_O',\n",
    "              'CompactAccount_T', 'WinAccount_T', 'WinningRate_T',\n",
    "               'CompactAccount_O', 'WinAccount_O', 'WinningRate_O']\n",
    "# Select target variable\n",
    "Target_M = 'Outcome'\n",
    "df_data_M = df_WandL_M[features_M + [Target_M]]\n",
    "df_data_M.info()"
   ]
  },
  {
   "cell_type": "markdown",
   "id": "73a0d631",
   "metadata": {
    "papermill": {
     "duration": 0.035006,
     "end_time": "2024-03-16T17:54:43.237668",
     "exception": false,
     "start_time": "2024-03-16T17:54:43.202662",
     "status": "completed"
    },
    "tags": []
   },
   "source": [
    "**Women**"
   ]
  },
  {
   "cell_type": "code",
   "execution_count": 34,
   "id": "cff8fb3d",
   "metadata": {
    "execution": {
     "iopub.execute_input": "2024-03-16T17:54:43.312090Z",
     "iopub.status.busy": "2024-03-16T17:54:43.311648Z",
     "iopub.status.idle": "2024-03-16T17:54:43.328629Z",
     "shell.execute_reply": "2024-03-16T17:54:43.327140Z"
    },
    "papermill": {
     "duration": 0.056923,
     "end_time": "2024-03-16T17:54:43.331509",
     "exception": false,
     "start_time": "2024-03-16T17:54:43.274586",
     "status": "completed"
    },
    "tags": []
   },
   "outputs": [
    {
     "name": "stdout",
     "output_type": "stream",
     "text": [
      "<class 'pandas.core.frame.DataFrame'>\n",
      "RangeIndex: 1654 entries, 0 to 1653\n",
      "Data columns (total 14 columns):\n",
      " #   Column            Non-Null Count  Dtype  \n",
      "---  ------            --------------  -----  \n",
      " 0   Season            1654 non-null   object \n",
      " 1   TeamID_T          1654 non-null   object \n",
      " 2   TeamID_O          1654 non-null   object \n",
      " 3   Rank_T            1654 non-null   int64  \n",
      " 4   Rank_O            1654 non-null   int64  \n",
      " 5   1stD1Season_T     1654 non-null   int64  \n",
      " 6   1stD1Season_O     1654 non-null   int64  \n",
      " 7   CompactAccount_T  1654 non-null   int64  \n",
      " 8   WinAccount_T      1654 non-null   int64  \n",
      " 9   WinningRate_T     1654 non-null   float64\n",
      " 10  CompactAccount_O  1654 non-null   int64  \n",
      " 11  WinAccount_O      1654 non-null   int64  \n",
      " 12  WinningRate_O     1654 non-null   float64\n",
      " 13  Outcome           1654 non-null   int64  \n",
      "dtypes: float64(2), int64(9), object(3)\n",
      "memory usage: 181.0+ KB\n"
     ]
    }
   ],
   "source": [
    "Wdf_WandL = df_merge_W.copy()\n",
    "Wdf_WandL['Outcome'] = df_merge_W['Outcome'].map({'Win': 1, 'Loss': 0})\n",
    "Wdf_WandL\n",
    "# Select and prepare features\n",
    "features_W = ['Season',  'TeamID_T', 'TeamID_O', \n",
    "               'Rank_T', 'Rank_O', '1stD1Season_T','1stD1Season_O',\n",
    "              'CompactAccount_T', 'WinAccount_T', 'WinningRate_T',\n",
    "               'CompactAccount_O', 'WinAccount_O', 'WinningRate_O']\n",
    "# Select target variable\n",
    "Target_W = 'Outcome'\n",
    "df_data_W = Wdf_WandL[features_W + [Target_W]]\n",
    "df_data_W.info()"
   ]
  },
  {
   "cell_type": "markdown",
   "id": "9a9b0c99",
   "metadata": {
    "papermill": {
     "duration": 0.03453,
     "end_time": "2024-03-16T17:54:43.401161",
     "exception": false,
     "start_time": "2024-03-16T17:54:43.366631",
     "status": "completed"
    },
    "tags": []
   },
   "source": [
    "# 9. Divide training set, validation set and test set\n",
    "**Men**"
   ]
  },
  {
   "cell_type": "code",
   "execution_count": 35,
   "id": "346a19b2",
   "metadata": {
    "execution": {
     "iopub.execute_input": "2024-03-16T17:54:43.471324Z",
     "iopub.status.busy": "2024-03-16T17:54:43.470924Z",
     "iopub.status.idle": "2024-03-16T17:54:43.776732Z",
     "shell.execute_reply": "2024-03-16T17:54:43.774794Z"
    },
    "papermill": {
     "duration": 0.344506,
     "end_time": "2024-03-16T17:54:43.779626",
     "exception": false,
     "start_time": "2024-03-16T17:54:43.435120",
     "status": "completed"
    },
    "tags": []
   },
   "outputs": [
    {
     "name": "stdout",
     "output_type": "stream",
     "text": [
      "Training set shape: (1334, 13)\n",
      "Validation set shape: (400, 13)\n"
     ]
    }
   ],
   "source": [
    "from sklearn.model_selection import train_test_split\n",
    "from sklearn.preprocessing import StandardScaler\n",
    "\n",
    "# Split the dataset into training, validation, and testing sets\n",
    "train_data = df_data_M[( df_data_M['Season'] <= 2020)]\n",
    "val_data = df_data_M[(df_data_M['Season'] > 2020) & (df_data_M['Season'] <= 2023)]\n",
    "# df_test = df_data_M[df_data_M['Season'] == 2023]\n",
    "\n",
    "# Reset indices after splitting\n",
    "train_data.reset_index(drop=True, inplace=True)\n",
    "val_data.reset_index(drop=True, inplace=True)\n",
    "# df_test.reset_index(drop=True, inplace=True)\n",
    "\n",
    "# Separate into features (X) and target variable (y) for each set\n",
    "X_train_df = train_data[features_M]\n",
    "y_train_df = train_data[Target_M]\n",
    "\n",
    "X_val_df = val_data[features_M]\n",
    "y_val_df = val_data[Target_M]\n",
    "\n",
    "# Display the shapes of the datasets\n",
    "print(\"Training set shape:\", X_train_df.shape)\n",
    "print(\"Validation set shape:\", X_val_df.shape)"
   ]
  },
  {
   "cell_type": "markdown",
   "id": "d1e6f44a",
   "metadata": {
    "papermill": {
     "duration": 0.033579,
     "end_time": "2024-03-16T17:54:43.848104",
     "exception": false,
     "start_time": "2024-03-16T17:54:43.814525",
     "status": "completed"
    },
    "tags": []
   },
   "source": [
    "**Women**"
   ]
  },
  {
   "cell_type": "code",
   "execution_count": 36,
   "id": "caf0e0f0",
   "metadata": {
    "execution": {
     "iopub.execute_input": "2024-03-16T17:54:43.918543Z",
     "iopub.status.busy": "2024-03-16T17:54:43.918052Z",
     "iopub.status.idle": "2024-03-16T17:54:43.933724Z",
     "shell.execute_reply": "2024-03-16T17:54:43.932285Z"
    },
    "papermill": {
     "duration": 0.053931,
     "end_time": "2024-03-16T17:54:43.936357",
     "exception": false,
     "start_time": "2024-03-16T17:54:43.882426",
     "status": "completed"
    },
    "tags": []
   },
   "outputs": [
    {
     "name": "stdout",
     "output_type": "stream",
     "text": [
      "Training set shape: (1260, 13)\n",
      "Validation set shape: (394, 13)\n"
     ]
    }
   ],
   "source": [
    "from sklearn.model_selection import train_test_split\n",
    "from sklearn.preprocessing import StandardScaler\n",
    "\n",
    "# Split the dataset into training, validation, and testing sets\n",
    "Wtrain_data = df_data_W[( df_data_W['Season'] <= 2020)]\n",
    "Wval_data = df_data_W[(df_data_W['Season'] > 2020) & (df_data_W['Season'] <= 2023)]\n",
    "# Wdf_test = df_data_W[df_data_W['Season'] == 2023]\n",
    "\n",
    "# Reset indices after splitting\n",
    "Wtrain_data.reset_index(drop=True, inplace=True)\n",
    "Wval_data.reset_index(drop=True, inplace=True)\n",
    "# Wdf_test.reset_index(drop=True, inplace=True)\n",
    "\n",
    "# Separate into features (X) and target variable (y) for each set\n",
    "X_train_Wdf = Wtrain_data[features_W]\n",
    "y_train_Wdf = Wtrain_data[Target_W]\n",
    "\n",
    "X_val_Wdf = Wval_data[features_W]\n",
    "y_val_Wdf = Wval_data[Target_W]\n",
    "\n",
    "# Display the shapes of the datasets\n",
    "print(\"Training set shape:\", X_train_Wdf.shape)\n",
    "print(\"Validation set shape:\", X_val_Wdf.shape)"
   ]
  },
  {
   "cell_type": "markdown",
   "id": "78d2277f",
   "metadata": {
    "papermill": {
     "duration": 0.03399,
     "end_time": "2024-03-16T17:54:44.005106",
     "exception": false,
     "start_time": "2024-03-16T17:54:43.971116",
     "status": "completed"
    },
    "tags": []
   },
   "source": [
    "# 10. Standardize features\n",
    "**Men**"
   ]
  },
  {
   "cell_type": "code",
   "execution_count": 37,
   "id": "2e45e8c4",
   "metadata": {
    "execution": {
     "iopub.execute_input": "2024-03-16T17:54:44.077093Z",
     "iopub.status.busy": "2024-03-16T17:54:44.076647Z",
     "iopub.status.idle": "2024-03-16T17:54:44.104825Z",
     "shell.execute_reply": "2024-03-16T17:54:44.103689Z"
    },
    "papermill": {
     "duration": 0.067511,
     "end_time": "2024-03-16T17:54:44.107409",
     "exception": false,
     "start_time": "2024-03-16T17:54:44.039898",
     "status": "completed"
    },
    "tags": []
   },
   "outputs": [
    {
     "name": "stdout",
     "output_type": "stream",
     "text": [
      "<class 'pandas.core.frame.DataFrame'>\n",
      "RangeIndex: 1334 entries, 0 to 1333\n",
      "Data columns (total 14 columns):\n",
      " #   Column            Non-Null Count  Dtype  \n",
      "---  ------            --------------  -----  \n",
      " 0   Season            1334 non-null   float64\n",
      " 1   TeamID_T          1334 non-null   float64\n",
      " 2   TeamID_O          1334 non-null   float64\n",
      " 3   Rank_T            1334 non-null   float64\n",
      " 4   Rank_O            1334 non-null   float64\n",
      " 5   1stD1Season_T     1334 non-null   float64\n",
      " 6   1stD1Season_O     1334 non-null   float64\n",
      " 7   CompactAccount_T  1334 non-null   float64\n",
      " 8   WinAccount_T      1334 non-null   float64\n",
      " 9   WinningRate_T     1334 non-null   float64\n",
      " 10  CompactAccount_O  1334 non-null   float64\n",
      " 11  WinAccount_O      1334 non-null   float64\n",
      " 12  WinningRate_O     1334 non-null   float64\n",
      " 13  Outcome           1334 non-null   int64  \n",
      "dtypes: float64(13), int64(1)\n",
      "memory usage: 146.0 KB\n"
     ]
    }
   ],
   "source": [
    "# Standardize features using Z-score normalization\n",
    "scaler = StandardScaler()\n",
    "\n",
    "# Fit the scaler on the training set\n",
    "X_train_standardized = scaler.fit_transform(X_train_df)\n",
    "\n",
    "# Transform the validation and test sets using the same scaler\n",
    "X_val_standardized = scaler.transform(X_val_df)\n",
    "\n",
    "# Add the target variable back to the DataFrames\n",
    "train_data_standardized = pd.DataFrame(X_train_standardized, columns=X_train_df.columns)\n",
    "train_data_standardized['Outcome'] = y_train_df\n",
    "\n",
    "val_data_standardized = pd.DataFrame(X_val_standardized, columns=X_val_df.columns)\n",
    "val_data_standardized['Outcome'] = y_val_df\n",
    "\n",
    "train_data_standardized.info()"
   ]
  },
  {
   "cell_type": "markdown",
   "id": "a10a313a",
   "metadata": {
    "papermill": {
     "duration": 0.03421,
     "end_time": "2024-03-16T17:54:44.176337",
     "exception": false,
     "start_time": "2024-03-16T17:54:44.142127",
     "status": "completed"
    },
    "tags": []
   },
   "source": [
    "**Women**"
   ]
  },
  {
   "cell_type": "code",
   "execution_count": 38,
   "id": "a0f20299",
   "metadata": {
    "execution": {
     "iopub.execute_input": "2024-03-16T17:54:44.247769Z",
     "iopub.status.busy": "2024-03-16T17:54:44.247278Z",
     "iopub.status.idle": "2024-03-16T17:54:44.277099Z",
     "shell.execute_reply": "2024-03-16T17:54:44.276196Z"
    },
    "papermill": {
     "duration": 0.068221,
     "end_time": "2024-03-16T17:54:44.279680",
     "exception": false,
     "start_time": "2024-03-16T17:54:44.211459",
     "status": "completed"
    },
    "tags": []
   },
   "outputs": [
    {
     "name": "stdout",
     "output_type": "stream",
     "text": [
      "<class 'pandas.core.frame.DataFrame'>\n",
      "RangeIndex: 1260 entries, 0 to 1259\n",
      "Data columns (total 14 columns):\n",
      " #   Column            Non-Null Count  Dtype  \n",
      "---  ------            --------------  -----  \n",
      " 0   Season            1260 non-null   float64\n",
      " 1   TeamID_T          1260 non-null   float64\n",
      " 2   TeamID_O          1260 non-null   float64\n",
      " 3   Rank_T            1260 non-null   float64\n",
      " 4   Rank_O            1260 non-null   float64\n",
      " 5   1stD1Season_T     1260 non-null   float64\n",
      " 6   1stD1Season_O     1260 non-null   float64\n",
      " 7   CompactAccount_T  1260 non-null   float64\n",
      " 8   WinAccount_T      1260 non-null   float64\n",
      " 9   WinningRate_T     1260 non-null   float64\n",
      " 10  CompactAccount_O  1260 non-null   float64\n",
      " 11  WinAccount_O      1260 non-null   float64\n",
      " 12  WinningRate_O     1260 non-null   float64\n",
      " 13  Outcome           1260 non-null   int64  \n",
      "dtypes: float64(13), int64(1)\n",
      "memory usage: 137.9 KB\n"
     ]
    }
   ],
   "source": [
    "# Standardize features using Z-score normalization\n",
    "scaler = StandardScaler()\n",
    "\n",
    "# Fit the scaler on the training set\n",
    "X_train_standardized_W = scaler.fit_transform(X_train_Wdf)\n",
    "\n",
    "# Transform the validation and test sets using the same scaler\n",
    "X_val_standardized_W = scaler.transform(X_val_Wdf)\n",
    "\n",
    "# Add the target variable back to the DataFrames\n",
    "train_data_standardized_W = pd.DataFrame(X_train_standardized_W, columns=X_train_Wdf.columns)\n",
    "train_data_standardized_W['Outcome'] = y_train_Wdf\n",
    "\n",
    "val_data_standardized_W = pd.DataFrame(X_val_standardized_W, columns=X_val_Wdf.columns)\n",
    "val_data_standardized_W['Outcome'] = y_val_Wdf\n",
    "\n",
    "train_data_standardized_W.info()"
   ]
  },
  {
   "cell_type": "markdown",
   "id": "3260d233",
   "metadata": {
    "papermill": {
     "duration": 0.033853,
     "end_time": "2024-03-16T17:54:44.347698",
     "exception": false,
     "start_time": "2024-03-16T17:54:44.313845",
     "status": "completed"
    },
    "tags": []
   },
   "source": [
    "# 11. Correlation Heatmap\n",
    "**Men**"
   ]
  },
  {
   "cell_type": "code",
   "execution_count": 39,
   "id": "bd7049fd",
   "metadata": {
    "execution": {
     "iopub.execute_input": "2024-03-16T17:54:44.417416Z",
     "iopub.status.busy": "2024-03-16T17:54:44.416988Z",
     "iopub.status.idle": "2024-03-16T17:54:45.582065Z",
     "shell.execute_reply": "2024-03-16T17:54:45.580638Z"
    },
    "papermill": {
     "duration": 1.205001,
     "end_time": "2024-03-16T17:54:45.586680",
     "exception": false,
     "start_time": "2024-03-16T17:54:44.381679",
     "status": "completed"
    },
    "tags": []
   },
   "outputs": [
    {
     "data": {
      "image/png": "[encoded data removed]",
      "text/plain": [
       "<Figure size 1200x1000 with 2 Axes>"
      ]
     },
     "metadata": {},
     "output_type": "display_data"
    }
   ],
   "source": [
    "import seaborn as sns\n",
    "import matplotlib.pyplot as plt\n",
    "\n",
    "corr_matrix = train_data_standardized.corr()\n",
    "\n",
    "# Create a heatmap\n",
    "plt.figure(figsize=(12, 10))\n",
    "sns.heatmap(corr_matrix, annot=True, cmap='coolwarm', fmt='.2f', linewidths=0.5)\n",
    "plt.title('Correlation Diagram for Standardized Training Data (Men)')\n",
    "plt.show()"
   ]
  },
  {
   "cell_type": "markdown",
   "id": "2dd78446",
   "metadata": {
    "papermill": {
     "duration": 0.042357,
     "end_time": "2024-03-16T17:54:45.668791",
     "exception": false,
     "start_time": "2024-03-16T17:54:45.626434",
     "status": "completed"
    },
    "tags": []
   },
   "source": [
    "**Women**"
   ]
  },
  {
   "cell_type": "code",
   "execution_count": 40,
   "id": "2b4fb3d2",
   "metadata": {
    "execution": {
     "iopub.execute_input": "2024-03-16T17:54:45.748343Z",
     "iopub.status.busy": "2024-03-16T17:54:45.747969Z",
     "iopub.status.idle": "2024-03-16T17:54:46.733920Z",
     "shell.execute_reply": "2024-03-16T17:54:46.732980Z"
    },
    "papermill": {
     "duration": 1.030838,
     "end_time": "2024-03-16T17:54:46.738613",
     "exception": false,
     "start_time": "2024-03-16T17:54:45.707775",
     "status": "completed"
    },
    "tags": []
   },
   "outputs": [
    {
     "data": {
      "image/png": "[encoded data removed]",
      "text/plain": [
       "<Figure size 1200x1000 with 2 Axes>"
      ]
     },
     "metadata": {},
     "output_type": "display_data"
    }
   ],
   "source": [
    "import seaborn as sns\n",
    "import matplotlib.pyplot as plt\n",
    "\n",
    "corr_matrix = train_data_standardized_W.corr()\n",
    "\n",
    "# Create a heatmap\n",
    "plt.figure(figsize=(12, 10))\n",
    "sns.heatmap(corr_matrix, annot=True, cmap='coolwarm', fmt='.2f', linewidths=0.5)\n",
    "plt.title('Correlation Diagram for Standardized Training Data (Women)')\n",
    "plt.show()"
   ]
  },
  {
   "cell_type": "markdown",
   "id": "d114231a",
   "metadata": {
    "papermill": {
     "duration": 0.042554,
     "end_time": "2024-03-16T17:54:46.824065",
     "exception": false,
     "start_time": "2024-03-16T17:54:46.781511",
     "status": "completed"
    },
    "tags": []
   },
   "source": [
    "# 12. Build and Train Model\n",
    "**Men**"
   ]
  },
  {
   "cell_type": "code",
   "execution_count": 41,
   "id": "384cbe7c",
   "metadata": {
    "execution": {
     "iopub.execute_input": "2024-03-16T17:54:46.912279Z",
     "iopub.status.busy": "2024-03-16T17:54:46.911244Z",
     "iopub.status.idle": "2024-03-16T17:55:05.464564Z",
     "shell.execute_reply": "2024-03-16T17:55:05.463387Z"
    },
    "papermill": {
     "duration": 18.600158,
     "end_time": "2024-03-16T17:55:05.467231",
     "exception": false,
     "start_time": "2024-03-16T17:54:46.867073",
     "status": "completed"
    },
    "tags": []
   },
   "outputs": [
    {
     "name": "stdout",
     "output_type": "stream",
     "text": [
      "Epoch 1/10\n"
     ]
    },
    {
     "name": "stderr",
     "output_type": "stream",
     "text": [
      "c:\\Users\\ravit\\Desktop\\kaggle\\mmnacc\\Lib\\site-packages\\keras\\src\\layers\\rnn\\rnn.py:200: UserWarning: Do not pass an `input_shape`/`input_dim` argument to a layer. When using Sequential models, prefer using an `Input(shape)` object as the first layer in the model instead.\n",
      "  super().__init__(**kwargs)\n"
     ]
    },
    {
     "name": "stdout",
     "output_type": "stream",
     "text": [
      "\u001b[1m84/84\u001b[0m \u001b[32m━━━━━━━━━━━━━━━━━━━━\u001b[0m\u001b[37m\u001b[0m \u001b[1m1s\u001b[0m 4ms/step - loss: 0.3367 - val_loss: 0.1791\n",
      "Epoch 2/10\n",
      "\u001b[1m84/84\u001b[0m \u001b[32m━━━━━━━━━━━━━━━━━━━━\u001b[0m\u001b[37m\u001b[0m \u001b[1m0s\u001b[0m 2ms/step - loss: 0.1669 - val_loss: 0.1703\n",
      "Epoch 3/10\n",
      "\u001b[1m84/84\u001b[0m \u001b[32m━━━━━━━━━━━━━━━━━━━━\u001b[0m\u001b[37m\u001b[0m \u001b[1m0s\u001b[0m 2ms/step - loss: 0.1631 - val_loss: 0.1670\n",
      "Epoch 4/10\n",
      "\u001b[1m84/84\u001b[0m \u001b[32m━━━━━━━━━━━━━━━━━━━━\u001b[0m\u001b[37m\u001b[0m \u001b[1m0s\u001b[0m 2ms/step - loss: 0.1616 - val_loss: 0.1641\n",
      "Epoch 5/10\n",
      "\u001b[1m84/84\u001b[0m \u001b[32m━━━━━━━━━━━━━━━━━━━━\u001b[0m\u001b[37m\u001b[0m \u001b[1m0s\u001b[0m 2ms/step - loss: 0.1574 - val_loss: 0.1643\n",
      "Epoch 6/10\n",
      "\u001b[1m84/84\u001b[0m \u001b[32m━━━━━━━━━━━━━━━━━━━━\u001b[0m\u001b[37m\u001b[0m \u001b[1m0s\u001b[0m 2ms/step - loss: 0.1631 - val_loss: 0.1622\n",
      "Epoch 7/10\n",
      "\u001b[1m84/84\u001b[0m \u001b[32m━━━━━━━━━━━━━━━━━━━━\u001b[0m\u001b[37m\u001b[0m \u001b[1m0s\u001b[0m 2ms/step - loss: 0.1560 - val_loss: 0.1621\n",
      "Epoch 8/10\n",
      "\u001b[1m84/84\u001b[0m \u001b[32m━━━━━━━━━━━━━━━━━━━━\u001b[0m\u001b[37m\u001b[0m \u001b[1m0s\u001b[0m 2ms/step - loss: 0.1493 - val_loss: 0.1617\n",
      "Epoch 9/10\n",
      "\u001b[1m84/84\u001b[0m \u001b[32m━━━━━━━━━━━━━━━━━━━━\u001b[0m\u001b[37m\u001b[0m \u001b[1m0s\u001b[0m 2ms/step - loss: 0.1470 - val_loss: 0.1624\n",
      "Epoch 10/10\n",
      "\u001b[1m84/84\u001b[0m \u001b[32m━━━━━━━━━━━━━━━━━━━━\u001b[0m\u001b[37m\u001b[0m \u001b[1m0s\u001b[0m 2ms/step - loss: 0.1523 - val_loss: 0.1616\n"
     ]
    },
    {
     "data": {
      "text/plain": [
       "<keras.src.callbacks.history.History at 0x204de8f9af0>"
      ]
     },
     "execution_count": 41,
     "metadata": {},
     "output_type": "execute_result"
    }
   ],
   "source": [
    "# Create input sequence\n",
    "X_train = train_data_standardized[features_M].values\n",
    "X_val = val_data_standardized[features_M].values\n",
    "\n",
    "# Create target sequence\n",
    "y_train = train_data_standardized[Target_M].values\n",
    "y_val = val_data_standardized[Target_M].values\n",
    "# y_test = test_data_standardized[Target].values\n",
    "\n",
    "from tensorflow.keras.models import Sequential\n",
    "from tensorflow.keras.layers import LSTM, Dense, Dropout\n",
    "\n",
    "# Reshape input sequences for compatibility with LSTM layer\n",
    "# X_train_3D = X_train.reshape((X_train.shape[0], X_train.shape[1], 1))\n",
    "# X_val_3D = X_val.reshape((X_val.shape[0], X_val.shape[1], 1))\n",
    "X_train_3D = X_train.reshape((X_train.shape[0], 1, X_train.shape[1]))\n",
    "X_val_3D = X_val.reshape((X_val.shape[0], 1, X_val.shape[1]))\n",
    "\n",
    "X_train_3D.shape\n",
    "\n",
    "# Create an RNN model\n",
    "model_M = Sequential()\n",
    "\n",
    "# Add the first LSTM layer with input_shape\n",
    "model_M.add(LSTM(units=50, activation='sigmoid', input_shape=(X_train_3D.shape[1], X_train_3D.shape[2])))\n",
    "\n",
    "# Add the output Dense layer\n",
    "model_M.add(Dense(units=1))\n",
    "\n",
    "# Compile the model\n",
    "model_M.compile(optimizer='adam', loss='mean_squared_error')\n",
    "\n",
    "# Train the model\n",
    "model_M.fit(X_train_3D, y_train, epochs=10, batch_size=16, validation_data=(X_val_3D, y_val))\n"
   ]
  },
  {
   "cell_type": "markdown",
   "id": "8d41fb0e",
   "metadata": {
    "papermill": {
     "duration": 0.04621,
     "end_time": "2024-03-16T17:55:05.561312",
     "exception": false,
     "start_time": "2024-03-16T17:55:05.515102",
     "status": "completed"
    },
    "tags": []
   },
   "source": [
    "**Women**"
   ]
  },
  {
   "cell_type": "code",
   "execution_count": 42,
   "id": "d34ce1cc",
   "metadata": {
    "execution": {
     "iopub.execute_input": "2024-03-16T17:55:05.657132Z",
     "iopub.status.busy": "2024-03-16T17:55:05.656718Z",
     "iopub.status.idle": "2024-03-16T17:55:10.637557Z",
     "shell.execute_reply": "2024-03-16T17:55:10.636294Z"
    },
    "papermill": {
     "duration": 5.03158,
     "end_time": "2024-03-16T17:55:10.640130",
     "exception": false,
     "start_time": "2024-03-16T17:55:05.608550",
     "status": "completed"
    },
    "tags": []
   },
   "outputs": [
    {
     "name": "stdout",
     "output_type": "stream",
     "text": [
      "Epoch 1/10\n"
     ]
    },
    {
     "name": "stderr",
     "output_type": "stream",
     "text": [
      "c:\\Users\\ravit\\Desktop\\kaggle\\mmnacc\\Lib\\site-packages\\keras\\src\\layers\\rnn\\rnn.py:200: UserWarning: Do not pass an `input_shape`/`input_dim` argument to a layer. When using Sequential models, prefer using an `Input(shape)` object as the first layer in the model instead.\n",
      "  super().__init__(**kwargs)\n"
     ]
    },
    {
     "name": "stdout",
     "output_type": "stream",
     "text": [
      "\u001b[1m79/79\u001b[0m \u001b[32m━━━━━━━━━━━━━━━━━━━━\u001b[0m\u001b[37m\u001b[0m \u001b[1m1s\u001b[0m 4ms/step - loss: 0.2309 - val_loss: 0.1559\n",
      "Epoch 2/10\n",
      "\u001b[1m79/79\u001b[0m \u001b[32m━━━━━━━━━━━━━━━━━━━━\u001b[0m\u001b[37m\u001b[0m \u001b[1m0s\u001b[0m 2ms/step - loss: 0.1389 - val_loss: 0.1529\n",
      "Epoch 3/10\n",
      "\u001b[1m79/79\u001b[0m \u001b[32m━━━━━━━━━━━━━━━━━━━━\u001b[0m\u001b[37m\u001b[0m \u001b[1m0s\u001b[0m 2ms/step - loss: 0.1381 - val_loss: 0.1523\n",
      "Epoch 4/10\n",
      "\u001b[1m79/79\u001b[0m \u001b[32m━━━━━━━━━━━━━━━━━━━━\u001b[0m\u001b[37m\u001b[0m \u001b[1m0s\u001b[0m 2ms/step - loss: 0.1346 - val_loss: 0.1495\n",
      "Epoch 5/10\n",
      "\u001b[1m79/79\u001b[0m \u001b[32m━━━━━━━━━━━━━━━━━━━━\u001b[0m\u001b[37m\u001b[0m \u001b[1m0s\u001b[0m 2ms/step - loss: 0.1324 - val_loss: 0.1488\n",
      "Epoch 6/10\n",
      "\u001b[1m79/79\u001b[0m \u001b[32m━━━━━━━━━━━━━━━━━━━━\u001b[0m\u001b[37m\u001b[0m \u001b[1m0s\u001b[0m 2ms/step - loss: 0.1325 - val_loss: 0.1498\n",
      "Epoch 7/10\n",
      "\u001b[1m79/79\u001b[0m \u001b[32m━━━━━━━━━━━━━━━━━━━━\u001b[0m\u001b[37m\u001b[0m \u001b[1m0s\u001b[0m 2ms/step - loss: 0.1305 - val_loss: 0.1463\n",
      "Epoch 8/10\n",
      "\u001b[1m79/79\u001b[0m \u001b[32m━━━━━━━━━━━━━━━━━━━━\u001b[0m\u001b[37m\u001b[0m \u001b[1m0s\u001b[0m 2ms/step - loss: 0.1295 - val_loss: 0.1456\n",
      "Epoch 9/10\n",
      "\u001b[1m79/79\u001b[0m \u001b[32m━━━━━━━━━━━━━━━━━━━━\u001b[0m\u001b[37m\u001b[0m \u001b[1m0s\u001b[0m 2ms/step - loss: 0.1276 - val_loss: 0.1462\n",
      "Epoch 10/10\n",
      "\u001b[1m79/79\u001b[0m \u001b[32m━━━━━━━━━━━━━━━━━━━━\u001b[0m\u001b[37m\u001b[0m \u001b[1m0s\u001b[0m 2ms/step - loss: 0.1316 - val_loss: 0.1470\n"
     ]
    },
    {
     "data": {
      "text/plain": [
       "<keras.src.callbacks.history.History at 0x204e218ed50>"
      ]
     },
     "execution_count": 42,
     "metadata": {},
     "output_type": "execute_result"
    }
   ],
   "source": [
    "# Create input sequence\n",
    "X_train_W = train_data_standardized_W[features_W].values\n",
    "X_val_W = val_data_standardized_W[features_W].values\n",
    "\n",
    "# Create target sequence\n",
    "y_train_W = train_data_standardized_W[Target_W].values\n",
    "y_val_W = val_data_standardized_W[Target_W].values\n",
    "# y_test = test_data_standardized[Target].values\n",
    "\n",
    "from tensorflow.keras.models import Sequential\n",
    "from tensorflow.keras.layers import LSTM, Dense, Dropout\n",
    "\n",
    "# Reshape input sequences for compatibility with LSTM layer\n",
    "# X_train_3D_W = X_train_W.reshape((X_train_W.shape[0], X_train_W.shape[1], 1))\n",
    "# X_val_3D_W = X_val_W.reshape((X_val_W.shape[0], X_val_W.shape[1], 1))\n",
    "X_train_3D_W = X_train_W.reshape((X_train_W.shape[0], 1, X_train_W.shape[1]))\n",
    "X_val_3D_W = X_val_W.reshape((X_val_W.shape[0], 1, X_val_W.shape[1]))\n",
    "X_train_3D_W.shape\n",
    "\n",
    "# Create an RNN model\n",
    "model_W = Sequential()\n",
    "\n",
    "# Add the first LSTM layer with input_shape\n",
    "model_W.add(LSTM(units=50, activation='sigmoid', input_shape=(X_train_3D.shape[1], X_train_3D.shape[2])))\n",
    "\n",
    "# Add the output Dense layer\n",
    "model_W.add(Dense(units=1))\n",
    "\n",
    "# Compile the model\n",
    "model_W.compile(optimizer='adam', loss='mean_squared_error')\n",
    "\n",
    "# Train the model\n",
    "model_W.fit(X_train_3D_W, y_train_W, epochs=10, batch_size=16, validation_data=(X_val_3D_W, y_val_W))\n"
   ]
  },
  {
   "cell_type": "markdown",
   "id": "7e44d982",
   "metadata": {
    "papermill": {
     "duration": 0.05561,
     "end_time": "2024-03-16T17:55:10.750405",
     "exception": false,
     "start_time": "2024-03-16T17:55:10.694795",
     "status": "completed"
    },
    "tags": []
   },
   "source": [
    "# 13. Predict by Model"
   ]
  },
  {
   "cell_type": "code",
   "execution_count": 43,
   "id": "a95344ac",
   "metadata": {
    "execution": {
     "iopub.execute_input": "2024-03-16T17:55:10.861496Z",
     "iopub.status.busy": "2024-03-16T17:55:10.860650Z",
     "iopub.status.idle": "2024-03-16T17:55:10.866874Z",
     "shell.execute_reply": "2024-03-16T17:55:10.865689Z"
    },
    "papermill": {
     "duration": 0.064241,
     "end_time": "2024-03-16T17:55:10.869528",
     "exception": false,
     "start_time": "2024-03-16T17:55:10.805287",
     "status": "completed"
    },
    "tags": []
   },
   "outputs": [],
   "source": [
    "def get_team_info(team_id):\n",
    "    teaminfo = Team_combine[Team_combine['TeamID']==team_id].iloc[0]\n",
    "    df_return = teaminfo[['TeamID','SeedRank','1stD1Season','WinAccount','CompactAccount','WinningRate']]\n",
    "    return df_return"
   ]
  },
  {
   "cell_type": "code",
   "execution_count": 44,
   "id": "4770e0e8",
   "metadata": {
    "execution": {
     "iopub.execute_input": "2024-03-16T17:55:10.977961Z",
     "iopub.status.busy": "2024-03-16T17:55:10.977510Z",
     "iopub.status.idle": "2024-03-16T17:55:10.990487Z",
     "shell.execute_reply": "2024-03-16T17:55:10.989202Z"
    },
    "papermill": {
     "duration": 0.070272,
     "end_time": "2024-03-16T17:55:10.993012",
     "exception": false,
     "start_time": "2024-03-16T17:55:10.922740",
     "status": "completed"
    },
    "tags": []
   },
   "outputs": [],
   "source": [
    "def input_data(team1_id, team2_id):\n",
    "\n",
    "    team1_info = get_team_info(team1_id)\n",
    "    team2_info = get_team_info(team2_id)\n",
    "    team1_info_df = pd.DataFrame(team1_info).transpose()\n",
    "    team2_info_df = pd.DataFrame(team2_info).transpose()\n",
    "    merged_df = pd.concat([team1_info_df, team2_info_df])\n",
    "    merged_df\n",
    "    \n",
    "    Inpu_data_M = pd.DataFrame()\n",
    "    Inpu_data_M['TeamID_T'] = [team1_id] * 2  \n",
    "    Inpu_data_M['TeamID_O'] = [team2_id] * 2 \n",
    "    Inpu_data_M.loc[1, ['TeamID_T', 'TeamID_O']] = Inpu_data_M.loc[1, ['TeamID_O', 'TeamID_T']].values\n",
    "\n",
    "    Inpu_data_M = pd.merge(Inpu_data_M, merged_df[['TeamID','SeedRank','1stD1Season','WinAccount',\n",
    "                                                     'CompactAccount','WinningRate'\n",
    "                                                   ]], left_on='TeamID_T', right_on='TeamID', how='left')\n",
    "    Inpu_data_M = Inpu_data_M.rename(columns={\"SeedRank\":\"Rank_T\",\n",
    "                                            '1stD1Season':'1stD1Season_T',\n",
    "                                          'WinAccount':'WinAccount_T',\n",
    "                                          'CompactAccount':'CompactAccount_T',\n",
    "                                          'WinningRate':'WinningRate_T'})\n",
    "    Inpu_data_M['Season'] = 2024\n",
    "    Inpu_data_M = pd.merge(Inpu_data_M, merged_df[['TeamID','SeedRank','1stD1Season','WinAccount',\n",
    "                                                     'CompactAccount','WinningRate'\n",
    "                                                   ]], left_on='TeamID_O', right_on='TeamID', how='left')\n",
    "    Inpu_data_M = Inpu_data_M.rename(columns={\"SeedRank\":\"Rank_O\",\n",
    "                                            '1stD1Season':'1stD1Season_O',\n",
    "                                          'WinAccount':'WinAccount_O',\n",
    "                                          'CompactAccount':'CompactAccount_O',\n",
    "                                          'WinningRate':'WinningRate_O'})\n",
    "    Inpu_data_M = Inpu_data_M.drop(['TeamID_x','TeamID_y'], axis=1)\n",
    "    return Inpu_data_M "
   ]
  },
  {
   "cell_type": "code",
   "execution_count": 45,
   "id": "e900cc60",
   "metadata": {
    "execution": {
     "iopub.execute_input": "2024-03-16T17:55:11.107668Z",
     "iopub.status.busy": "2024-03-16T17:55:11.106203Z",
     "iopub.status.idle": "2024-03-16T17:55:11.118812Z",
     "shell.execute_reply": "2024-03-16T17:55:11.117776Z"
    },
    "papermill": {
     "duration": 0.072906,
     "end_time": "2024-03-16T17:55:11.121482",
     "exception": false,
     "start_time": "2024-03-16T17:55:11.048576",
     "status": "completed"
    },
    "tags": []
   },
   "outputs": [],
   "source": [
    "def predict_match_result(model, team1_id, team2_id):\n",
    "    from sklearn.preprocessing import StandardScaler\n",
    "\n",
    "    # Initialize an empty DataFrame to store results\n",
    "    all_results = pd.DataFrame()\n",
    "\n",
    "    # Initialize the scaler outside the loop\n",
    "    scaler_predict = StandardScaler()\n",
    "    Input_data = input_data(team1_id, team2_id)\n",
    "\n",
    "    features_to_scale = ['Season','TeamID_T', 'Rank_T', '1stD1Season_T', 'WinAccount_T',\n",
    "                         'CompactAccount_T', 'WinningRate_T', 'TeamID_O', 'Rank_O',\n",
    "                         '1stD1Season_O', 'WinAccount_O', 'CompactAccount_O', 'WinningRate_O']\n",
    "\n",
    "    # Fit the scaler on the original training data\n",
    "    round_data = Input_data[features_to_scale]\n",
    "\n",
    "    all_predictions = []\n",
    "\n",
    "    for i in range(round_data.shape[0]):\n",
    "        current_round_data = round_data.iloc[i:i+1].values\n",
    "        current_round_data = np.array(current_round_data, dtype=np.float32)\n",
    "        X_round = np.expand_dims(current_round_data, axis=0)\n",
    "\n",
    "        predicted_score_difference = model.predict(X_round)\n",
    "        all_predictions.append(predicted_score_difference[0][0])\n",
    "\n",
    "    all_results = Input_data.copy()\n",
    "    all_results['Pred_ScoreDiff'] = all_predictions\n",
    "#     print(Input_data)\n",
    "\n",
    "    # Initialize the new column with 0 for predicted result\n",
    "    all_results['Pred_Result'] = 0\n",
    "#     all_results\n",
    "    # Compare 'Predicted_ScoreDifference' for each pair of rows\n",
    "    for i in range(0, len(all_results), 2):\n",
    "        if all_results.iloc[i]['Pred_ScoreDiff'] > all_results.iloc[i + 1]['Pred_ScoreDiff']:\n",
    "            all_results.at[all_results.index[i], 'Pred_Result'] = 1\n",
    "        else:\n",
    "            all_results.at[all_results.index[i + 1], 'Pred_Result'] = 1\n",
    "\n",
    "    return all_results[all_results['Pred_Result']==1]['TeamID_T']\n"
   ]
  },
  {
   "cell_type": "code",
   "execution_count": 46,
   "id": "d835e670",
   "metadata": {
    "execution": {
     "iopub.execute_input": "2024-03-16T17:55:11.234322Z",
     "iopub.status.busy": "2024-03-16T17:55:11.233456Z",
     "iopub.status.idle": "2024-03-16T17:55:11.281878Z",
     "shell.execute_reply": "2024-03-16T17:55:11.280751Z"
    },
    "papermill": {
     "duration": 0.108669,
     "end_time": "2024-03-16T17:55:11.284792",
     "exception": false,
     "start_time": "2024-03-16T17:55:11.176123",
     "status": "completed"
    },
    "tags": []
   },
   "outputs": [],
   "source": [
    "def simulate_tournament(Model,teams_df):\n",
    "    rounds = ['1st', '2nd', '3rd', '4th', '5th', 'Final']\n",
    "    regions = ['W', 'X', 'Y', 'Z']\n",
    "    \n",
    "    winners_df = pd.DataFrame(columns=['Round', 'Region', 'Match', 'Winner', 'Seed'])\n",
    "\n",
    "    for round_num, round_name in enumerate(rounds, start=1):\n",
    "        print(f\"{round_name} Round:\")\n",
    "        \n",
    "        if round_num == 1:\n",
    "            for region in regions:\n",
    "                region_teams = teams_df[teams_df['Region'] == region].copy()\n",
    "                matches = []\n",
    "                matches.extend([(i, 17 - i) for i in range(1, 9)])\n",
    "                for match_num, (seed1, seed2) in enumerate(matches, start=1):\n",
    "                    team1 = teams_df[(teams_df['SeedRank'] == seed1)&(teams_df['Region'] == region)]['TeamID'].values[0]\n",
    "                    team2 = teams_df[(teams_df['SeedRank'] == seed2)&(teams_df['Region'] == region)]['TeamID'].values[0]\n",
    "                    winner = predict_match_result(Model, team1, team2).values[0]\n",
    "                    winner = int(winner)\n",
    "                    winner_seed = seed1 if winner == team1 else seed2\n",
    "\n",
    "                    slot_num = seed1 if seed1 < seed2 else seed2\n",
    "\n",
    "                    winners_df = pd.concat([winners_df, pd.DataFrame({'Round': [round_num], 'Region': [region], 'Match': [f\"Match {match_num}\"], 'Winner': [winner], 'Seed': [winner_seed],'SlotNum':[slot_num]})], ignore_index=True)\n",
    "#                     print(f\"{region} Match {match_num}: {seed1} vs {seed2} - Winner: {winner}, Seed: {winner_seed}\")\n",
    "#             print(winners_df)\n",
    "\n",
    "        elif round_num == 2:\n",
    "            for region in regions:\n",
    "                region_winners = winners_df[winners_df['Region'] == region].copy()\n",
    "                matches = []\n",
    "                matches.extend([(region_winners.iloc[i]['Seed'], region_winners.iloc[7-i]['Seed']) for i in range(4)])\n",
    "                for match_num, (seed1, seed2) in enumerate(matches, start=1):\n",
    "                    team1 = winners_df[(winners_df['Seed'] == seed1)&(winners_df['Region'] == region)]['Winner'].values[0]\n",
    "                    team2 = winners_df[(winners_df['Seed'] == seed2)&(winners_df['Region'] == region)]['Winner'].values[0]\n",
    "                    winner = predict_match_result(Model, team1, team2).values[0]\n",
    "                    winner = int(winner)\n",
    "#                     winner_seed = seed1 if winner.values[0] == team1.values[0] else seed2\n",
    "                    winner_seed = seed1 if winner == team1 else seed2\n",
    "    \n",
    "                    slot_num1 = winners_df[(winners_df['Round']==1)&(winners_df['Winner']==team1)]['SlotNum'].values[0]\n",
    "                    slot_num2 = winners_df[(winners_df['Round']==1)&(winners_df['Winner']==team2)]['SlotNum'].values[0]\n",
    "                    \n",
    "                    slot_num_r2 = slot_num1 if slot_num1 < slot_num2 else slot_num2\n",
    "        \n",
    "                    winners_df = pd.concat([winners_df, pd.DataFrame({'Round': [round_num], 'Region': [region], 'Match': [f\"Match {match_num}\"], 'Winner': [winner], 'Seed': [winner_seed],'SlotNum':[slot_num_r2]})], ignore_index=True)\n",
    "#                     print(f\"{region} Match {match_num}: {seed1} vs {seed2} - Winner: {winner}, Seed: {winner_seed}\")\n",
    "#             print(winners_df)\n",
    "                \n",
    "        elif round_num == 3:\n",
    "            for region in regions:\n",
    "                previous_round_winners = winners_df[(winners_df['Region']==region)&(winners_df['Round']==2)].copy()\n",
    "#                 print(previous_round_winners)\n",
    "                matches = []\n",
    "                matches.extend([(previous_round_winners.iloc[i]['Seed'], previous_round_winners.iloc[3-i]['Seed']) for i in range(2)])\n",
    "                for match_num, (seed1, seed2) in enumerate(matches, start=1):\n",
    "                    team1 = winners_df[(winners_df['Seed'] == seed1)&(winners_df['Region'] == region)]['Winner'].values[0]\n",
    "                    team2 = winners_df[(winners_df['Seed'] == seed2)&(winners_df['Region'] == region)]['Winner'].values[0]\n",
    "                    winner = predict_match_result(Model, team1, team2).values[0]\n",
    "                    winner = int(winner)\n",
    "                    winner_seed = seed1 if winner == team1 else seed2\n",
    "                    \n",
    "                    slot_num1 = winners_df[(winners_df['Round']==2)&(winners_df['Winner']==team1)]['SlotNum'].values[0]\n",
    "                    slot_num2 = winners_df[(winners_df['Round']==2)&(winners_df['Winner']==team2)]['SlotNum'].values[0]\n",
    "                    \n",
    "                    slot_num_r3 = slot_num1 if slot_num1 < slot_num2 else slot_num2\n",
    "                    \n",
    "                    winners_df = pd.concat([winners_df, pd.DataFrame({'Round': [round_num], 'Region': [region], 'Match': [f\"Match {match_num}\"], 'Winner': [winner], 'Seed': [winner_seed],'SlotNum':[slot_num_r3]})], ignore_index=True)\n",
    "#                     print(f\"{region} Match {match_num}: {seed1} vs {seed2} - Winner: {winner}, Seed: {winner_seed}\")\n",
    "# #             print(winners_df)\n",
    "\n",
    "        elif round_num == 4:\n",
    "            for region in regions:\n",
    "                previous_round_winners = winners_df[(winners_df['Region']==region)&(winners_df['Round']==3)].copy()\n",
    "                matches = []\n",
    "                matches.extend([(previous_round_winners.iloc[i]['Seed'], previous_round_winners.iloc[1-i]['Seed']) for i in range(1)])\n",
    "#                 print(matches)\n",
    "                for match_num, (seed1, seed2) in enumerate(matches, start=1):\n",
    "                    team1 = previous_round_winners[(previous_round_winners['Seed'] == seed1)&(previous_round_winners['Region'] == region)]['Winner'].values[0]\n",
    "                    team2 = previous_round_winners[(previous_round_winners['Seed'] == seed2)&(previous_round_winners['Region'] == region)]['Winner'].values[0]\n",
    "                    winner = predict_match_result(Model, team1, team2).values[0]\n",
    "                    winner = int(winner)\n",
    "                    winner_seed = seed1 if winner == team1 else seed2\n",
    "                    \n",
    "                    slot_num1 = winners_df[(winners_df['Round']==3)&(winners_df['Winner']==team1)]['SlotNum'].values[0]\n",
    "                    slot_num2 = winners_df[(winners_df['Round']==3)&(winners_df['Winner']==team2)]['SlotNum'].values[0]\n",
    "                    \n",
    "                    slot_num_r4 = slot_num1 if slot_num1 < slot_num2 else slot_num2\n",
    "                    \n",
    "                    winners_df = pd.concat([winners_df, pd.DataFrame({'Round': [round_num], 'Region': [region], 'Match': [f\"Match {match_num}\"], 'Winner': [winner], 'Seed': [winner_seed],'SlotNum':[slot_num_r4]})], ignore_index=True)\n",
    "#                     print(f\"{region} Match {match_num}: {seed1} vs {seed2} - Winner: {winner}, Seed: {winner_seed}\")\n",
    "#             print(winners_df)\n",
    "                \n",
    "        elif round_num == 5:\n",
    "            previous_round_winners = winners_df[(winners_df['Round']==4)]\n",
    "            W_winner = previous_round_winners[ (previous_round_winners['Region'] == 'W')]['Seed'].values[0]\n",
    "            X_winner = previous_round_winners[ (previous_round_winners['Region'] == 'X')]['Seed'].values[0]\n",
    "            Y_winner = previous_round_winners[ (previous_round_winners['Region'] == 'Y')]['Seed'].values[0]\n",
    "            Z_winner = previous_round_winners[ (previous_round_winners['Region'] == 'Z')]['Seed'].values[0]\n",
    "            matches = []\n",
    "            matches.append((W_winner, X_winner))\n",
    "            matches.append((Y_winner, Z_winner))\n",
    "#             print(matches)\n",
    "            i = 1\n",
    "            for match_num, (seed1, seed2) in enumerate(matches, start=1):\n",
    "                team1 = previous_round_winners[(previous_round_winners['Seed'] == seed1)& (previous_round_winners['Region'] == 'W')|(previous_round_winners['Region'] == 'Y')]['Winner'].values[0]\n",
    "                team2 = previous_round_winners[(previous_round_winners['Seed'] == seed2)& (previous_round_winners['Region'] == 'X')|(previous_round_winners['Region'] == 'Z')]['Winner'].values[0]\n",
    "                winner = predict_match_result(Model, team1, team2).values[0]\n",
    "                winner = int(winner)\n",
    "                winner_seed = seed1 if winner == team1 else seed2\n",
    "                if i==1:\n",
    "                    region='WX'\n",
    "                else:\n",
    "                    region='YZ'\n",
    "                i += 1\n",
    "                winners_df = pd.concat([winners_df, pd.DataFrame({'Round': [round_num], 'Region': [region], 'Match': [f\"Match {match_num}\"], 'Winner': [winner], 'Seed': [winner_seed]})], ignore_index=True)\n",
    "#                 print(f\"{region} Match {match_num}: {seed1} vs {seed2} - Winner: {winner}, Seed: {winner_seed}\")\n",
    "#             print(winners_df)            \n",
    "\n",
    "        elif round_num == 6:\n",
    "            previous_round_winners = winners_df[(winners_df['Round']==5)]\n",
    "            C_winner = previous_round_winners['Winner'].values[0]\n",
    "            H_winner = previous_round_winners['Winner'].values[1]\n",
    "            matches = []\n",
    "            matches.append((W_winner, Z_winner))\n",
    "#             print(matches)\n",
    "            for match_num, (seed1, seed2) in enumerate(matches, start=1):\n",
    "                winner = predict_match_result(Model, team1, team2).values[0]\n",
    "                winner = int(winner)\n",
    "                winner_seed = seed1 if winner == team1 else seed2\n",
    "                winners_df = pd.concat([winners_df, pd.DataFrame({'Round': [round_num], 'Region': 'CH', 'Match': [f\"Match {match_num}\"], 'Winner': [winner], 'Seed': [winner_seed]})], ignore_index=True)\n",
    "#                 print(f\"{region} Match {match_num}: {seed1} vs {seed2} - Winner: {winner}, Seed: {winner_seed}\")\n",
    "#             print(\"\\n\") \n",
    "#             print(winners_df) \n",
    "\n",
    "#         print(\"\\n\") \n",
    "    return winners_df\n"
   ]
  },
  {
   "cell_type": "markdown",
   "id": "9e5e8ec7",
   "metadata": {
    "papermill": {
     "duration": 0.055901,
     "end_time": "2024-03-16T17:55:11.395490",
     "exception": false,
     "start_time": "2024-03-16T17:55:11.339589",
     "status": "completed"
    },
    "tags": []
   },
   "source": [
    "**Men**"
   ]
  },
  {
   "cell_type": "code",
   "execution_count": 47,
   "id": "18f37b2b",
   "metadata": {
    "execution": {
     "iopub.execute_input": "2024-03-16T17:55:11.506548Z",
     "iopub.status.busy": "2024-03-16T17:55:11.505630Z",
     "iopub.status.idle": "2024-03-16T17:55:11.744732Z",
     "shell.execute_reply": "2024-03-16T17:55:11.743567Z"
    },
    "papermill": {
     "duration": 0.297123,
     "end_time": "2024-03-16T17:55:11.747085",
     "exception": false,
     "start_time": "2024-03-16T17:55:11.449962",
     "status": "completed"
    },
    "tags": []
   },
   "outputs": [
    {
     "data": {
      "application/vnd.microsoft.datawrangler.viewer.v0+json": {
       "columns": [
        {
         "name": "index",
         "rawType": "int64",
         "type": "integer"
        },
        {
         "name": "TeamID",
         "rawType": "int64",
         "type": "integer"
        },
        {
         "name": "1stD1Season",
         "rawType": "int64",
         "type": "integer"
        },
        {
         "name": "WinAccount",
         "rawType": "int64",
         "type": "integer"
        },
        {
         "name": "CompactAccount",
         "rawType": "int64",
         "type": "integer"
        },
        {
         "name": "WinningRate",
         "rawType": "float64",
         "type": "float"
        }
       ],
       "conversionMethod": "pd.DataFrame",
       "ref": "5cdb6216-7250-4bd7-bab8-60982c5fe2b6",
       "rows": [
        [
         "0",
         "1115",
         "2010",
         "1",
         "2",
         "0.5"
        ],
        [
         "1",
         "1457",
         "2010",
         "0",
         "3",
         "0.0"
        ],
        [
         "2",
         "1124",
         "2010",
         "19",
         "28",
         "0.6785714285714286"
        ],
        [
         "3",
         "1358",
         "2010",
         "0",
         "1",
         "0.0"
        ],
        [
         "4",
         "1139",
         "2010",
         "16",
         "23",
         "0.6956521739130435"
        ]
       ],
       "shape": {
        "columns": 5,
        "rows": 5
       }
      },
      "text/html": [
       "<div>\n",
       "<style scoped>\n",
       "    .dataframe tbody tr th:only-of-type {\n",
       "        vertical-align: middle;\n",
       "    }\n",
       "\n",
       "    .dataframe tbody tr th {\n",
       "        vertical-align: top;\n",
       "    }\n",
       "\n",
       "    .dataframe thead th {\n",
       "        text-align: right;\n",
       "    }\n",
       "</style>\n",
       "<table border=\"1\" class=\"dataframe\">\n",
       "  <thead>\n",
       "    <tr style=\"text-align: right;\">\n",
       "      <th></th>\n",
       "      <th>TeamID</th>\n",
       "      <th>1stD1Season</th>\n",
       "      <th>WinAccount</th>\n",
       "      <th>CompactAccount</th>\n",
       "      <th>WinningRate</th>\n",
       "    </tr>\n",
       "  </thead>\n",
       "  <tbody>\n",
       "    <tr>\n",
       "      <th>0</th>\n",
       "      <td>1115</td>\n",
       "      <td>2010</td>\n",
       "      <td>1</td>\n",
       "      <td>2</td>\n",
       "      <td>0.500000</td>\n",
       "    </tr>\n",
       "    <tr>\n",
       "      <th>1</th>\n",
       "      <td>1457</td>\n",
       "      <td>2010</td>\n",
       "      <td>0</td>\n",
       "      <td>3</td>\n",
       "      <td>0.000000</td>\n",
       "    </tr>\n",
       "    <tr>\n",
       "      <th>2</th>\n",
       "      <td>1124</td>\n",
       "      <td>2010</td>\n",
       "      <td>19</td>\n",
       "      <td>28</td>\n",
       "      <td>0.678571</td>\n",
       "    </tr>\n",
       "    <tr>\n",
       "      <th>3</th>\n",
       "      <td>1358</td>\n",
       "      <td>2010</td>\n",
       "      <td>0</td>\n",
       "      <td>1</td>\n",
       "      <td>0.000000</td>\n",
       "    </tr>\n",
       "    <tr>\n",
       "      <th>4</th>\n",
       "      <td>1139</td>\n",
       "      <td>2010</td>\n",
       "      <td>16</td>\n",
       "      <td>23</td>\n",
       "      <td>0.695652</td>\n",
       "    </tr>\n",
       "  </tbody>\n",
       "</table>\n",
       "</div>"
      ],
      "text/plain": [
       "   TeamID  1stD1Season  WinAccount  CompactAccount  WinningRate\n",
       "0    1115         2010           1               2     0.500000\n",
       "1    1457         2010           0               3     0.000000\n",
       "2    1124         2010          19              28     0.678571\n",
       "3    1358         2010           0               1     0.000000\n",
       "4    1139         2010          16              23     0.695652"
      ]
     },
     "execution_count": 47,
     "metadata": {},
     "output_type": "execute_result"
    }
   ],
   "source": [
    "\n",
    "team_ids = df_merge_M['TeamID_T'].unique().tolist()\n",
    "team_ids\n",
    "\n",
    "team_info_list = []\n",
    "for team_id in team_ids:\n",
    "    team_data = df_merge_M[df_merge_M['TeamID_T'] == team_id].iloc[0]  # 选择每个团队的第一个条目\n",
    "    team_info_list.append({'TeamID': team_id,\n",
    "                           '1stD1Season': team_data['Season'],\n",
    "                           'WinAccount': team_data['WinAccount_T'],\n",
    "                           'CompactAccount': team_data['CompactAccount_T'],\n",
    "                           'WinningRate': team_data['WinningRate_T']})\n",
    "\n",
    "team_info_M = pd.DataFrame(team_info_list)\n",
    "\n",
    "team_info_M.head()\n"
   ]
  },
  {
   "cell_type": "code",
   "execution_count": 48,
   "id": "bee18787",
   "metadata": {
    "execution": {
     "iopub.execute_input": "2024-03-16T17:55:11.856365Z",
     "iopub.status.busy": "2024-03-16T17:55:11.855995Z",
     "iopub.status.idle": "2024-03-16T17:55:11.876973Z",
     "shell.execute_reply": "2024-03-16T17:55:11.875455Z"
    },
    "papermill": {
     "duration": 0.079536,
     "end_time": "2024-03-16T17:55:11.879786",
     "exception": false,
     "start_time": "2024-03-16T17:55:11.800250",
     "status": "completed"
    },
    "tags": []
   },
   "outputs": [
    {
     "ename": "NameError",
     "evalue": "name 'tourney_seeds_2024' is not defined",
     "output_type": "error",
     "traceback": [
      "\u001b[31m---------------------------------------------------------------------------\u001b[39m",
      "\u001b[31mNameError\u001b[39m                                 Traceback (most recent call last)",
      "\u001b[36mCell\u001b[39m\u001b[36m \u001b[39m\u001b[32mIn[48]\u001b[39m\u001b[32m, line 1\u001b[39m\n\u001b[32m----> \u001b[39m\u001b[32m1\u001b[39m tourney_seeds_2024_M = \u001b[43mtourney_seeds_2024\u001b[49m[tourney_seeds_2024[\u001b[33m'\u001b[39m\u001b[33mTournament\u001b[39m\u001b[33m'\u001b[39m]==\u001b[33m'\u001b[39m\u001b[33mM\u001b[39m\u001b[33m'\u001b[39m]\n\u001b[32m      2\u001b[39m seeds_2024_M = tourney_seeds_2024_M.copy()\n\u001b[32m      3\u001b[39m seeds_2024_M[\u001b[33m'\u001b[39m\u001b[33mRegion\u001b[39m\u001b[33m'\u001b[39m] = seeds_2024_M[\u001b[33m'\u001b[39m\u001b[33mSeed\u001b[39m\u001b[33m'\u001b[39m].str[\u001b[32m0\u001b[39m]\n",
      "\u001b[31mNameError\u001b[39m: name 'tourney_seeds_2024' is not defined"
     ]
    }
   ],
   "source": [
    "tourney_seeds_2024_M = tourney_seeds_2024[tourney_seeds_2024['Tournament']=='M']\n",
    "seeds_2024_M = tourney_seeds_2024_M.copy()\n",
    "seeds_2024_M['Region'] = seeds_2024_M['Seed'].str[0]\n",
    "seeds_2024_M['SeedRank'] = seeds_2024_M['Seed'].str[1:].astype(int)\n",
    "seeds_2024_M"
   ]
  },
  {
   "cell_type": "code",
   "execution_count": 49,
   "id": "50edc695",
   "metadata": {
    "execution": {
     "iopub.execute_input": "2024-03-16T17:55:11.997782Z",
     "iopub.status.busy": "2024-03-16T17:55:11.997404Z",
     "iopub.status.idle": "2024-03-16T17:55:22.940748Z",
     "shell.execute_reply": "2024-03-16T17:55:22.939423Z"
    },
    "papermill": {
     "duration": 11.006072,
     "end_time": "2024-03-16T17:55:22.943363",
     "exception": false,
     "start_time": "2024-03-16T17:55:11.937291",
     "status": "completed"
    },
    "tags": []
   },
   "outputs": [
    {
     "ename": "NameError",
     "evalue": "name 'seeds_2024_M' is not defined",
     "output_type": "error",
     "traceback": [
      "\u001b[31m---------------------------------------------------------------------------\u001b[39m",
      "\u001b[31mNameError\u001b[39m                                 Traceback (most recent call last)",
      "\u001b[36mCell\u001b[39m\u001b[36m \u001b[39m\u001b[32mIn[49]\u001b[39m\u001b[32m, line 1\u001b[39m\n\u001b[32m----> \u001b[39m\u001b[32m1\u001b[39m Team_combine = pd.merge(\u001b[43mseeds_2024_M\u001b[49m,team_info_M[[\u001b[33m'\u001b[39m\u001b[33mTeamID\u001b[39m\u001b[33m'\u001b[39m,\u001b[33m'\u001b[39m\u001b[33m1stD1Season\u001b[39m\u001b[33m'\u001b[39m,\n\u001b[32m      2\u001b[39m                                          \u001b[33m'\u001b[39m\u001b[33mWinAccount\u001b[39m\u001b[33m'\u001b[39m,\u001b[33m'\u001b[39m\u001b[33mCompactAccount\u001b[39m\u001b[33m'\u001b[39m,\u001b[33m'\u001b[39m\u001b[33mWinningRate\u001b[39m\u001b[33m'\u001b[39m\n\u001b[32m      3\u001b[39m                                         ]], left_on=[\u001b[33m'\u001b[39m\u001b[33mTeamID\u001b[39m\u001b[33m'\u001b[39m], right_on=[\u001b[33m'\u001b[39m\u001b[33mTeamID\u001b[39m\u001b[33m'\u001b[39m], how=\u001b[33m'\u001b[39m\u001b[33mleft\u001b[39m\u001b[33m'\u001b[39m)\n\u001b[32m      6\u001b[39m teams_df_M = seeds_2024_M.copy()\n\u001b[32m      7\u001b[39m winners_df_M = simulate_tournament(model_M,teams_df_M)\n",
      "\u001b[31mNameError\u001b[39m: name 'seeds_2024_M' is not defined"
     ]
    }
   ],
   "source": [
    "Team_combine = pd.merge(seeds_2024_M,team_info_M[['TeamID','1stD1Season',\n",
    "                                         'WinAccount','CompactAccount','WinningRate'\n",
    "                                        ]], left_on=['TeamID'], right_on=['TeamID'], how='left')\n",
    "\n",
    "\n",
    "teams_df_M = seeds_2024_M.copy()\n",
    "winners_df_M = simulate_tournament(model_M,teams_df_M)\n",
    "winners_df_M"
   ]
  },
  {
   "cell_type": "code",
   "execution_count": 50,
   "id": "132ae8e1",
   "metadata": {
    "execution": {
     "iopub.execute_input": "2024-03-16T17:55:23.109815Z",
     "iopub.status.busy": "2024-03-16T17:55:23.108228Z",
     "iopub.status.idle": "2024-03-16T17:55:23.131593Z",
     "shell.execute_reply": "2024-03-16T17:55:23.130246Z"
    },
    "papermill": {
     "duration": 0.108679,
     "end_time": "2024-03-16T17:55:23.134100",
     "exception": false,
     "start_time": "2024-03-16T17:55:23.025421",
     "status": "completed"
    },
    "tags": []
   },
   "outputs": [
    {
     "ename": "NameError",
     "evalue": "name 'winners_df_M' is not defined",
     "output_type": "error",
     "traceback": [
      "\u001b[31m---------------------------------------------------------------------------\u001b[39m",
      "\u001b[31mNameError\u001b[39m                                 Traceback (most recent call last)",
      "\u001b[36mCell\u001b[39m\u001b[36m \u001b[39m\u001b[32mIn[50]\u001b[39m\u001b[32m, line 1\u001b[39m\n\u001b[32m----> \u001b[39m\u001b[32m1\u001b[39m \u001b[43mwinners_df_M\u001b[49m[\u001b[32m31\u001b[39m:\u001b[32m65\u001b[39m]\n",
      "\u001b[31mNameError\u001b[39m: name 'winners_df_M' is not defined"
     ]
    }
   ],
   "source": [
    "winners_df_M[31:65]"
   ]
  },
  {
   "cell_type": "markdown",
   "id": "0ba352ea",
   "metadata": {
    "papermill": {
     "duration": 0.077923,
     "end_time": "2024-03-16T17:55:23.290764",
     "exception": false,
     "start_time": "2024-03-16T17:55:23.212841",
     "status": "completed"
    },
    "tags": []
   },
   "source": [
    "**Women**"
   ]
  },
  {
   "cell_type": "code",
   "execution_count": 51,
   "id": "3379d146",
   "metadata": {
    "execution": {
     "iopub.execute_input": "2024-03-16T17:55:23.451206Z",
     "iopub.status.busy": "2024-03-16T17:55:23.450830Z",
     "iopub.status.idle": "2024-03-16T17:55:23.667177Z",
     "shell.execute_reply": "2024-03-16T17:55:23.665937Z"
    },
    "papermill": {
     "duration": 0.298983,
     "end_time": "2024-03-16T17:55:23.669963",
     "exception": false,
     "start_time": "2024-03-16T17:55:23.370980",
     "status": "completed"
    },
    "tags": []
   },
   "outputs": [
    {
     "ename": "NameError",
     "evalue": "name 'tourney_seeds_2024' is not defined",
     "output_type": "error",
     "traceback": [
      "\u001b[31m---------------------------------------------------------------------------\u001b[39m",
      "\u001b[31mNameError\u001b[39m                                 Traceback (most recent call last)",
      "\u001b[36mCell\u001b[39m\u001b[36m \u001b[39m\u001b[32mIn[51]\u001b[39m\u001b[32m, line 15\u001b[39m\n\u001b[32m     12\u001b[39m team_info_W = pd.DataFrame(team_info_list)\n\u001b[32m     13\u001b[39m team_info_W.head()\n\u001b[32m---> \u001b[39m\u001b[32m15\u001b[39m tourney_seeds_2024_W = \u001b[43mtourney_seeds_2024\u001b[49m[tourney_seeds_2024[\u001b[33m'\u001b[39m\u001b[33mTournament\u001b[39m\u001b[33m'\u001b[39m]==\u001b[33m'\u001b[39m\u001b[33mW\u001b[39m\u001b[33m'\u001b[39m]\n\u001b[32m     16\u001b[39m seeds_2024_W = tourney_seeds_2024_W.copy()\n\u001b[32m     17\u001b[39m seeds_2024_W[\u001b[33m'\u001b[39m\u001b[33mRegion\u001b[39m\u001b[33m'\u001b[39m] = seeds_2024_W[\u001b[33m'\u001b[39m\u001b[33mSeed\u001b[39m\u001b[33m'\u001b[39m].str[\u001b[32m0\u001b[39m]\n",
      "\u001b[31mNameError\u001b[39m: name 'tourney_seeds_2024' is not defined"
     ]
    }
   ],
   "source": [
    "\n",
    "team_ids = df_merge_W['TeamID_T'].unique().tolist()\n",
    "team_ids\n",
    "team_info_list = []\n",
    "for team_id in team_ids:\n",
    "    team_data = df_merge_W[df_merge_W['TeamID_T'] == team_id].iloc[0]  # 选择每个团队的第一个条目\n",
    "    team_info_list.append({'TeamID': team_id,\n",
    "                           '1stD1Season': team_data['Season'],\n",
    "                           'WinAccount': team_data['WinAccount_T'],\n",
    "                           'CompactAccount': team_data['CompactAccount_T'],\n",
    "                           'WinningRate': team_data['WinningRate_T']})\n",
    "\n",
    "team_info_W = pd.DataFrame(team_info_list)\n",
    "team_info_W.head()\n",
    "\n",
    "tourney_seeds_2024_W = tourney_seeds_2024[tourney_seeds_2024['Tournament']=='W']\n",
    "seeds_2024_W = tourney_seeds_2024_W.copy()\n",
    "seeds_2024_W['Region'] = seeds_2024_W['Seed'].str[0]\n",
    "seeds_2024_W['SeedRank'] = seeds_2024_W['Seed'].str[1:].astype(int)\n",
    "seeds_2024_W.reset_index(drop=True, inplace=True)\n",
    "seeds_2024_W.head()"
   ]
  },
  {
   "cell_type": "code",
   "execution_count": 44,
   "id": "2710d67b",
   "metadata": {
    "execution": {
     "iopub.execute_input": "2024-03-16T17:55:23.835939Z",
     "iopub.status.busy": "2024-03-16T17:55:23.834665Z",
     "iopub.status.idle": "2024-03-16T17:55:35.042387Z",
     "shell.execute_reply": "2024-03-16T17:55:35.041417Z"
    },
    "papermill": {
     "duration": 11.293571,
     "end_time": "2024-03-16T17:55:35.044960",
     "exception": false,
     "start_time": "2024-03-16T17:55:23.751389",
     "status": "completed"
    },
    "tags": []
   },
   "outputs": [
    {
     "name": "stdout",
     "output_type": "stream",
     "text": [
      "1st Round:\n",
      "\u001b[1m1/1\u001b[0m \u001b[32m━━━━━━━━━━━━━━━━━━━━\u001b[0m\u001b[37m\u001b[0m \u001b[1m0s\u001b[0m 179ms/step\n",
      "\u001b[1m1/1\u001b[0m \u001b[32m━━━━━━━━━━━━━━━━━━━━\u001b[0m\u001b[37m\u001b[0m \u001b[1m0s\u001b[0m 21ms/step\n",
      "\u001b[1m1/1\u001b[0m \u001b[32m━━━━━━━━━━━━━━━━━━━━\u001b[0m\u001b[37m\u001b[0m \u001b[1m0s\u001b[0m 22ms/step\n",
      "\u001b[1m1/1\u001b[0m \u001b[32m━━━━━━━━━━━━━━━━━━━━\u001b[0m\u001b[37m\u001b[0m \u001b[1m0s\u001b[0m 20ms/step\n",
      "\u001b[1m1/1\u001b[0m \u001b[32m━━━━━━━━━━━━━━━━━━━━\u001b[0m\u001b[37m\u001b[0m \u001b[1m0s\u001b[0m 19ms/step\n",
      "\u001b[1m1/1\u001b[0m \u001b[32m━━━━━━━━━━━━━━━━━━━━\u001b[0m\u001b[37m\u001b[0m \u001b[1m0s\u001b[0m 20ms/step\n",
      "\u001b[1m1/1\u001b[0m \u001b[32m━━━━━━━━━━━━━━━━━━━━\u001b[0m\u001b[37m\u001b[0m \u001b[1m0s\u001b[0m 22ms/step\n",
      "\u001b[1m1/1\u001b[0m \u001b[32m━━━━━━━━━━━━━━━━━━━━\u001b[0m\u001b[37m\u001b[0m \u001b[1m0s\u001b[0m 20ms/step\n",
      "\u001b[1m1/1\u001b[0m \u001b[32m━━━━━━━━━━━━━━━━━━━━\u001b[0m\u001b[37m\u001b[0m \u001b[1m0s\u001b[0m 20ms/step\n",
      "\u001b[1m1/1\u001b[0m \u001b[32m━━━━━━━━━━━━━━━━━━━━\u001b[0m\u001b[37m\u001b[0m \u001b[1m0s\u001b[0m 21ms/step\n",
      "\u001b[1m1/1\u001b[0m \u001b[32m━━━━━━━━━━━━━━━━━━━━\u001b[0m\u001b[37m\u001b[0m \u001b[1m0s\u001b[0m 21ms/step\n",
      "\u001b[1m1/1\u001b[0m \u001b[32m━━━━━━━━━━━━━━━━━━━━\u001b[0m\u001b[37m\u001b[0m \u001b[1m0s\u001b[0m 20ms/step\n",
      "\u001b[1m1/1\u001b[0m \u001b[32m━━━━━━━━━━━━━━━━━━━━\u001b[0m\u001b[37m\u001b[0m \u001b[1m0s\u001b[0m 20ms/step\n",
      "\u001b[1m1/1\u001b[0m \u001b[32m━━━━━━━━━━━━━━━━━━━━\u001b[0m\u001b[37m\u001b[0m \u001b[1m0s\u001b[0m 19ms/step\n",
      "\u001b[1m1/1\u001b[0m \u001b[32m━━━━━━━━━━━━━━━━━━━━\u001b[0m\u001b[37m\u001b[0m \u001b[1m0s\u001b[0m 21ms/step\n",
      "\u001b[1m1/1\u001b[0m \u001b[32m━━━━━━━━━━━━━━━━━━━━\u001b[0m\u001b[37m\u001b[0m \u001b[1m0s\u001b[0m 21ms/step\n",
      "\u001b[1m1/1\u001b[0m \u001b[32m━━━━━━━━━━━━━━━━━━━━\u001b[0m\u001b[37m\u001b[0m \u001b[1m0s\u001b[0m 21ms/step\n",
      "\u001b[1m1/1\u001b[0m \u001b[32m━━━━━━━━━━━━━━━━━━━━\u001b[0m\u001b[37m\u001b[0m \u001b[1m0s\u001b[0m 22ms/step\n",
      "\u001b[1m1/1\u001b[0m \u001b[32m━━━━━━━━━━━━━━━━━━━━\u001b[0m\u001b[37m\u001b[0m \u001b[1m0s\u001b[0m 23ms/step\n",
      "\u001b[1m1/1\u001b[0m \u001b[32m━━━━━━━━━━━━━━━━━━━━\u001b[0m\u001b[37m\u001b[0m \u001b[1m0s\u001b[0m 28ms/step\n",
      "\u001b[1m1/1\u001b[0m \u001b[32m━━━━━━━━━━━━━━━━━━━━\u001b[0m\u001b[37m\u001b[0m \u001b[1m0s\u001b[0m 23ms/step\n",
      "\u001b[1m1/1\u001b[0m \u001b[32m━━━━━━━━━━━━━━━━━━━━\u001b[0m\u001b[37m\u001b[0m \u001b[1m0s\u001b[0m 27ms/step\n",
      "\u001b[1m1/1\u001b[0m \u001b[32m━━━━━━━━━━━━━━━━━━━━\u001b[0m\u001b[37m\u001b[0m \u001b[1m0s\u001b[0m 25ms/step\n",
      "\u001b[1m1/1\u001b[0m \u001b[32m━━━━━━━━━━━━━━━━━━━━\u001b[0m\u001b[37m\u001b[0m \u001b[1m0s\u001b[0m 25ms/step\n",
      "\u001b[1m1/1\u001b[0m \u001b[32m━━━━━━━━━━━━━━━━━━━━\u001b[0m\u001b[37m\u001b[0m \u001b[1m0s\u001b[0m 23ms/step\n",
      "\u001b[1m1/1\u001b[0m \u001b[32m━━━━━━━━━━━━━━━━━━━━\u001b[0m\u001b[37m\u001b[0m \u001b[1m0s\u001b[0m 24ms/step\n",
      "\u001b[1m1/1\u001b[0m \u001b[32m━━━━━━━━━━━━━━━━━━━━\u001b[0m\u001b[37m\u001b[0m \u001b[1m0s\u001b[0m 24ms/step\n",
      "\u001b[1m1/1\u001b[0m \u001b[32m━━━━━━━━━━━━━━━━━━━━\u001b[0m\u001b[37m\u001b[0m \u001b[1m0s\u001b[0m 21ms/step\n",
      "\u001b[1m1/1\u001b[0m \u001b[32m━━━━━━━━━━━━━━━━━━━━\u001b[0m\u001b[37m\u001b[0m \u001b[1m0s\u001b[0m 19ms/step\n",
      "\u001b[1m1/1\u001b[0m \u001b[32m━━━━━━━━━━━━━━━━━━━━\u001b[0m\u001b[37m\u001b[0m \u001b[1m0s\u001b[0m 20ms/step\n",
      "\u001b[1m1/1\u001b[0m \u001b[32m━━━━━━━━━━━━━━━━━━━━\u001b[0m\u001b[37m\u001b[0m \u001b[1m0s\u001b[0m 20ms/step\n",
      "\u001b[1m1/1\u001b[0m \u001b[32m━━━━━━━━━━━━━━━━━━━━\u001b[0m\u001b[37m\u001b[0m \u001b[1m0s\u001b[0m 22ms/step\n",
      "\u001b[1m1/1\u001b[0m \u001b[32m━━━━━━━━━━━━━━━━━━━━\u001b[0m\u001b[37m\u001b[0m \u001b[1m0s\u001b[0m 19ms/step\n",
      "\u001b[1m1/1\u001b[0m \u001b[32m━━━━━━━━━━━━━━━━━━━━\u001b[0m\u001b[37m\u001b[0m \u001b[1m0s\u001b[0m 19ms/step\n",
      "\u001b[1m1/1\u001b[0m \u001b[32m━━━━━━━━━━━━━━━━━━━━\u001b[0m\u001b[37m\u001b[0m \u001b[1m0s\u001b[0m 19ms/step\n",
      "\u001b[1m1/1\u001b[0m \u001b[32m━━━━━━━━━━━━━━━━━━━━\u001b[0m\u001b[37m\u001b[0m \u001b[1m0s\u001b[0m 19ms/step\n",
      "\u001b[1m1/1\u001b[0m \u001b[32m━━━━━━━━━━━━━━━━━━━━\u001b[0m\u001b[37m\u001b[0m \u001b[1m0s\u001b[0m 20ms/step\n",
      "\u001b[1m1/1\u001b[0m \u001b[32m━━━━━━━━━━━━━━━━━━━━\u001b[0m\u001b[37m\u001b[0m \u001b[1m0s\u001b[0m 19ms/step\n",
      "\u001b[1m1/1\u001b[0m \u001b[32m━━━━━━━━━━━━━━━━━━━━\u001b[0m\u001b[37m\u001b[0m \u001b[1m0s\u001b[0m 28ms/step\n",
      "\u001b[1m1/1\u001b[0m \u001b[32m━━━━━━━━━━━━━━━━━━━━\u001b[0m\u001b[37m\u001b[0m \u001b[1m0s\u001b[0m 23ms/step\n",
      "\u001b[1m1/1\u001b[0m \u001b[32m━━━━━━━━━━━━━━━━━━━━\u001b[0m\u001b[37m\u001b[0m \u001b[1m0s\u001b[0m 22ms/step\n",
      "\u001b[1m1/1\u001b[0m \u001b[32m━━━━━━━━━━━━━━━━━━━━\u001b[0m\u001b[37m\u001b[0m \u001b[1m0s\u001b[0m 20ms/step\n",
      "\u001b[1m1/1\u001b[0m \u001b[32m━━━━━━━━━━━━━━━━━━━━\u001b[0m\u001b[37m\u001b[0m \u001b[1m0s\u001b[0m 20ms/step\n",
      "\u001b[1m1/1\u001b[0m \u001b[32m━━━━━━━━━━━━━━━━━━━━\u001b[0m\u001b[37m\u001b[0m \u001b[1m0s\u001b[0m 21ms/step\n",
      "\u001b[1m1/1\u001b[0m \u001b[32m━━━━━━━━━━━━━━━━━━━━\u001b[0m\u001b[37m\u001b[0m \u001b[1m0s\u001b[0m 21ms/step\n",
      "\u001b[1m1/1\u001b[0m \u001b[32m━━━━━━━━━━━━━━━━━━━━\u001b[0m\u001b[37m\u001b[0m \u001b[1m0s\u001b[0m 21ms/step\n",
      "\u001b[1m1/1\u001b[0m \u001b[32m━━━━━━━━━━━━━━━━━━━━\u001b[0m\u001b[37m\u001b[0m \u001b[1m0s\u001b[0m 21ms/step\n",
      "\u001b[1m1/1\u001b[0m \u001b[32m━━━━━━━━━━━━━━━━━━━━\u001b[0m\u001b[37m\u001b[0m \u001b[1m0s\u001b[0m 22ms/step\n",
      "\u001b[1m1/1\u001b[0m \u001b[32m━━━━━━━━━━━━━━━━━━━━\u001b[0m\u001b[37m\u001b[0m \u001b[1m0s\u001b[0m 22ms/step\n",
      "\u001b[1m1/1\u001b[0m \u001b[32m━━━━━━━━━━━━━━━━━━━━\u001b[0m\u001b[37m\u001b[0m \u001b[1m0s\u001b[0m 23ms/step\n",
      "\u001b[1m1/1\u001b[0m \u001b[32m━━━━━━━━━━━━━━━━━━━━\u001b[0m\u001b[37m\u001b[0m \u001b[1m0s\u001b[0m 22ms/step\n",
      "\u001b[1m1/1\u001b[0m \u001b[32m━━━━━━━━━━━━━━━━━━━━\u001b[0m\u001b[37m\u001b[0m \u001b[1m0s\u001b[0m 20ms/step\n",
      "\u001b[1m1/1\u001b[0m \u001b[32m━━━━━━━━━━━━━━━━━━━━\u001b[0m\u001b[37m\u001b[0m \u001b[1m0s\u001b[0m 22ms/step\n",
      "\u001b[1m1/1\u001b[0m \u001b[32m━━━━━━━━━━━━━━━━━━━━\u001b[0m\u001b[37m\u001b[0m \u001b[1m0s\u001b[0m 21ms/step\n",
      "\u001b[1m1/1\u001b[0m \u001b[32m━━━━━━━━━━━━━━━━━━━━\u001b[0m\u001b[37m\u001b[0m \u001b[1m0s\u001b[0m 23ms/step\n",
      "\u001b[1m1/1\u001b[0m \u001b[32m━━━━━━━━━━━━━━━━━━━━\u001b[0m\u001b[37m\u001b[0m \u001b[1m0s\u001b[0m 22ms/step\n",
      "\u001b[1m1/1\u001b[0m \u001b[32m━━━━━━━━━━━━━━━━━━━━\u001b[0m\u001b[37m\u001b[0m \u001b[1m0s\u001b[0m 21ms/step\n",
      "\u001b[1m1/1\u001b[0m \u001b[32m━━━━━━━━━━━━━━━━━━━━\u001b[0m\u001b[37m\u001b[0m \u001b[1m0s\u001b[0m 22ms/step\n",
      "\u001b[1m1/1\u001b[0m \u001b[32m━━━━━━━━━━━━━━━━━━━━\u001b[0m\u001b[37m\u001b[0m \u001b[1m0s\u001b[0m 20ms/step\n",
      "\u001b[1m1/1\u001b[0m \u001b[32m━━━━━━━━━━━━━━━━━━━━\u001b[0m\u001b[37m\u001b[0m \u001b[1m0s\u001b[0m 20ms/step\n",
      "\u001b[1m1/1\u001b[0m \u001b[32m━━━━━━━━━━━━━━━━━━━━\u001b[0m\u001b[37m\u001b[0m \u001b[1m0s\u001b[0m 22ms/step\n",
      "\u001b[1m1/1\u001b[0m \u001b[32m━━━━━━━━━━━━━━━━━━━━\u001b[0m\u001b[37m\u001b[0m \u001b[1m0s\u001b[0m 22ms/step\n",
      "\u001b[1m1/1\u001b[0m \u001b[32m━━━━━━━━━━━━━━━━━━━━\u001b[0m\u001b[37m\u001b[0m \u001b[1m0s\u001b[0m 21ms/step\n",
      "\u001b[1m1/1\u001b[0m \u001b[32m━━━━━━━━━━━━━━━━━━━━\u001b[0m\u001b[37m\u001b[0m \u001b[1m0s\u001b[0m 24ms/step\n",
      "2nd Round:\n",
      "\u001b[1m1/1\u001b[0m \u001b[32m━━━━━━━━━━━━━━━━━━━━\u001b[0m\u001b[37m\u001b[0m \u001b[1m0s\u001b[0m 22ms/step\n",
      "\u001b[1m1/1\u001b[0m \u001b[32m━━━━━━━━━━━━━━━━━━━━\u001b[0m\u001b[37m\u001b[0m \u001b[1m0s\u001b[0m 22ms/step\n",
      "\u001b[1m1/1\u001b[0m \u001b[32m━━━━━━━━━━━━━━━━━━━━\u001b[0m\u001b[37m\u001b[0m \u001b[1m0s\u001b[0m 22ms/step\n",
      "\u001b[1m1/1\u001b[0m \u001b[32m━━━━━━━━━━━━━━━━━━━━\u001b[0m\u001b[37m\u001b[0m \u001b[1m0s\u001b[0m 22ms/step\n",
      "\u001b[1m1/1\u001b[0m \u001b[32m━━━━━━━━━━━━━━━━━━━━\u001b[0m\u001b[37m\u001b[0m \u001b[1m0s\u001b[0m 23ms/step\n",
      "\u001b[1m1/1\u001b[0m \u001b[32m━━━━━━━━━━━━━━━━━━━━\u001b[0m\u001b[37m\u001b[0m \u001b[1m0s\u001b[0m 20ms/step\n",
      "\u001b[1m1/1\u001b[0m \u001b[32m━━━━━━━━━━━━━━━━━━━━\u001b[0m\u001b[37m\u001b[0m \u001b[1m0s\u001b[0m 20ms/step\n",
      "\u001b[1m1/1\u001b[0m \u001b[32m━━━━━━━━━━━━━━━━━━━━\u001b[0m\u001b[37m\u001b[0m \u001b[1m0s\u001b[0m 21ms/step\n",
      "\u001b[1m1/1\u001b[0m \u001b[32m━━━━━━━━━━━━━━━━━━━━\u001b[0m\u001b[37m\u001b[0m \u001b[1m0s\u001b[0m 20ms/step\n",
      "\u001b[1m1/1\u001b[0m \u001b[32m━━━━━━━━━━━━━━━━━━━━\u001b[0m\u001b[37m\u001b[0m \u001b[1m0s\u001b[0m 22ms/step\n",
      "\u001b[1m1/1\u001b[0m \u001b[32m━━━━━━━━━━━━━━━━━━━━\u001b[0m\u001b[37m\u001b[0m \u001b[1m0s\u001b[0m 22ms/step\n",
      "\u001b[1m1/1\u001b[0m \u001b[32m━━━━━━━━━━━━━━━━━━━━\u001b[0m\u001b[37m\u001b[0m \u001b[1m0s\u001b[0m 21ms/step\n",
      "\u001b[1m1/1\u001b[0m \u001b[32m━━━━━━━━━━━━━━━━━━━━\u001b[0m\u001b[37m\u001b[0m \u001b[1m0s\u001b[0m 23ms/step\n",
      "\u001b[1m1/1\u001b[0m \u001b[32m━━━━━━━━━━━━━━━━━━━━\u001b[0m\u001b[37m\u001b[0m \u001b[1m0s\u001b[0m 21ms/step\n",
      "\u001b[1m1/1\u001b[0m \u001b[32m━━━━━━━━━━━━━━━━━━━━\u001b[0m\u001b[37m\u001b[0m \u001b[1m0s\u001b[0m 22ms/step\n",
      "\u001b[1m1/1\u001b[0m \u001b[32m━━━━━━━━━━━━━━━━━━━━\u001b[0m\u001b[37m\u001b[0m \u001b[1m0s\u001b[0m 22ms/step\n",
      "\u001b[1m1/1\u001b[0m \u001b[32m━━━━━━━━━━━━━━━━━━━━\u001b[0m\u001b[37m\u001b[0m \u001b[1m0s\u001b[0m 21ms/step\n",
      "\u001b[1m1/1\u001b[0m \u001b[32m━━━━━━━━━━━━━━━━━━━━\u001b[0m\u001b[37m\u001b[0m \u001b[1m0s\u001b[0m 19ms/step\n",
      "\u001b[1m1/1\u001b[0m \u001b[32m━━━━━━━━━━━━━━━━━━━━\u001b[0m\u001b[37m\u001b[0m \u001b[1m0s\u001b[0m 19ms/step\n",
      "\u001b[1m1/1\u001b[0m \u001b[32m━━━━━━━━━━━━━━━━━━━━\u001b[0m\u001b[37m\u001b[0m \u001b[1m0s\u001b[0m 19ms/step\n",
      "\u001b[1m1/1\u001b[0m \u001b[32m━━━━━━━━━━━━━━━━━━━━\u001b[0m\u001b[37m\u001b[0m \u001b[1m0s\u001b[0m 23ms/step\n",
      "\u001b[1m1/1\u001b[0m \u001b[32m━━━━━━━━━━━━━━━━━━━━\u001b[0m\u001b[37m\u001b[0m \u001b[1m0s\u001b[0m 22ms/step\n",
      "\u001b[1m1/1\u001b[0m \u001b[32m━━━━━━━━━━━━━━━━━━━━\u001b[0m\u001b[37m\u001b[0m \u001b[1m0s\u001b[0m 20ms/step\n",
      "\u001b[1m1/1\u001b[0m \u001b[32m━━━━━━━━━━━━━━━━━━━━\u001b[0m\u001b[37m\u001b[0m \u001b[1m0s\u001b[0m 21ms/step\n",
      "\u001b[1m1/1\u001b[0m \u001b[32m━━━━━━━━━━━━━━━━━━━━\u001b[0m\u001b[37m\u001b[0m \u001b[1m0s\u001b[0m 22ms/step\n",
      "\u001b[1m1/1\u001b[0m \u001b[32m━━━━━━━━━━━━━━━━━━━━\u001b[0m\u001b[37m\u001b[0m \u001b[1m0s\u001b[0m 22ms/step\n",
      "\u001b[1m1/1\u001b[0m \u001b[32m━━━━━━━━━━━━━━━━━━━━\u001b[0m\u001b[37m\u001b[0m \u001b[1m0s\u001b[0m 20ms/step\n",
      "\u001b[1m1/1\u001b[0m \u001b[32m━━━━━━━━━━━━━━━━━━━━\u001b[0m\u001b[37m\u001b[0m \u001b[1m0s\u001b[0m 19ms/step\n",
      "\u001b[1m1/1\u001b[0m \u001b[32m━━━━━━━━━━━━━━━━━━━━\u001b[0m\u001b[37m\u001b[0m \u001b[1m0s\u001b[0m 21ms/step\n",
      "\u001b[1m1/1\u001b[0m \u001b[32m━━━━━━━━━━━━━━━━━━━━\u001b[0m\u001b[37m\u001b[0m \u001b[1m0s\u001b[0m 21ms/step\n",
      "\u001b[1m1/1\u001b[0m \u001b[32m━━━━━━━━━━━━━━━━━━━━\u001b[0m\u001b[37m\u001b[0m \u001b[1m0s\u001b[0m 20ms/step\n",
      "\u001b[1m1/1\u001b[0m \u001b[32m━━━━━━━━━━━━━━━━━━━━\u001b[0m\u001b[37m\u001b[0m \u001b[1m0s\u001b[0m 21ms/step\n",
      "3rd Round:\n",
      "\u001b[1m1/1\u001b[0m \u001b[32m━━━━━━━━━━━━━━━━━━━━\u001b[0m\u001b[37m\u001b[0m \u001b[1m0s\u001b[0m 20ms/step\n",
      "\u001b[1m1/1\u001b[0m \u001b[32m━━━━━━━━━━━━━━━━━━━━\u001b[0m\u001b[37m\u001b[0m \u001b[1m0s\u001b[0m 20ms/step\n",
      "\u001b[1m1/1\u001b[0m \u001b[32m━━━━━━━━━━━━━━━━━━━━\u001b[0m\u001b[37m\u001b[0m \u001b[1m0s\u001b[0m 21ms/step\n",
      "\u001b[1m1/1\u001b[0m \u001b[32m━━━━━━━━━━━━━━━━━━━━\u001b[0m\u001b[37m\u001b[0m \u001b[1m0s\u001b[0m 21ms/step\n",
      "\u001b[1m1/1\u001b[0m \u001b[32m━━━━━━━━━━━━━━━━━━━━\u001b[0m\u001b[37m\u001b[0m \u001b[1m0s\u001b[0m 21ms/step\n",
      "\u001b[1m1/1\u001b[0m \u001b[32m━━━━━━━━━━━━━━━━━━━━\u001b[0m\u001b[37m\u001b[0m \u001b[1m0s\u001b[0m 21ms/step\n",
      "\u001b[1m1/1\u001b[0m \u001b[32m━━━━━━━━━━━━━━━━━━━━\u001b[0m\u001b[37m\u001b[0m \u001b[1m0s\u001b[0m 22ms/step\n",
      "\u001b[1m1/1\u001b[0m \u001b[32m━━━━━━━━━━━━━━━━━━━━\u001b[0m\u001b[37m\u001b[0m \u001b[1m0s\u001b[0m 24ms/step\n",
      "\u001b[1m1/1\u001b[0m \u001b[32m━━━━━━━━━━━━━━━━━━━━\u001b[0m\u001b[37m\u001b[0m \u001b[1m0s\u001b[0m 23ms/step\n",
      "\u001b[1m1/1\u001b[0m \u001b[32m━━━━━━━━━━━━━━━━━━━━\u001b[0m\u001b[37m\u001b[0m \u001b[1m0s\u001b[0m 20ms/step\n",
      "\u001b[1m1/1\u001b[0m \u001b[32m━━━━━━━━━━━━━━━━━━━━\u001b[0m\u001b[37m\u001b[0m \u001b[1m0s\u001b[0m 19ms/step\n",
      "\u001b[1m1/1\u001b[0m \u001b[32m━━━━━━━━━━━━━━━━━━━━\u001b[0m\u001b[37m\u001b[0m \u001b[1m0s\u001b[0m 19ms/step\n",
      "\u001b[1m1/1\u001b[0m \u001b[32m━━━━━━━━━━━━━━━━━━━━\u001b[0m\u001b[37m\u001b[0m \u001b[1m0s\u001b[0m 20ms/step\n",
      "\u001b[1m1/1\u001b[0m \u001b[32m━━━━━━━━━━━━━━━━━━━━\u001b[0m\u001b[37m\u001b[0m \u001b[1m0s\u001b[0m 20ms/step\n",
      "\u001b[1m1/1\u001b[0m \u001b[32m━━━━━━━━━━━━━━━━━━━━\u001b[0m\u001b[37m\u001b[0m \u001b[1m0s\u001b[0m 20ms/step\n",
      "\u001b[1m1/1\u001b[0m \u001b[32m━━━━━━━━━━━━━━━━━━━━\u001b[0m\u001b[37m\u001b[0m \u001b[1m0s\u001b[0m 23ms/step\n",
      "4th Round:\n",
      "\u001b[1m1/1\u001b[0m \u001b[32m━━━━━━━━━━━━━━━━━━━━\u001b[0m\u001b[37m\u001b[0m \u001b[1m0s\u001b[0m 20ms/step\n",
      "\u001b[1m1/1\u001b[0m \u001b[32m━━━━━━━━━━━━━━━━━━━━\u001b[0m\u001b[37m\u001b[0m \u001b[1m0s\u001b[0m 19ms/step\n",
      "\u001b[1m1/1\u001b[0m \u001b[32m━━━━━━━━━━━━━━━━━━━━\u001b[0m\u001b[37m\u001b[0m \u001b[1m0s\u001b[0m 22ms/step\n",
      "\u001b[1m1/1\u001b[0m \u001b[32m━━━━━━━━━━━━━━━━━━━━\u001b[0m\u001b[37m\u001b[0m \u001b[1m0s\u001b[0m 21ms/step\n",
      "\u001b[1m1/1\u001b[0m \u001b[32m━━━━━━━━━━━━━━━━━━━━\u001b[0m\u001b[37m\u001b[0m \u001b[1m0s\u001b[0m 20ms/step\n",
      "\u001b[1m1/1\u001b[0m \u001b[32m━━━━━━━━━━━━━━━━━━━━\u001b[0m\u001b[37m\u001b[0m \u001b[1m0s\u001b[0m 19ms/step\n",
      "\u001b[1m1/1\u001b[0m \u001b[32m━━━━━━━━━━━━━━━━━━━━\u001b[0m\u001b[37m\u001b[0m \u001b[1m0s\u001b[0m 19ms/step\n",
      "\u001b[1m1/1\u001b[0m \u001b[32m━━━━━━━━━━━━━━━━━━━━\u001b[0m\u001b[37m\u001b[0m \u001b[1m0s\u001b[0m 19ms/step\n",
      "5th Round:\n",
      "\u001b[1m1/1\u001b[0m \u001b[32m━━━━━━━━━━━━━━━━━━━━\u001b[0m\u001b[37m\u001b[0m \u001b[1m0s\u001b[0m 20ms/step\n",
      "\u001b[1m1/1\u001b[0m \u001b[32m━━━━━━━━━━━━━━━━━━━━\u001b[0m\u001b[37m\u001b[0m \u001b[1m0s\u001b[0m 23ms/step\n",
      "\u001b[1m1/1\u001b[0m \u001b[32m━━━━━━━━━━━━━━━━━━━━\u001b[0m\u001b[37m\u001b[0m \u001b[1m0s\u001b[0m 20ms/step\n",
      "\u001b[1m1/1\u001b[0m \u001b[32m━━━━━━━━━━━━━━━━━━━━\u001b[0m\u001b[37m\u001b[0m \u001b[1m0s\u001b[0m 20ms/step\n",
      "Final Round:\n",
      "\u001b[1m1/1\u001b[0m \u001b[32m━━━━━━━━━━━━━━━━━━━━\u001b[0m\u001b[37m\u001b[0m \u001b[1m0s\u001b[0m 20ms/step\n",
      "\u001b[1m1/1\u001b[0m \u001b[32m━━━━━━━━━━━━━━━━━━━━\u001b[0m\u001b[37m\u001b[0m \u001b[1m0s\u001b[0m 22ms/step\n"
     ]
    },
    {
     "data": {
      "text/html": [
       "<div>\n",
       "<style scoped>\n",
       "    .dataframe tbody tr th:only-of-type {\n",
       "        vertical-align: middle;\n",
       "    }\n",
       "\n",
       "    .dataframe tbody tr th {\n",
       "        vertical-align: top;\n",
       "    }\n",
       "\n",
       "    .dataframe thead th {\n",
       "        text-align: right;\n",
       "    }\n",
       "</style>\n",
       "<table border=\"1\" class=\"dataframe\">\n",
       "  <thead>\n",
       "    <tr style=\"text-align: right;\">\n",
       "      <th></th>\n",
       "      <th>Round</th>\n",
       "      <th>Region</th>\n",
       "      <th>Match</th>\n",
       "      <th>Winner</th>\n",
       "      <th>Seed</th>\n",
       "      <th>SlotNum</th>\n",
       "    </tr>\n",
       "  </thead>\n",
       "  <tbody>\n",
       "    <tr>\n",
       "      <th>0</th>\n",
       "      <td>1</td>\n",
       "      <td>W</td>\n",
       "      <td>Match 1</td>\n",
       "      <td>3313</td>\n",
       "      <td>16</td>\n",
       "      <td>1.0</td>\n",
       "    </tr>\n",
       "    <tr>\n",
       "      <th>1</th>\n",
       "      <td>1</td>\n",
       "      <td>W</td>\n",
       "      <td>Match 2</td>\n",
       "      <td>3221</td>\n",
       "      <td>15</td>\n",
       "      <td>2.0</td>\n",
       "    </tr>\n",
       "    <tr>\n",
       "      <th>2</th>\n",
       "      <td>1</td>\n",
       "      <td>W</td>\n",
       "      <td>Match 3</td>\n",
       "      <td>3381</td>\n",
       "      <td>14</td>\n",
       "      <td>3.0</td>\n",
       "    </tr>\n",
       "    <tr>\n",
       "      <th>3</th>\n",
       "      <td>1</td>\n",
       "      <td>W</td>\n",
       "      <td>Match 4</td>\n",
       "      <td>3170</td>\n",
       "      <td>13</td>\n",
       "      <td>4.0</td>\n",
       "    </tr>\n",
       "    <tr>\n",
       "      <th>4</th>\n",
       "      <td>1</td>\n",
       "      <td>W</td>\n",
       "      <td>Match 5</td>\n",
       "      <td>3339</td>\n",
       "      <td>12</td>\n",
       "      <td>5.0</td>\n",
       "    </tr>\n",
       "    <tr>\n",
       "      <th>...</th>\n",
       "      <td>...</td>\n",
       "      <td>...</td>\n",
       "      <td>...</td>\n",
       "      <td>...</td>\n",
       "      <td>...</td>\n",
       "      <td>...</td>\n",
       "    </tr>\n",
       "    <tr>\n",
       "      <th>58</th>\n",
       "      <td>4</td>\n",
       "      <td>Y</td>\n",
       "      <td>Match 1</td>\n",
       "      <td>3424</td>\n",
       "      <td>11</td>\n",
       "      <td>1.0</td>\n",
       "    </tr>\n",
       "    <tr>\n",
       "      <th>59</th>\n",
       "      <td>4</td>\n",
       "      <td>Z</td>\n",
       "      <td>Match 1</td>\n",
       "      <td>3385</td>\n",
       "      <td>11</td>\n",
       "      <td>1.0</td>\n",
       "    </tr>\n",
       "    <tr>\n",
       "      <th>60</th>\n",
       "      <td>5</td>\n",
       "      <td>WX</td>\n",
       "      <td>Match 1</td>\n",
       "      <td>3292</td>\n",
       "      <td>11</td>\n",
       "      <td>NaN</td>\n",
       "    </tr>\n",
       "    <tr>\n",
       "      <th>61</th>\n",
       "      <td>5</td>\n",
       "      <td>YZ</td>\n",
       "      <td>Match 2</td>\n",
       "      <td>3292</td>\n",
       "      <td>11</td>\n",
       "      <td>NaN</td>\n",
       "    </tr>\n",
       "    <tr>\n",
       "      <th>62</th>\n",
       "      <td>6</td>\n",
       "      <td>CH</td>\n",
       "      <td>Match 1</td>\n",
       "      <td>3292</td>\n",
       "      <td>11</td>\n",
       "      <td>NaN</td>\n",
       "    </tr>\n",
       "  </tbody>\n",
       "</table>\n",
       "<p>63 rows × 6 columns</p>\n",
       "</div>"
      ],
      "text/plain": [
       "   Round Region    Match Winner Seed  SlotNum\n",
       "0      1      W  Match 1   3313   16      1.0\n",
       "1      1      W  Match 2   3221   15      2.0\n",
       "2      1      W  Match 3   3381   14      3.0\n",
       "3      1      W  Match 4   3170   13      4.0\n",
       "4      1      W  Match 5   3339   12      5.0\n",
       "..   ...    ...      ...    ...  ...      ...\n",
       "58     4      Y  Match 1   3424   11      1.0\n",
       "59     4      Z  Match 1   3385   11      1.0\n",
       "60     5     WX  Match 1   3292   11      NaN\n",
       "61     5     YZ  Match 2   3292   11      NaN\n",
       "62     6     CH  Match 1   3292   11      NaN\n",
       "\n",
       "[63 rows x 6 columns]"
      ]
     },
     "execution_count": 44,
     "metadata": {},
     "output_type": "execute_result"
    }
   ],
   "source": [
    "Team_combine = pd.merge(seeds_2024_W,team_info_W[['TeamID','1stD1Season',\n",
    "                                         'WinAccount','CompactAccount','WinningRate'\n",
    "                                        ]], left_on=['TeamID'], right_on=['TeamID'], how='left')\n",
    "\n",
    "teams_df_W = seeds_2024_W.copy()\n",
    "winners_df_W = simulate_tournament(model_W,teams_df_W)\n",
    "winners_df_W"
   ]
  },
  {
   "cell_type": "markdown",
   "id": "4c2c7a3f",
   "metadata": {
    "papermill": {
     "duration": 0.107913,
     "end_time": "2024-03-16T17:55:35.260621",
     "exception": false,
     "start_time": "2024-03-16T17:55:35.152708",
     "status": "completed"
    },
    "tags": []
   },
   "source": [
    "# 14. Submission\n",
    "\n",
    "**Men**"
   ]
  },
  {
   "cell_type": "code",
   "execution_count": 45,
   "id": "8f1191ee",
   "metadata": {
    "execution": {
     "iopub.execute_input": "2024-03-16T17:55:35.470273Z",
     "iopub.status.busy": "2024-03-16T17:55:35.469142Z",
     "iopub.status.idle": "2024-03-16T17:55:35.483842Z",
     "shell.execute_reply": "2024-03-16T17:55:35.482693Z"
    },
    "papermill": {
     "duration": 0.120697,
     "end_time": "2024-03-16T17:55:35.486124",
     "exception": false,
     "start_time": "2024-03-16T17:55:35.365427",
     "status": "completed"
    },
    "tags": []
   },
   "outputs": [
    {
     "data": {
      "text/html": [
       "<div>\n",
       "<style scoped>\n",
       "    .dataframe tbody tr th:only-of-type {\n",
       "        vertical-align: middle;\n",
       "    }\n",
       "\n",
       "    .dataframe tbody tr th {\n",
       "        vertical-align: top;\n",
       "    }\n",
       "\n",
       "    .dataframe thead th {\n",
       "        text-align: right;\n",
       "    }\n",
       "</style>\n",
       "<table border=\"1\" class=\"dataframe\">\n",
       "  <thead>\n",
       "    <tr style=\"text-align: right;\">\n",
       "      <th></th>\n",
       "      <th>Tournament</th>\n",
       "      <th>Seed</th>\n",
       "      <th>TeamID</th>\n",
       "      <th>Region</th>\n",
       "      <th>SeedRank</th>\n",
       "    </tr>\n",
       "  </thead>\n",
       "  <tbody>\n",
       "    <tr>\n",
       "      <th>0</th>\n",
       "      <td>M</td>\n",
       "      <td>W01</td>\n",
       "      <td>1345</td>\n",
       "      <td>W</td>\n",
       "      <td>1</td>\n",
       "    </tr>\n",
       "    <tr>\n",
       "      <th>1</th>\n",
       "      <td>M</td>\n",
       "      <td>W02</td>\n",
       "      <td>1266</td>\n",
       "      <td>W</td>\n",
       "      <td>2</td>\n",
       "    </tr>\n",
       "    <tr>\n",
       "      <th>2</th>\n",
       "      <td>M</td>\n",
       "      <td>W03</td>\n",
       "      <td>1243</td>\n",
       "      <td>W</td>\n",
       "      <td>3</td>\n",
       "    </tr>\n",
       "    <tr>\n",
       "      <th>3</th>\n",
       "      <td>M</td>\n",
       "      <td>W04</td>\n",
       "      <td>1397</td>\n",
       "      <td>W</td>\n",
       "      <td>4</td>\n",
       "    </tr>\n",
       "    <tr>\n",
       "      <th>4</th>\n",
       "      <td>M</td>\n",
       "      <td>W05</td>\n",
       "      <td>1181</td>\n",
       "      <td>W</td>\n",
       "      <td>5</td>\n",
       "    </tr>\n",
       "    <tr>\n",
       "      <th>...</th>\n",
       "      <td>...</td>\n",
       "      <td>...</td>\n",
       "      <td>...</td>\n",
       "      <td>...</td>\n",
       "      <td>...</td>\n",
       "    </tr>\n",
       "    <tr>\n",
       "      <th>59</th>\n",
       "      <td>M</td>\n",
       "      <td>Z12</td>\n",
       "      <td>1433</td>\n",
       "      <td>Z</td>\n",
       "      <td>12</td>\n",
       "    </tr>\n",
       "    <tr>\n",
       "      <th>60</th>\n",
       "      <td>M</td>\n",
       "      <td>Z13</td>\n",
       "      <td>1233</td>\n",
       "      <td>Z</td>\n",
       "      <td>13</td>\n",
       "    </tr>\n",
       "    <tr>\n",
       "      <th>61</th>\n",
       "      <td>M</td>\n",
       "      <td>Z14</td>\n",
       "      <td>1213</td>\n",
       "      <td>Z</td>\n",
       "      <td>14</td>\n",
       "    </tr>\n",
       "    <tr>\n",
       "      <th>62</th>\n",
       "      <td>M</td>\n",
       "      <td>Z15</td>\n",
       "      <td>1421</td>\n",
       "      <td>Z</td>\n",
       "      <td>15</td>\n",
       "    </tr>\n",
       "    <tr>\n",
       "      <th>63</th>\n",
       "      <td>M</td>\n",
       "      <td>Z16</td>\n",
       "      <td>1224</td>\n",
       "      <td>Z</td>\n",
       "      <td>16</td>\n",
       "    </tr>\n",
       "  </tbody>\n",
       "</table>\n",
       "<p>64 rows × 5 columns</p>\n",
       "</div>"
      ],
      "text/plain": [
       "   Tournament Seed  TeamID Region  SeedRank\n",
       "0           M  W01    1345      W         1\n",
       "1           M  W02    1266      W         2\n",
       "2           M  W03    1243      W         3\n",
       "3           M  W04    1397      W         4\n",
       "4           M  W05    1181      W         5\n",
       "..        ...  ...     ...    ...       ...\n",
       "59          M  Z12    1433      Z        12\n",
       "60          M  Z13    1233      Z        13\n",
       "61          M  Z14    1213      Z        14\n",
       "62          M  Z15    1421      Z        15\n",
       "63          M  Z16    1224      Z        16\n",
       "\n",
       "[64 rows x 5 columns]"
      ]
     },
     "execution_count": 45,
     "metadata": {},
     "output_type": "execute_result"
    }
   ],
   "source": [
    "seeds_2024_M"
   ]
  },
  {
   "cell_type": "code",
   "execution_count": 52,
   "id": "13b81083",
   "metadata": {
    "execution": {
     "iopub.execute_input": "2024-03-16T17:55:35.692595Z",
     "iopub.status.busy": "2024-03-16T17:55:35.691818Z",
     "iopub.status.idle": "2024-03-16T17:55:35.714717Z",
     "shell.execute_reply": "2024-03-16T17:55:35.713598Z"
    },
    "papermill": {
     "duration": 0.129032,
     "end_time": "2024-03-16T17:55:35.717094",
     "exception": false,
     "start_time": "2024-03-16T17:55:35.588062",
     "status": "completed"
    },
    "tags": []
   },
   "outputs": [
    {
     "ename": "NameError",
     "evalue": "name 'winners_df_M' is not defined",
     "output_type": "error",
     "traceback": [
      "\u001b[31m---------------------------------------------------------------------------\u001b[39m",
      "\u001b[31mNameError\u001b[39m                                 Traceback (most recent call last)",
      "\u001b[36mCell\u001b[39m\u001b[36m \u001b[39m\u001b[32mIn[52]\u001b[39m\u001b[32m, line 1\u001b[39m\n\u001b[32m----> \u001b[39m\u001b[32m1\u001b[39m winners_info_M = pd.merge(\u001b[43mwinners_df_M\u001b[49m,seeds_2024_M[[\u001b[33m'\u001b[39m\u001b[33mTeamID\u001b[39m\u001b[33m'\u001b[39m,\u001b[33m'\u001b[39m\u001b[33mSeed\u001b[39m\u001b[33m'\u001b[39m]],left_on=[\u001b[33m'\u001b[39m\u001b[33mWinner\u001b[39m\u001b[33m'\u001b[39m], right_on=[\u001b[33m'\u001b[39m\u001b[33mTeamID\u001b[39m\u001b[33m'\u001b[39m], how=\u001b[33m'\u001b[39m\u001b[33mleft\u001b[39m\u001b[33m'\u001b[39m)\n\u001b[32m      2\u001b[39m winners_info_M = winners_info_M.rename(columns={\u001b[33m'\u001b[39m\u001b[33mSeed_x\u001b[39m\u001b[33m'\u001b[39m:\u001b[33m'\u001b[39m\u001b[33mRank\u001b[39m\u001b[33m'\u001b[39m,\u001b[33m'\u001b[39m\u001b[33mSeed_y\u001b[39m\u001b[33m'\u001b[39m:\u001b[33m'\u001b[39m\u001b[33mSeed\u001b[39m\u001b[33m'\u001b[39m})\n\u001b[32m      4\u001b[39m winners_info_M[\u001b[33m'\u001b[39m\u001b[33mSlotNum\u001b[39m\u001b[33m'\u001b[39m] = winners_info_M[\u001b[33m'\u001b[39m\u001b[33mSlotNum\u001b[39m\u001b[33m'\u001b[39m].astype(\u001b[38;5;28mstr\u001b[39m).apply(\u001b[38;5;28;01mlambda\u001b[39;00m x: x.rstrip(\u001b[33m'\u001b[39m\u001b[33m0\u001b[39m\u001b[33m'\u001b[39m).rstrip(\u001b[33m'\u001b[39m\u001b[33m.\u001b[39m\u001b[33m'\u001b[39m))\n",
      "\u001b[31mNameError\u001b[39m: name 'winners_df_M' is not defined"
     ]
    }
   ],
   "source": [
    "winners_info_M = pd.merge(winners_df_M,seeds_2024_M[['TeamID','Seed']],left_on=['Winner'], right_on=['TeamID'], how='left')\n",
    "winners_info_M = winners_info_M.rename(columns={'Seed_x':'Rank','Seed_y':'Seed'})\n",
    "\n",
    "winners_info_M['SlotNum'] = winners_info_M['SlotNum'].astype(str).apply(lambda x: x.rstrip('0').rstrip('.'))\n",
    "winners_info_M"
   ]
  },
  {
   "cell_type": "code",
   "execution_count": 47,
   "id": "2c1cca4c",
   "metadata": {
    "execution": {
     "iopub.execute_input": "2024-03-16T17:55:35.926607Z",
     "iopub.status.busy": "2024-03-16T17:55:35.925866Z",
     "iopub.status.idle": "2024-03-16T17:55:36.012564Z",
     "shell.execute_reply": "2024-03-16T17:55:36.011426Z"
    },
    "papermill": {
     "duration": 0.193841,
     "end_time": "2024-03-16T17:55:36.014992",
     "exception": false,
     "start_time": "2024-03-16T17:55:35.821151",
     "status": "completed"
    },
    "tags": []
   },
   "outputs": [
    {
     "data": {
      "text/html": [
       "<div>\n",
       "<style scoped>\n",
       "    .dataframe tbody tr th:only-of-type {\n",
       "        vertical-align: middle;\n",
       "    }\n",
       "\n",
       "    .dataframe tbody tr th {\n",
       "        vertical-align: top;\n",
       "    }\n",
       "\n",
       "    .dataframe thead th {\n",
       "        text-align: right;\n",
       "    }\n",
       "</style>\n",
       "<table border=\"1\" class=\"dataframe\">\n",
       "  <thead>\n",
       "    <tr style=\"text-align: right;\">\n",
       "      <th></th>\n",
       "      <th>RowId</th>\n",
       "      <th>Tournament</th>\n",
       "      <th>Bracket</th>\n",
       "      <th>Slot</th>\n",
       "      <th>Team</th>\n",
       "    </tr>\n",
       "  </thead>\n",
       "  <tbody>\n",
       "    <tr>\n",
       "      <th>32</th>\n",
       "      <td>32</td>\n",
       "      <td>M</td>\n",
       "      <td>1</td>\n",
       "      <td>R2W1</td>\n",
       "      <td>W16</td>\n",
       "    </tr>\n",
       "    <tr>\n",
       "      <th>33</th>\n",
       "      <td>33</td>\n",
       "      <td>M</td>\n",
       "      <td>1</td>\n",
       "      <td>R2W2</td>\n",
       "      <td>W02</td>\n",
       "    </tr>\n",
       "    <tr>\n",
       "      <th>34</th>\n",
       "      <td>34</td>\n",
       "      <td>M</td>\n",
       "      <td>1</td>\n",
       "      <td>R2W3</td>\n",
       "      <td>W03</td>\n",
       "    </tr>\n",
       "    <tr>\n",
       "      <th>35</th>\n",
       "      <td>35</td>\n",
       "      <td>M</td>\n",
       "      <td>1</td>\n",
       "      <td>R2W4</td>\n",
       "      <td>W05</td>\n",
       "    </tr>\n",
       "    <tr>\n",
       "      <th>36</th>\n",
       "      <td>36</td>\n",
       "      <td>M</td>\n",
       "      <td>1</td>\n",
       "      <td>R2X1</td>\n",
       "      <td>X01</td>\n",
       "    </tr>\n",
       "    <tr>\n",
       "      <th>37</th>\n",
       "      <td>37</td>\n",
       "      <td>M</td>\n",
       "      <td>1</td>\n",
       "      <td>R2X2</td>\n",
       "      <td>X02</td>\n",
       "    </tr>\n",
       "    <tr>\n",
       "      <th>38</th>\n",
       "      <td>38</td>\n",
       "      <td>M</td>\n",
       "      <td>1</td>\n",
       "      <td>R2X3</td>\n",
       "      <td>X03</td>\n",
       "    </tr>\n",
       "    <tr>\n",
       "      <th>39</th>\n",
       "      <td>39</td>\n",
       "      <td>M</td>\n",
       "      <td>1</td>\n",
       "      <td>R2X4</td>\n",
       "      <td>X12</td>\n",
       "    </tr>\n",
       "    <tr>\n",
       "      <th>40</th>\n",
       "      <td>40</td>\n",
       "      <td>M</td>\n",
       "      <td>1</td>\n",
       "      <td>R2Y1</td>\n",
       "      <td>Y09</td>\n",
       "    </tr>\n",
       "    <tr>\n",
       "      <th>41</th>\n",
       "      <td>41</td>\n",
       "      <td>M</td>\n",
       "      <td>1</td>\n",
       "      <td>R2Y2</td>\n",
       "      <td>Y15</td>\n",
       "    </tr>\n",
       "    <tr>\n",
       "      <th>42</th>\n",
       "      <td>42</td>\n",
       "      <td>M</td>\n",
       "      <td>1</td>\n",
       "      <td>R2Y3</td>\n",
       "      <td>Y06</td>\n",
       "    </tr>\n",
       "    <tr>\n",
       "      <th>43</th>\n",
       "      <td>43</td>\n",
       "      <td>M</td>\n",
       "      <td>1</td>\n",
       "      <td>R2Y4</td>\n",
       "      <td>Y12</td>\n",
       "    </tr>\n",
       "    <tr>\n",
       "      <th>44</th>\n",
       "      <td>44</td>\n",
       "      <td>M</td>\n",
       "      <td>1</td>\n",
       "      <td>R2Z1</td>\n",
       "      <td>Z08</td>\n",
       "    </tr>\n",
       "    <tr>\n",
       "      <th>45</th>\n",
       "      <td>45</td>\n",
       "      <td>M</td>\n",
       "      <td>1</td>\n",
       "      <td>R2Z2</td>\n",
       "      <td>Z10</td>\n",
       "    </tr>\n",
       "    <tr>\n",
       "      <th>46</th>\n",
       "      <td>46</td>\n",
       "      <td>M</td>\n",
       "      <td>1</td>\n",
       "      <td>R2Z3</td>\n",
       "      <td>Z11</td>\n",
       "    </tr>\n",
       "    <tr>\n",
       "      <th>47</th>\n",
       "      <td>47</td>\n",
       "      <td>M</td>\n",
       "      <td>1</td>\n",
       "      <td>R2Z4</td>\n",
       "      <td>Z04</td>\n",
       "    </tr>\n",
       "    <tr>\n",
       "      <th>48</th>\n",
       "      <td>48</td>\n",
       "      <td>M</td>\n",
       "      <td>1</td>\n",
       "      <td>R3W1</td>\n",
       "      <td>W05</td>\n",
       "    </tr>\n",
       "    <tr>\n",
       "      <th>49</th>\n",
       "      <td>49</td>\n",
       "      <td>M</td>\n",
       "      <td>1</td>\n",
       "      <td>R3W2</td>\n",
       "      <td>W03</td>\n",
       "    </tr>\n",
       "    <tr>\n",
       "      <th>50</th>\n",
       "      <td>50</td>\n",
       "      <td>M</td>\n",
       "      <td>1</td>\n",
       "      <td>R3X1</td>\n",
       "      <td>X01</td>\n",
       "    </tr>\n",
       "    <tr>\n",
       "      <th>51</th>\n",
       "      <td>51</td>\n",
       "      <td>M</td>\n",
       "      <td>1</td>\n",
       "      <td>R3X2</td>\n",
       "      <td>X03</td>\n",
       "    </tr>\n",
       "    <tr>\n",
       "      <th>52</th>\n",
       "      <td>52</td>\n",
       "      <td>M</td>\n",
       "      <td>1</td>\n",
       "      <td>R3Y1</td>\n",
       "      <td>Y09</td>\n",
       "    </tr>\n",
       "    <tr>\n",
       "      <th>53</th>\n",
       "      <td>53</td>\n",
       "      <td>M</td>\n",
       "      <td>1</td>\n",
       "      <td>R3Y2</td>\n",
       "      <td>Y15</td>\n",
       "    </tr>\n",
       "    <tr>\n",
       "      <th>54</th>\n",
       "      <td>54</td>\n",
       "      <td>M</td>\n",
       "      <td>1</td>\n",
       "      <td>R3Z1</td>\n",
       "      <td>Z08</td>\n",
       "    </tr>\n",
       "    <tr>\n",
       "      <th>55</th>\n",
       "      <td>55</td>\n",
       "      <td>M</td>\n",
       "      <td>1</td>\n",
       "      <td>R3Z2</td>\n",
       "      <td>Z10</td>\n",
       "    </tr>\n",
       "    <tr>\n",
       "      <th>56</th>\n",
       "      <td>56</td>\n",
       "      <td>M</td>\n",
       "      <td>1</td>\n",
       "      <td>R4W1</td>\n",
       "      <td>W05</td>\n",
       "    </tr>\n",
       "    <tr>\n",
       "      <th>57</th>\n",
       "      <td>57</td>\n",
       "      <td>M</td>\n",
       "      <td>1</td>\n",
       "      <td>R4X1</td>\n",
       "      <td>X03</td>\n",
       "    </tr>\n",
       "    <tr>\n",
       "      <th>58</th>\n",
       "      <td>58</td>\n",
       "      <td>M</td>\n",
       "      <td>1</td>\n",
       "      <td>R4Y1</td>\n",
       "      <td>Y09</td>\n",
       "    </tr>\n",
       "    <tr>\n",
       "      <th>59</th>\n",
       "      <td>59</td>\n",
       "      <td>M</td>\n",
       "      <td>1</td>\n",
       "      <td>R4Z1</td>\n",
       "      <td>Z08</td>\n",
       "    </tr>\n",
       "    <tr>\n",
       "      <th>60</th>\n",
       "      <td>60</td>\n",
       "      <td>M</td>\n",
       "      <td>1</td>\n",
       "      <td>R5WX</td>\n",
       "      <td>X03</td>\n",
       "    </tr>\n",
       "    <tr>\n",
       "      <th>61</th>\n",
       "      <td>61</td>\n",
       "      <td>M</td>\n",
       "      <td>1</td>\n",
       "      <td>R5YZ</td>\n",
       "      <td>Z08</td>\n",
       "    </tr>\n",
       "    <tr>\n",
       "      <th>62</th>\n",
       "      <td>62</td>\n",
       "      <td>M</td>\n",
       "      <td>1</td>\n",
       "      <td>R6CH</td>\n",
       "      <td>Z08</td>\n",
       "    </tr>\n",
       "  </tbody>\n",
       "</table>\n",
       "</div>"
      ],
      "text/plain": [
       "   RowId Tournament Bracket  Slot Team\n",
       "32    32          M       1  R2W1  W16\n",
       "33    33          M       1  R2W2  W02\n",
       "34    34          M       1  R2W3  W03\n",
       "35    35          M       1  R2W4  W05\n",
       "36    36          M       1  R2X1  X01\n",
       "37    37          M       1  R2X2  X02\n",
       "38    38          M       1  R2X3  X03\n",
       "39    39          M       1  R2X4  X12\n",
       "40    40          M       1  R2Y1  Y09\n",
       "41    41          M       1  R2Y2  Y15\n",
       "42    42          M       1  R2Y3  Y06\n",
       "43    43          M       1  R2Y4  Y12\n",
       "44    44          M       1  R2Z1  Z08\n",
       "45    45          M       1  R2Z2  Z10\n",
       "46    46          M       1  R2Z3  Z11\n",
       "47    47          M       1  R2Z4  Z04\n",
       "48    48          M       1  R3W1  W05\n",
       "49    49          M       1  R3W2  W03\n",
       "50    50          M       1  R3X1  X01\n",
       "51    51          M       1  R3X2  X03\n",
       "52    52          M       1  R3Y1  Y09\n",
       "53    53          M       1  R3Y2  Y15\n",
       "54    54          M       1  R3Z1  Z08\n",
       "55    55          M       1  R3Z2  Z10\n",
       "56    56          M       1  R4W1  W05\n",
       "57    57          M       1  R4X1  X03\n",
       "58    58          M       1  R4Y1  Y09\n",
       "59    59          M       1  R4Z1  Z08\n",
       "60    60          M       1  R5WX  X03\n",
       "61    61          M       1  R5YZ  Z08\n",
       "62    62          M       1  R6CH  Z08"
      ]
     },
     "execution_count": 47,
     "metadata": {},
     "output_type": "execute_result"
    }
   ],
   "source": [
    "def transform_to_desired_format(df):\n",
    "    transformed_df = pd.DataFrame(columns=['RowId', 'Tournament', 'Bracket', 'Slot', 'Team'])\n",
    "    \n",
    "    for index, row in df.iterrows():\n",
    "        if row['Round'] <= 4:\n",
    "            slot = f'R{row[\"Round\"]}{row[\"Region\"]}{str(row[\"SlotNum\"])}'\n",
    "            team = f'{row[\"Seed\"]}'\n",
    "        else:\n",
    "            slot = f'R{row[\"Round\"]}{row[\"Region\"]}'\n",
    "            team = f'{row[\"Seed\"]}'\n",
    "        \n",
    "        transformed_df = pd.concat([transformed_df, pd.DataFrame({\n",
    "            'RowId': [index],\n",
    "            'Tournament': ['M'],\n",
    "            'Bracket': [1],\n",
    "            'Slot': [slot],\n",
    "            'Team': [team]\n",
    "        })], ignore_index=True)\n",
    "    \n",
    "    return transformed_df\n",
    "\n",
    "submission_M = transform_to_desired_format(winners_info_M)\n",
    "submission_M[32:]"
   ]
  },
  {
   "cell_type": "markdown",
   "id": "2894ab3e",
   "metadata": {
    "papermill": {
     "duration": 0.104684,
     "end_time": "2024-03-16T17:55:36.223905",
     "exception": false,
     "start_time": "2024-03-16T17:55:36.119221",
     "status": "completed"
    },
    "tags": []
   },
   "source": [
    "**Women**"
   ]
  },
  {
   "cell_type": "code",
   "execution_count": 48,
   "id": "636b9028",
   "metadata": {
    "execution": {
     "iopub.execute_input": "2024-03-16T17:55:36.433483Z",
     "iopub.status.busy": "2024-03-16T17:55:36.433069Z",
     "iopub.status.idle": "2024-03-16T17:55:36.456590Z",
     "shell.execute_reply": "2024-03-16T17:55:36.455408Z"
    },
    "papermill": {
     "duration": 0.130876,
     "end_time": "2024-03-16T17:55:36.458882",
     "exception": false,
     "start_time": "2024-03-16T17:55:36.328006",
     "status": "completed"
    },
    "tags": []
   },
   "outputs": [
    {
     "data": {
      "text/html": [
       "<div>\n",
       "<style scoped>\n",
       "    .dataframe tbody tr th:only-of-type {\n",
       "        vertical-align: middle;\n",
       "    }\n",
       "\n",
       "    .dataframe tbody tr th {\n",
       "        vertical-align: top;\n",
       "    }\n",
       "\n",
       "    .dataframe thead th {\n",
       "        text-align: right;\n",
       "    }\n",
       "</style>\n",
       "<table border=\"1\" class=\"dataframe\">\n",
       "  <thead>\n",
       "    <tr style=\"text-align: right;\">\n",
       "      <th></th>\n",
       "      <th>Round</th>\n",
       "      <th>Region</th>\n",
       "      <th>Match</th>\n",
       "      <th>Winner</th>\n",
       "      <th>Rank</th>\n",
       "      <th>SlotNum</th>\n",
       "      <th>TeamID</th>\n",
       "      <th>Seed</th>\n",
       "    </tr>\n",
       "  </thead>\n",
       "  <tbody>\n",
       "    <tr>\n",
       "      <th>0</th>\n",
       "      <td>1</td>\n",
       "      <td>W</td>\n",
       "      <td>Match 1</td>\n",
       "      <td>3313</td>\n",
       "      <td>16</td>\n",
       "      <td>1</td>\n",
       "      <td>3313</td>\n",
       "      <td>W16</td>\n",
       "    </tr>\n",
       "    <tr>\n",
       "      <th>1</th>\n",
       "      <td>1</td>\n",
       "      <td>W</td>\n",
       "      <td>Match 2</td>\n",
       "      <td>3221</td>\n",
       "      <td>15</td>\n",
       "      <td>2</td>\n",
       "      <td>3221</td>\n",
       "      <td>W15</td>\n",
       "    </tr>\n",
       "    <tr>\n",
       "      <th>2</th>\n",
       "      <td>1</td>\n",
       "      <td>W</td>\n",
       "      <td>Match 3</td>\n",
       "      <td>3381</td>\n",
       "      <td>14</td>\n",
       "      <td>3</td>\n",
       "      <td>3381</td>\n",
       "      <td>W14</td>\n",
       "    </tr>\n",
       "    <tr>\n",
       "      <th>3</th>\n",
       "      <td>1</td>\n",
       "      <td>W</td>\n",
       "      <td>Match 4</td>\n",
       "      <td>3170</td>\n",
       "      <td>13</td>\n",
       "      <td>4</td>\n",
       "      <td>3170</td>\n",
       "      <td>W13</td>\n",
       "    </tr>\n",
       "    <tr>\n",
       "      <th>4</th>\n",
       "      <td>1</td>\n",
       "      <td>W</td>\n",
       "      <td>Match 5</td>\n",
       "      <td>3339</td>\n",
       "      <td>12</td>\n",
       "      <td>5</td>\n",
       "      <td>3339</td>\n",
       "      <td>W12</td>\n",
       "    </tr>\n",
       "    <tr>\n",
       "      <th>...</th>\n",
       "      <td>...</td>\n",
       "      <td>...</td>\n",
       "      <td>...</td>\n",
       "      <td>...</td>\n",
       "      <td>...</td>\n",
       "      <td>...</td>\n",
       "      <td>...</td>\n",
       "      <td>...</td>\n",
       "    </tr>\n",
       "    <tr>\n",
       "      <th>58</th>\n",
       "      <td>4</td>\n",
       "      <td>Y</td>\n",
       "      <td>Match 1</td>\n",
       "      <td>3424</td>\n",
       "      <td>11</td>\n",
       "      <td>1</td>\n",
       "      <td>3424</td>\n",
       "      <td>Y11</td>\n",
       "    </tr>\n",
       "    <tr>\n",
       "      <th>59</th>\n",
       "      <td>4</td>\n",
       "      <td>Z</td>\n",
       "      <td>Match 1</td>\n",
       "      <td>3385</td>\n",
       "      <td>11</td>\n",
       "      <td>1</td>\n",
       "      <td>3385</td>\n",
       "      <td>Z11</td>\n",
       "    </tr>\n",
       "    <tr>\n",
       "      <th>60</th>\n",
       "      <td>5</td>\n",
       "      <td>WX</td>\n",
       "      <td>Match 1</td>\n",
       "      <td>3292</td>\n",
       "      <td>11</td>\n",
       "      <td>nan</td>\n",
       "      <td>3292</td>\n",
       "      <td>X11</td>\n",
       "    </tr>\n",
       "    <tr>\n",
       "      <th>61</th>\n",
       "      <td>5</td>\n",
       "      <td>YZ</td>\n",
       "      <td>Match 2</td>\n",
       "      <td>3292</td>\n",
       "      <td>11</td>\n",
       "      <td>nan</td>\n",
       "      <td>3292</td>\n",
       "      <td>X11</td>\n",
       "    </tr>\n",
       "    <tr>\n",
       "      <th>62</th>\n",
       "      <td>6</td>\n",
       "      <td>CH</td>\n",
       "      <td>Match 1</td>\n",
       "      <td>3292</td>\n",
       "      <td>11</td>\n",
       "      <td>nan</td>\n",
       "      <td>3292</td>\n",
       "      <td>X11</td>\n",
       "    </tr>\n",
       "  </tbody>\n",
       "</table>\n",
       "<p>63 rows × 8 columns</p>\n",
       "</div>"
      ],
      "text/plain": [
       "   Round Region    Match Winner Rank SlotNum  TeamID Seed\n",
       "0      1      W  Match 1   3313   16       1    3313  W16\n",
       "1      1      W  Match 2   3221   15       2    3221  W15\n",
       "2      1      W  Match 3   3381   14       3    3381  W14\n",
       "3      1      W  Match 4   3170   13       4    3170  W13\n",
       "4      1      W  Match 5   3339   12       5    3339  W12\n",
       "..   ...    ...      ...    ...  ...     ...     ...  ...\n",
       "58     4      Y  Match 1   3424   11       1    3424  Y11\n",
       "59     4      Z  Match 1   3385   11       1    3385  Z11\n",
       "60     5     WX  Match 1   3292   11     nan    3292  X11\n",
       "61     5     YZ  Match 2   3292   11     nan    3292  X11\n",
       "62     6     CH  Match 1   3292   11     nan    3292  X11\n",
       "\n",
       "[63 rows x 8 columns]"
      ]
     },
     "execution_count": 48,
     "metadata": {},
     "output_type": "execute_result"
    }
   ],
   "source": [
    "winners_info_W = pd.merge(winners_df_W,seeds_2024_W[['TeamID','Seed']],left_on=['Winner'], right_on=['TeamID'], how='left')\n",
    "winners_info_W = winners_info_W.rename(columns={'Seed_x':'Rank','Seed_y':'Seed'})\n",
    "winners_info_W['SlotNum'] = winners_info_W['SlotNum'].astype(str).apply(lambda x: x.rstrip('0').rstrip('.'))\n",
    "\n",
    "winners_info_W"
   ]
  },
  {
   "cell_type": "code",
   "execution_count": 49,
   "id": "7c992ce7",
   "metadata": {
    "execution": {
     "iopub.execute_input": "2024-03-16T17:55:36.668718Z",
     "iopub.status.busy": "2024-03-16T17:55:36.667940Z",
     "iopub.status.idle": "2024-03-16T17:55:36.756601Z",
     "shell.execute_reply": "2024-03-16T17:55:36.754970Z"
    },
    "papermill": {
     "duration": 0.197043,
     "end_time": "2024-03-16T17:55:36.759495",
     "exception": false,
     "start_time": "2024-03-16T17:55:36.562452",
     "status": "completed"
    },
    "tags": []
   },
   "outputs": [
    {
     "data": {
      "text/html": [
       "<div>\n",
       "<style scoped>\n",
       "    .dataframe tbody tr th:only-of-type {\n",
       "        vertical-align: middle;\n",
       "    }\n",
       "\n",
       "    .dataframe tbody tr th {\n",
       "        vertical-align: top;\n",
       "    }\n",
       "\n",
       "    .dataframe thead th {\n",
       "        text-align: right;\n",
       "    }\n",
       "</style>\n",
       "<table border=\"1\" class=\"dataframe\">\n",
       "  <thead>\n",
       "    <tr style=\"text-align: right;\">\n",
       "      <th></th>\n",
       "      <th>RowId</th>\n",
       "      <th>Tournament</th>\n",
       "      <th>Bracket</th>\n",
       "      <th>Slot</th>\n",
       "      <th>Team</th>\n",
       "    </tr>\n",
       "  </thead>\n",
       "  <tbody>\n",
       "    <tr>\n",
       "      <th>32</th>\n",
       "      <td>32</td>\n",
       "      <td>W</td>\n",
       "      <td>1</td>\n",
       "      <td>R2W1</td>\n",
       "      <td>W09</td>\n",
       "    </tr>\n",
       "    <tr>\n",
       "      <th>33</th>\n",
       "      <td>33</td>\n",
       "      <td>W</td>\n",
       "      <td>1</td>\n",
       "      <td>R2W2</td>\n",
       "      <td>W10</td>\n",
       "    </tr>\n",
       "    <tr>\n",
       "      <th>34</th>\n",
       "      <td>34</td>\n",
       "      <td>W</td>\n",
       "      <td>1</td>\n",
       "      <td>R2W3</td>\n",
       "      <td>W11</td>\n",
       "    </tr>\n",
       "    <tr>\n",
       "      <th>35</th>\n",
       "      <td>35</td>\n",
       "      <td>W</td>\n",
       "      <td>1</td>\n",
       "      <td>R2W4</td>\n",
       "      <td>W12</td>\n",
       "    </tr>\n",
       "    <tr>\n",
       "      <th>36</th>\n",
       "      <td>36</td>\n",
       "      <td>W</td>\n",
       "      <td>1</td>\n",
       "      <td>R2X1</td>\n",
       "      <td>X09</td>\n",
       "    </tr>\n",
       "    <tr>\n",
       "      <th>37</th>\n",
       "      <td>37</td>\n",
       "      <td>W</td>\n",
       "      <td>1</td>\n",
       "      <td>R2X2</td>\n",
       "      <td>X10</td>\n",
       "    </tr>\n",
       "    <tr>\n",
       "      <th>38</th>\n",
       "      <td>38</td>\n",
       "      <td>W</td>\n",
       "      <td>1</td>\n",
       "      <td>R2X3</td>\n",
       "      <td>X11</td>\n",
       "    </tr>\n",
       "    <tr>\n",
       "      <th>39</th>\n",
       "      <td>39</td>\n",
       "      <td>W</td>\n",
       "      <td>1</td>\n",
       "      <td>R2X4</td>\n",
       "      <td>X12</td>\n",
       "    </tr>\n",
       "    <tr>\n",
       "      <th>40</th>\n",
       "      <td>40</td>\n",
       "      <td>W</td>\n",
       "      <td>1</td>\n",
       "      <td>R2Y1</td>\n",
       "      <td>Y09</td>\n",
       "    </tr>\n",
       "    <tr>\n",
       "      <th>41</th>\n",
       "      <td>41</td>\n",
       "      <td>W</td>\n",
       "      <td>1</td>\n",
       "      <td>R2Y2</td>\n",
       "      <td>Y10</td>\n",
       "    </tr>\n",
       "    <tr>\n",
       "      <th>42</th>\n",
       "      <td>42</td>\n",
       "      <td>W</td>\n",
       "      <td>1</td>\n",
       "      <td>R2Y3</td>\n",
       "      <td>Y11</td>\n",
       "    </tr>\n",
       "    <tr>\n",
       "      <th>43</th>\n",
       "      <td>43</td>\n",
       "      <td>W</td>\n",
       "      <td>1</td>\n",
       "      <td>R2Y4</td>\n",
       "      <td>Y12</td>\n",
       "    </tr>\n",
       "    <tr>\n",
       "      <th>44</th>\n",
       "      <td>44</td>\n",
       "      <td>W</td>\n",
       "      <td>1</td>\n",
       "      <td>R2Z1</td>\n",
       "      <td>Z09</td>\n",
       "    </tr>\n",
       "    <tr>\n",
       "      <th>45</th>\n",
       "      <td>45</td>\n",
       "      <td>W</td>\n",
       "      <td>1</td>\n",
       "      <td>R2Z2</td>\n",
       "      <td>Z15</td>\n",
       "    </tr>\n",
       "    <tr>\n",
       "      <th>46</th>\n",
       "      <td>46</td>\n",
       "      <td>W</td>\n",
       "      <td>1</td>\n",
       "      <td>R2Z3</td>\n",
       "      <td>Z11</td>\n",
       "    </tr>\n",
       "    <tr>\n",
       "      <th>47</th>\n",
       "      <td>47</td>\n",
       "      <td>W</td>\n",
       "      <td>1</td>\n",
       "      <td>R2Z4</td>\n",
       "      <td>Z12</td>\n",
       "    </tr>\n",
       "    <tr>\n",
       "      <th>48</th>\n",
       "      <td>48</td>\n",
       "      <td>W</td>\n",
       "      <td>1</td>\n",
       "      <td>R3W1</td>\n",
       "      <td>W12</td>\n",
       "    </tr>\n",
       "    <tr>\n",
       "      <th>49</th>\n",
       "      <td>49</td>\n",
       "      <td>W</td>\n",
       "      <td>1</td>\n",
       "      <td>R3W2</td>\n",
       "      <td>W11</td>\n",
       "    </tr>\n",
       "    <tr>\n",
       "      <th>50</th>\n",
       "      <td>50</td>\n",
       "      <td>W</td>\n",
       "      <td>1</td>\n",
       "      <td>R3X1</td>\n",
       "      <td>X12</td>\n",
       "    </tr>\n",
       "    <tr>\n",
       "      <th>51</th>\n",
       "      <td>51</td>\n",
       "      <td>W</td>\n",
       "      <td>1</td>\n",
       "      <td>R3X2</td>\n",
       "      <td>X11</td>\n",
       "    </tr>\n",
       "    <tr>\n",
       "      <th>52</th>\n",
       "      <td>52</td>\n",
       "      <td>W</td>\n",
       "      <td>1</td>\n",
       "      <td>R3Y1</td>\n",
       "      <td>Y12</td>\n",
       "    </tr>\n",
       "    <tr>\n",
       "      <th>53</th>\n",
       "      <td>53</td>\n",
       "      <td>W</td>\n",
       "      <td>1</td>\n",
       "      <td>R3Y2</td>\n",
       "      <td>Y11</td>\n",
       "    </tr>\n",
       "    <tr>\n",
       "      <th>54</th>\n",
       "      <td>54</td>\n",
       "      <td>W</td>\n",
       "      <td>1</td>\n",
       "      <td>R3Z1</td>\n",
       "      <td>Z12</td>\n",
       "    </tr>\n",
       "    <tr>\n",
       "      <th>55</th>\n",
       "      <td>55</td>\n",
       "      <td>W</td>\n",
       "      <td>1</td>\n",
       "      <td>R3Z2</td>\n",
       "      <td>Z11</td>\n",
       "    </tr>\n",
       "    <tr>\n",
       "      <th>56</th>\n",
       "      <td>56</td>\n",
       "      <td>W</td>\n",
       "      <td>1</td>\n",
       "      <td>R4W1</td>\n",
       "      <td>W11</td>\n",
       "    </tr>\n",
       "    <tr>\n",
       "      <th>57</th>\n",
       "      <td>57</td>\n",
       "      <td>W</td>\n",
       "      <td>1</td>\n",
       "      <td>R4X1</td>\n",
       "      <td>X11</td>\n",
       "    </tr>\n",
       "    <tr>\n",
       "      <th>58</th>\n",
       "      <td>58</td>\n",
       "      <td>W</td>\n",
       "      <td>1</td>\n",
       "      <td>R4Y1</td>\n",
       "      <td>Y11</td>\n",
       "    </tr>\n",
       "    <tr>\n",
       "      <th>59</th>\n",
       "      <td>59</td>\n",
       "      <td>W</td>\n",
       "      <td>1</td>\n",
       "      <td>R4Z1</td>\n",
       "      <td>Z11</td>\n",
       "    </tr>\n",
       "    <tr>\n",
       "      <th>60</th>\n",
       "      <td>60</td>\n",
       "      <td>W</td>\n",
       "      <td>1</td>\n",
       "      <td>R5WX</td>\n",
       "      <td>X11</td>\n",
       "    </tr>\n",
       "    <tr>\n",
       "      <th>61</th>\n",
       "      <td>61</td>\n",
       "      <td>W</td>\n",
       "      <td>1</td>\n",
       "      <td>R5YZ</td>\n",
       "      <td>X11</td>\n",
       "    </tr>\n",
       "    <tr>\n",
       "      <th>62</th>\n",
       "      <td>62</td>\n",
       "      <td>W</td>\n",
       "      <td>1</td>\n",
       "      <td>R6CH</td>\n",
       "      <td>X11</td>\n",
       "    </tr>\n",
       "  </tbody>\n",
       "</table>\n",
       "</div>"
      ],
      "text/plain": [
       "   RowId Tournament Bracket  Slot Team\n",
       "32    32          W       1  R2W1  W09\n",
       "33    33          W       1  R2W2  W10\n",
       "34    34          W       1  R2W3  W11\n",
       "35    35          W       1  R2W4  W12\n",
       "36    36          W       1  R2X1  X09\n",
       "37    37          W       1  R2X2  X10\n",
       "38    38          W       1  R2X3  X11\n",
       "39    39          W       1  R2X4  X12\n",
       "40    40          W       1  R2Y1  Y09\n",
       "41    41          W       1  R2Y2  Y10\n",
       "42    42          W       1  R2Y3  Y11\n",
       "43    43          W       1  R2Y4  Y12\n",
       "44    44          W       1  R2Z1  Z09\n",
       "45    45          W       1  R2Z2  Z15\n",
       "46    46          W       1  R2Z3  Z11\n",
       "47    47          W       1  R2Z4  Z12\n",
       "48    48          W       1  R3W1  W12\n",
       "49    49          W       1  R3W2  W11\n",
       "50    50          W       1  R3X1  X12\n",
       "51    51          W       1  R3X2  X11\n",
       "52    52          W       1  R3Y1  Y12\n",
       "53    53          W       1  R3Y2  Y11\n",
       "54    54          W       1  R3Z1  Z12\n",
       "55    55          W       1  R3Z2  Z11\n",
       "56    56          W       1  R4W1  W11\n",
       "57    57          W       1  R4X1  X11\n",
       "58    58          W       1  R4Y1  Y11\n",
       "59    59          W       1  R4Z1  Z11\n",
       "60    60          W       1  R5WX  X11\n",
       "61    61          W       1  R5YZ  X11\n",
       "62    62          W       1  R6CH  X11"
      ]
     },
     "execution_count": 49,
     "metadata": {},
     "output_type": "execute_result"
    }
   ],
   "source": [
    "def transform_to_desired_format(df):\n",
    "    transformed_df = pd.DataFrame(columns=['RowId', 'Tournament', 'Bracket', 'Slot', 'Team'])\n",
    "    \n",
    "    for index, row in df.iterrows():\n",
    "        if row['Round'] <= 4:\n",
    "            slot = f'R{row[\"Round\"]}{row[\"Region\"]}{str(row[\"SlotNum\"])}'\n",
    "            team = f'{row[\"Seed\"]}'\n",
    "        else:\n",
    "            slot = f'R{row[\"Round\"]}{row[\"Region\"]}'\n",
    "            team = f'{row[\"Seed\"]}'\n",
    "        \n",
    "        transformed_df = pd.concat([transformed_df, pd.DataFrame({\n",
    "            'RowId': [index],\n",
    "            'Tournament': ['W'],\n",
    "            'Bracket': [1],\n",
    "            'Slot': [slot],\n",
    "            'Team': [team]\n",
    "        })], ignore_index=True)\n",
    "    \n",
    "    return transformed_df\n",
    "\n",
    "submission_W = transform_to_desired_format(winners_info_W)\n",
    "submission_W.reset_index(drop=True, inplace=True)\n",
    "submission_W[32:65]"
   ]
  },
  {
   "cell_type": "code",
   "execution_count": 50,
   "id": "e4d06bd6",
   "metadata": {
    "execution": {
     "iopub.execute_input": "2024-03-16T17:55:36.973043Z",
     "iopub.status.busy": "2024-03-16T17:55:36.972183Z",
     "iopub.status.idle": "2024-03-16T17:55:36.984837Z",
     "shell.execute_reply": "2024-03-16T17:55:36.983238Z"
    },
    "papermill": {
     "duration": 0.121904,
     "end_time": "2024-03-16T17:55:36.987160",
     "exception": false,
     "start_time": "2024-03-16T17:55:36.865256",
     "status": "completed"
    },
    "tags": []
   },
   "outputs": [
    {
     "name": "stdout",
     "output_type": "stream",
     "text": [
      "     RowId Tournament Bracket  Slot Team\n",
      "0        0          M       1  R1W1  W16\n",
      "1        1          M       1  R1W2  W02\n",
      "2        2          M       1  R1W3  W03\n",
      "3        3          M       1  R1W4  W13\n",
      "4        4          M       1  R1W5  W05\n",
      "..     ...        ...     ...   ...  ...\n",
      "121    121          W       1  R4Y1  Y11\n",
      "122    122          W       1  R4Z1  Z11\n",
      "123    123          W       1  R5WX  X11\n",
      "124    124          W       1  R5YZ  X11\n",
      "125    125          W       1  R6CH  X11\n",
      "\n",
      "[126 rows x 5 columns]\n"
     ]
    }
   ],
   "source": [
    "submission = pd.concat([submission_M, submission_W], ignore_index=True)\n",
    "submission['RowId'] = range(len(submission))\n",
    "print(submission)"
   ]
  },
  {
   "cell_type": "code",
   "execution_count": 51,
   "id": "50ade30c",
   "metadata": {
    "execution": {
     "iopub.execute_input": "2024-03-16T17:55:37.202867Z",
     "iopub.status.busy": "2024-03-16T17:55:37.201574Z",
     "iopub.status.idle": "2024-03-16T17:55:37.211232Z",
     "shell.execute_reply": "2024-03-16T17:55:37.210360Z"
    },
    "papermill": {
     "duration": 0.119487,
     "end_time": "2024-03-16T17:55:37.213622",
     "exception": false,
     "start_time": "2024-03-16T17:55:37.094135",
     "status": "completed"
    },
    "tags": []
   },
   "outputs": [],
   "source": [
    "submission.to_csv('submission.csv', index=False)\n"
   ]
  },
  {
   "cell_type": "code",
   "execution_count": null,
   "id": "c49648a4",
   "metadata": {
    "papermill": {
     "duration": 0.107758,
     "end_time": "2024-03-16T17:55:37.428769",
     "exception": false,
     "start_time": "2024-03-16T17:55:37.321011",
     "status": "completed"
    },
    "tags": []
   },
   "outputs": [],
   "source": []
  }
 ],
 "metadata": {
  "kaggle": {
   "accelerator": "none",
   "dataSources": [
    {
     "databundleVersionId": 7965257,
     "sourceId": 70068,
     "sourceType": "competition"
    }
   ],
   "dockerImageVersionId": 30664,
   "isGpuEnabled": false,
   "isInternetEnabled": false,
   "language": "python",
   "sourceType": "notebook"
  },
  "kernelspec": {
   "display_name": "mmnacc",
   "language": "python",
   "name": "python3"
  },
  "language_info": {
   "codemirror_mode": {
    "name": "ipython",
    "version": 3
   },
   "file_extension": ".py",
   "mimetype": "text/x-python",
   "name": "python",
   "nbconvert_exporter": "python",
   "pygments_lexer": "ipython3",
   "version": "3.12.5"
  },
  "papermill": {
   "default_parameters": {},
   "duration": 91.230711,
   "end_time": "2024-03-16T17:55:40.095464",
   "environment_variables": {},
   "exception": null,
   "input_path": "__notebook__.ipynb",
   "output_path": "__notebook__.ipynb",
   "parameters": {},
   "start_time": "2024-03-16T17:54:08.864753",
   "version": "2.5.0"
  }
 },
 "nbformat": 4,
 "nbformat_minor": 5
}
